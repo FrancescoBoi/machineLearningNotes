{
 "cells": [
  {
   "cell_type": "code",
   "execution_count": 3,
   "metadata": {},
   "outputs": [],
   "source": [
    "import numpy as np\n",
    "from sklearn.datasets import load_iris\n",
    "from sklearn.linear_model import Perceptron\n",
    "import matplotlib.pyplot as plt\n",
    "import pandas as pd\n",
    "import tensorflow as tf\n",
    "from tensorflow import keras"
   ]
  },
  {
   "cell_type": "code",
   "execution_count": 4,
   "metadata": {},
   "outputs": [
    {
     "name": "stderr",
     "output_type": "stream",
     "text": [
      "/Users/fra/anaconda3/lib/python3.7/site-packages/sklearn/linear_model/stochastic_gradient.py:166: FutureWarning: max_iter and tol parameters have been added in Perceptron in 0.19. If both are left unset, they default to max_iter=5 and tol=None. If tol is not None, max_iter defaults to max_iter=1000. From 0.21, default max_iter will be 1000, and default tol will be 1e-3.\n",
      "  FutureWarning)\n"
     ]
    }
   ],
   "source": [
    "iris = load_iris()\n",
    "X = iris.data[:, (2,3)];\n",
    "y = (iris.target==0).astype(np.int);\n",
    "per_clf = Perceptron();\n",
    "per_clf.fit(X,y);\n",
    "y_pred = per_clf.predict([[2, 0.5]]);"
   ]
  },
  {
   "cell_type": "markdown",
   "metadata": {},
   "source": [
    "In fact, Scikit-Learn’s Perceptron class is equivalent to using an `SGDClassifier` with the following hyperparameters: `loss=\"perceptron`, `learning_rate=\"constant`, `eta0=1` (the learning rate), and `penalty=None` (no regularization).\n",
    "\n",
    "Contrary to Logistic Regression classifiers, Perceptrons do not output a class probability; rather, they just make predictions based on a hard threshold. This is one of the good reasons to prefer Logistic Regression over Perceptrons.\n",
    "\n",
    "There exist some weaknesses for Perceptrons, in particular the fact that they are incapable of solving some trivial problems (e.g., the Exclusive OR (XOR) classification problem). Of course this is true of any other linear classification model as well (such as Logistic Regression).\n",
    "\n",
    "However, it turns out that some of the limitations of Perceptrons can be eliminated by stacking multiple Perceptrons. "
   ]
  },
  {
   "cell_type": "code",
   "execution_count": 5,
   "metadata": {},
   "outputs": [
    {
     "name": "stdout",
     "output_type": "stream",
     "text": [
      "2.1.0 2.2.4-tf\n"
     ]
    }
   ],
   "source": [
    "\n",
    "print(tf.__version__,keras.__version__)"
   ]
  },
  {
   "cell_type": "code",
   "execution_count": 6,
   "metadata": {},
   "outputs": [],
   "source": [
    " fashion_mnist = keras.datasets.fashion_mnist"
   ]
  },
  {
   "cell_type": "code",
   "execution_count": 7,
   "metadata": {},
   "outputs": [],
   "source": [
    "(X_train_full, y_train_full), (X_test, y_test) = fashion_mnist.load_data();"
   ]
  },
  {
   "cell_type": "code",
   "execution_count": 8,
   "metadata": {},
   "outputs": [
    {
     "data": {
      "text/plain": [
       "(60000, 28, 28)"
      ]
     },
     "execution_count": 8,
     "metadata": {},
     "output_type": "execute_result"
    }
   ],
   "source": [
    "X_train_full.shape"
   ]
  },
  {
   "cell_type": "code",
   "execution_count": 9,
   "metadata": {},
   "outputs": [],
   "source": [
    "X_valid, X_train = X_train_full[:5000]/255., X_train_full[5000:]/255."
   ]
  },
  {
   "cell_type": "code",
   "execution_count": 10,
   "metadata": {},
   "outputs": [],
   "source": [
    "y_valid, y_train = y_train_full[:5000], y_train_full[5000:]"
   ]
  },
  {
   "cell_type": "code",
   "execution_count": 11,
   "metadata": {},
   "outputs": [
    {
     "data": {
      "text/plain": [
       "'Coat'"
      ]
     },
     "execution_count": 11,
     "metadata": {},
     "output_type": "execute_result"
    }
   ],
   "source": [
    "class_names = [\"T-shirt/top\", \"Trouser\", \"Pullover\", \"Dress\", \"Coat\",\n",
    "                   \"Sandal\", \"Shirt\", \"Sneaker\", \"Bag\", \"Ankle boot\"];\n",
    "class_names[y_train[0]]"
   ]
  },
  {
   "cell_type": "code",
   "execution_count": 12,
   "metadata": {},
   "outputs": [
    {
     "data": {
      "text/plain": [
       "array([9, 0, 0, ..., 3, 0, 5], dtype=uint8)"
      ]
     },
     "execution_count": 12,
     "metadata": {},
     "output_type": "execute_result"
    }
   ],
   "source": [
    "y_train_full"
   ]
  },
  {
   "cell_type": "code",
   "execution_count": 13,
   "metadata": {},
   "outputs": [],
   "source": [
    "#neural network just composed of a single stack of layers, connected sequentially\n",
    "model = keras.models.Sequential();\n",
    "#latten layer whose role is simply to convert each input image into a 1D array\n",
    "#if it receives input data X, it computes X.reshape(-1, 1). This layer does not have \n",
    "#any parameters, it is just there to do some simple preprocessing. Since it is the\n",
    "#first layer in the model, you should specify the input_shape:\n",
    "#Alternatively, you could add a keras.layers.InputLayer as the first layer,\n",
    "model.add(keras.layers.Flatten(input_shape=[28, 28]));\n",
    "model.add(keras.layers.Dense(300, activation='relu'));\n",
    "model.add(keras.layers.Dense(100, activation='relu'));\n",
    "# one outut neuron per class\n",
    "model.add(keras.layers.Dense(10, activation='softmax'));"
   ]
  },
  {
   "cell_type": "markdown",
   "metadata": {},
   "source": [
    "Instead of adding the layers one by one as we just did, you can pass a list of layers when creating the Sequential model:"
   ]
  },
  {
   "cell_type": "code",
   "execution_count": 14,
   "metadata": {},
   "outputs": [],
   "source": [
    "model = keras.models.Sequential([\n",
    "    keras.layers.Flatten(input_shape=[28,28]),\n",
    "    keras.layers.Dense(300, activation='relu'),\n",
    "    keras.layers.Dense(100, activation='relu'),\n",
    "    keras.layers.Dense(10, activation=\"softmax\")\n",
    "    ]);"
   ]
  },
  {
   "cell_type": "code",
   "execution_count": 15,
   "metadata": {},
   "outputs": [
    {
     "name": "stdout",
     "output_type": "stream",
     "text": [
      "Model: \"sequential_1\"\n",
      "_________________________________________________________________\n",
      "Layer (type)                 Output Shape              Param #   \n",
      "=================================================================\n",
      "flatten_1 (Flatten)          (None, 784)               0         \n",
      "_________________________________________________________________\n",
      "dense_3 (Dense)              (None, 300)               235500    \n",
      "_________________________________________________________________\n",
      "dense_4 (Dense)              (None, 100)               30100     \n",
      "_________________________________________________________________\n",
      "dense_5 (Dense)              (None, 10)                1010      \n",
      "=================================================================\n",
      "Total params: 266,610\n",
      "Trainable params: 266,610\n",
      "Non-trainable params: 0\n",
      "_________________________________________________________________\n"
     ]
    }
   ],
   "source": [
    "model.summary()"
   ]
  },
  {
   "cell_type": "code",
   "execution_count": 16,
   "metadata": {},
   "outputs": [
    {
     "data": {
      "text/plain": [
       "[<tensorflow.python.keras.layers.core.Flatten at 0x14abbdda0>,\n",
       " <tensorflow.python.keras.layers.core.Dense at 0x1647b1668>,\n",
       " <tensorflow.python.keras.layers.core.Dense at 0x1647b1978>,\n",
       " <tensorflow.python.keras.layers.core.Dense at 0x1649b9240>]"
      ]
     },
     "execution_count": 16,
     "metadata": {},
     "output_type": "execute_result"
    }
   ],
   "source": [
    " model.layers"
   ]
  },
  {
   "cell_type": "code",
   "execution_count": 17,
   "metadata": {},
   "outputs": [
    {
     "data": {
      "text/plain": [
       "'flatten_1'"
      ]
     },
     "execution_count": 17,
     "metadata": {},
     "output_type": "execute_result"
    }
   ],
   "source": [
    "model.layers[0].name"
   ]
  },
  {
   "cell_type": "markdown",
   "metadata": {},
   "source": [
    "All the parameters of a layer can be accessed using its `get_weights()` and `set_weights()` method"
   ]
  },
  {
   "cell_type": "code",
   "execution_count": 18,
   "metadata": {},
   "outputs": [
    {
     "data": {
      "text/plain": [
       "[array([[-0.00750139,  0.05208854, -0.06803954, ...,  0.05454348,\n",
       "         -0.01365226,  0.013699  ],\n",
       "        [-0.01832159, -0.06986311, -0.00057953, ..., -0.04880586,\n",
       "         -0.02773645,  0.05937293],\n",
       "        [ 0.03042196,  0.06486151,  0.0046051 , ...,  0.0314239 ,\n",
       "         -0.06000398,  0.00875198],\n",
       "        ...,\n",
       "        [-0.02748642,  0.05775917,  0.01107278, ..., -0.06861664,\n",
       "         -0.04925692, -0.0730875 ],\n",
       "        [-0.00158256,  0.01777094, -0.00142841, ...,  0.0132817 ,\n",
       "          0.02905867,  0.05647796],\n",
       "        [-0.01021216,  0.06663913,  0.0617533 , ..., -0.01564594,\n",
       "         -0.06532486,  0.0603542 ]], dtype=float32),\n",
       " array([0., 0., 0., 0., 0., 0., 0., 0., 0., 0., 0., 0., 0., 0., 0., 0., 0.,\n",
       "        0., 0., 0., 0., 0., 0., 0., 0., 0., 0., 0., 0., 0., 0., 0., 0., 0.,\n",
       "        0., 0., 0., 0., 0., 0., 0., 0., 0., 0., 0., 0., 0., 0., 0., 0., 0.,\n",
       "        0., 0., 0., 0., 0., 0., 0., 0., 0., 0., 0., 0., 0., 0., 0., 0., 0.,\n",
       "        0., 0., 0., 0., 0., 0., 0., 0., 0., 0., 0., 0., 0., 0., 0., 0., 0.,\n",
       "        0., 0., 0., 0., 0., 0., 0., 0., 0., 0., 0., 0., 0., 0., 0., 0., 0.,\n",
       "        0., 0., 0., 0., 0., 0., 0., 0., 0., 0., 0., 0., 0., 0., 0., 0., 0.,\n",
       "        0., 0., 0., 0., 0., 0., 0., 0., 0., 0., 0., 0., 0., 0., 0., 0., 0.,\n",
       "        0., 0., 0., 0., 0., 0., 0., 0., 0., 0., 0., 0., 0., 0., 0., 0., 0.,\n",
       "        0., 0., 0., 0., 0., 0., 0., 0., 0., 0., 0., 0., 0., 0., 0., 0., 0.,\n",
       "        0., 0., 0., 0., 0., 0., 0., 0., 0., 0., 0., 0., 0., 0., 0., 0., 0.,\n",
       "        0., 0., 0., 0., 0., 0., 0., 0., 0., 0., 0., 0., 0., 0., 0., 0., 0.,\n",
       "        0., 0., 0., 0., 0., 0., 0., 0., 0., 0., 0., 0., 0., 0., 0., 0., 0.,\n",
       "        0., 0., 0., 0., 0., 0., 0., 0., 0., 0., 0., 0., 0., 0., 0., 0., 0.,\n",
       "        0., 0., 0., 0., 0., 0., 0., 0., 0., 0., 0., 0., 0., 0., 0., 0., 0.,\n",
       "        0., 0., 0., 0., 0., 0., 0., 0., 0., 0., 0., 0., 0., 0., 0., 0., 0.,\n",
       "        0., 0., 0., 0., 0., 0., 0., 0., 0., 0., 0., 0., 0., 0., 0., 0., 0.,\n",
       "        0., 0., 0., 0., 0., 0., 0., 0., 0., 0., 0.], dtype=float32)]"
      ]
     },
     "execution_count": 18,
     "metadata": {},
     "output_type": "execute_result"
    }
   ],
   "source": [
    "model.layers[1].get_weights()"
   ]
  },
  {
   "cell_type": "code",
   "execution_count": 19,
   "metadata": {},
   "outputs": [],
   "source": [
    "model.compile(loss='sparse_categorical_crossentropy', optimizer='sgd', metrics=[\"accuracy\"]);"
   ]
  },
  {
   "cell_type": "markdown",
   "metadata": {},
   "source": [
    "We use `sparse_categorical_crossentropy` loss because we have sparse labels and the classes are esclusive.\n",
    "\n",
    "If instead we had one target probability per class for each instance (such as one-hot vectors, e.g. `[0., 0., 0., 1., 0., 0., 0., 0., 0., 0.]` to represent class 3), then we would need to use the `categorical_crossentropy` loss instead. If we were doing binary classi‐ fication (with one or more binary labels), then we would use the `sigmoid`."
   ]
  },
  {
   "cell_type": "code",
   "execution_count": 20,
   "metadata": {},
   "outputs": [
    {
     "name": "stdout",
     "output_type": "stream",
     "text": [
      "Train on 55000 samples, validate on 5000 samples\n",
      "Epoch 1/30\n",
      "55000/55000 [==============================] - 3s 54us/sample - loss: 0.7118 - accuracy: 0.7676 - val_loss: 0.5169 - val_accuracy: 0.8196\n",
      "Epoch 2/30\n",
      "55000/55000 [==============================] - 2s 44us/sample - loss: 0.4843 - accuracy: 0.8313 - val_loss: 0.4326 - val_accuracy: 0.8544\n",
      "Epoch 3/30\n",
      "55000/55000 [==============================] - 2s 44us/sample - loss: 0.4397 - accuracy: 0.8473 - val_loss: 0.4130 - val_accuracy: 0.8602\n",
      "Epoch 4/30\n",
      "55000/55000 [==============================] - 2s 43us/sample - loss: 0.4111 - accuracy: 0.8546 - val_loss: 0.4145 - val_accuracy: 0.8540\n",
      "Epoch 5/30\n",
      "55000/55000 [==============================] - 2s 44us/sample - loss: 0.3911 - accuracy: 0.8615 - val_loss: 0.3808 - val_accuracy: 0.8680\n",
      "Epoch 6/30\n",
      "55000/55000 [==============================] - 2s 44us/sample - loss: 0.3752 - accuracy: 0.8685 - val_loss: 0.3704 - val_accuracy: 0.8726\n",
      "Epoch 7/30\n",
      "55000/55000 [==============================] - 2s 44us/sample - loss: 0.3620 - accuracy: 0.8710 - val_loss: 0.3796 - val_accuracy: 0.8648\n",
      "Epoch 8/30\n",
      "55000/55000 [==============================] - 2s 45us/sample - loss: 0.3522 - accuracy: 0.8754 - val_loss: 0.3486 - val_accuracy: 0.8798\n",
      "Epoch 9/30\n",
      "55000/55000 [==============================] - 2s 45us/sample - loss: 0.3414 - accuracy: 0.8791 - val_loss: 0.3530 - val_accuracy: 0.8760\n",
      "Epoch 10/30\n",
      "55000/55000 [==============================] - 3s 48us/sample - loss: 0.3328 - accuracy: 0.8812 - val_loss: 0.3371 - val_accuracy: 0.8806\n",
      "Epoch 11/30\n",
      "55000/55000 [==============================] - 3s 58us/sample - loss: 0.3243 - accuracy: 0.8844 - val_loss: 0.3381 - val_accuracy: 0.8784\n",
      "Epoch 12/30\n",
      "55000/55000 [==============================] - 3s 50us/sample - loss: 0.3163 - accuracy: 0.8861 - val_loss: 0.3332 - val_accuracy: 0.8824\n",
      "Epoch 13/30\n",
      "55000/55000 [==============================] - 3s 50us/sample - loss: 0.3091 - accuracy: 0.8889 - val_loss: 0.3409 - val_accuracy: 0.8774\n",
      "Epoch 14/30\n",
      "55000/55000 [==============================] - 3s 52us/sample - loss: 0.3028 - accuracy: 0.8892 - val_loss: 0.3300 - val_accuracy: 0.8816\n",
      "Epoch 15/30\n",
      "55000/55000 [==============================] - 3s 49us/sample - loss: 0.2961 - accuracy: 0.8933 - val_loss: 0.3229 - val_accuracy: 0.8826\n",
      "Epoch 16/30\n",
      "55000/55000 [==============================] - 3s 48us/sample - loss: 0.2900 - accuracy: 0.8957 - val_loss: 0.3267 - val_accuracy: 0.8836\n",
      "Epoch 17/30\n",
      "55000/55000 [==============================] - 3s 50us/sample - loss: 0.2845 - accuracy: 0.8974 - val_loss: 0.3117 - val_accuracy: 0.8864\n",
      "Epoch 18/30\n",
      "55000/55000 [==============================] - 3s 49us/sample - loss: 0.2786 - accuracy: 0.8983 - val_loss: 0.3252 - val_accuracy: 0.8848\n",
      "Epoch 19/30\n",
      "55000/55000 [==============================] - 3s 50us/sample - loss: 0.2732 - accuracy: 0.9025 - val_loss: 0.3096 - val_accuracy: 0.8910\n",
      "Epoch 20/30\n",
      "55000/55000 [==============================] - 3s 50us/sample - loss: 0.2676 - accuracy: 0.9031 - val_loss: 0.3384 - val_accuracy: 0.8740\n",
      "Epoch 21/30\n",
      "55000/55000 [==============================] - 3s 51us/sample - loss: 0.2635 - accuracy: 0.9038 - val_loss: 0.3039 - val_accuracy: 0.8906\n",
      "Epoch 22/30\n",
      "55000/55000 [==============================] - 3s 49us/sample - loss: 0.2580 - accuracy: 0.9071 - val_loss: 0.3054 - val_accuracy: 0.8900\n",
      "Epoch 23/30\n",
      "55000/55000 [==============================] - 3s 50us/sample - loss: 0.2545 - accuracy: 0.9075 - val_loss: 0.3031 - val_accuracy: 0.8928\n",
      "Epoch 24/30\n",
      "55000/55000 [==============================] - 3s 52us/sample - loss: 0.2491 - accuracy: 0.9098 - val_loss: 0.3101 - val_accuracy: 0.8900\n",
      "Epoch 25/30\n",
      "55000/55000 [==============================] - 3s 51us/sample - loss: 0.2457 - accuracy: 0.9112 - val_loss: 0.3021 - val_accuracy: 0.8876\n",
      "Epoch 26/30\n",
      "55000/55000 [==============================] - 3s 50us/sample - loss: 0.2415 - accuracy: 0.9135 - val_loss: 0.3043 - val_accuracy: 0.8922\n",
      "Epoch 27/30\n",
      "55000/55000 [==============================] - 3s 49us/sample - loss: 0.2375 - accuracy: 0.9136 - val_loss: 0.2976 - val_accuracy: 0.8934\n",
      "Epoch 28/30\n",
      "55000/55000 [==============================] - 3s 50us/sample - loss: 0.2347 - accuracy: 0.9154 - val_loss: 0.3440 - val_accuracy: 0.8720\n",
      "Epoch 29/30\n",
      "55000/55000 [==============================] - 3s 48us/sample - loss: 0.2302 - accuracy: 0.9175 - val_loss: 0.3047 - val_accuracy: 0.8934\n",
      "Epoch 30/30\n",
      "55000/55000 [==============================] - 3s 49us/sample - loss: 0.2259 - accuracy: 0.9183 - val_loss: 0.3092 - val_accuracy: 0.8866\n"
     ]
    }
   ],
   "source": [
    "hist_obj = model.fit(X_train, y_train, epochs=30, validation_data=(X_valid, y_valid));\n",
    "#history  = model.fit(X_train, y_train, epochs=30, validation_data=(X_valid, y_valid))"
   ]
  },
  {
   "cell_type": "markdown",
   "metadata": {},
   "source": [
    "If the training set was very skewed, with some classes being overrepresented and oth‐ ers underrepresented, it would be useful to set the class_weight argument when calling the fit() method, giving a larger weight to underrepresented classes, and a lower weight to overrepresented classes. These weights would be used by Keras when computing the loss. \n",
    "\n",
    "If you need per-instance weights instead, you can set the sam ple_weight argument. You can also provide sample weights (but not class weights) for the validation set by adding them as a third item in the `validation_data` tuple."
   ]
  },
  {
   "cell_type": "code",
   "execution_count": 21,
   "metadata": {},
   "outputs": [
    {
     "data": {
      "image/png": "[encoded data removed]",
      "text/plain": [
       "<Figure size 576x360 with 1 Axes>"
      ]
     },
     "metadata": {
      "needs_background": "light"
     },
     "output_type": "display_data"
    }
   ],
   "source": [
    "history = hist_obj\n",
    "pd.DataFrame(history.history).plot(figsize=(8, 5)) \n",
    "plt.grid(True)\n",
    "plt.gca().set_ylim(0, 1) # set the vertical range to [0-1] \n",
    "plt.show()"
   ]
  },
  {
   "cell_type": "code",
   "execution_count": 22,
   "metadata": {},
   "outputs": [
    {
     "name": "stdout",
     "output_type": "stream",
     "text": [
      "10000/10000 [==============================] - 0s 35us/sample - loss: 66.8660 - accuracy: 0.8416\n"
     ]
    },
    {
     "data": {
      "text/plain": [
       "[66.86598207092285, 0.8416]"
      ]
     },
     "execution_count": 22,
     "metadata": {},
     "output_type": "execute_result"
    }
   ],
   "source": [
    "model.evaluate(X_test, y_test)"
   ]
  },
  {
   "cell_type": "code",
   "execution_count": 23,
   "metadata": {},
   "outputs": [
    {
     "data": {
      "text/plain": [
       "array([[0., 0., 0., 0., 0., 0., 0., 0., 0., 1.],\n",
       "       [0., 0., 1., 0., 0., 0., 0., 0., 0., 0.],\n",
       "       [0., 1., 0., 0., 0., 0., 0., 0., 0., 0.]], dtype=float32)"
      ]
     },
     "execution_count": 23,
     "metadata": {},
     "output_type": "execute_result"
    }
   ],
   "source": [
    "X_new = X_test[:3]\n",
    "y_proba = model.predict(X_new)\n",
    "y_proba.round(2)"
   ]
  },
  {
   "cell_type": "markdown",
   "metadata": {},
   "source": [
    "If you only care about the class with the highest estima‐ ted probability (even if that probability is quite low) then you can use the pre `dict_classes()`"
   ]
  },
  {
   "cell_type": "code",
   "execution_count": 24,
   "metadata": {},
   "outputs": [
    {
     "data": {
      "text/plain": [
       "array([9, 2, 1])"
      ]
     },
     "execution_count": 24,
     "metadata": {},
     "output_type": "execute_result"
    }
   ],
   "source": [
    "y_pred = model.predict_classes(X_new)\n",
    "y_pred"
   ]
  },
  {
   "cell_type": "code",
   "execution_count": 25,
   "metadata": {},
   "outputs": [
    {
     "data": {
      "text/plain": [
       "array(['Ankle boot', 'Pullover', 'Trouser'], dtype='<U11')"
      ]
     },
     "execution_count": 25,
     "metadata": {},
     "output_type": "execute_result"
    }
   ],
   "source": [
    "np.array(class_names)[y_pred]"
   ]
  },
  {
   "cell_type": "code",
   "execution_count": 26,
   "metadata": {},
   "outputs": [],
   "source": [
    "from sklearn.datasets import fetch_california_housing\n",
    "from sklearn.model_selection import train_test_split\n",
    "from sklearn.preprocessing import StandardScaler\n",
    "\n",
    "housing = fetch_california_housing()\n",
    "X_train_full, X_test, y_train_full, y_test = train_test_split(housing.data, housing.target);\n",
    "X_train, X_valid, y_train, y_valid = train_test_split(X_train_full, y_train_full);\n",
    "scaler = StandardScaler();\n",
    "X_train_scaled = scaler.fit_transform(X_train);\n",
    "#X_train_scaled = scaler.fit_transform(X_train)\n",
    "X_valid_scaled =  scaler.transform(X_valid);\n",
    "X_test_scaled =  scaler.transform(X_test);"
   ]
  },
  {
   "cell_type": "markdown",
   "metadata": {},
   "source": [
    "#### With respect to the book, batch_size has been set because otherwise the values were None"
   ]
  },
  {
   "cell_type": "markdown",
   "metadata": {},
   "source": [
    "Since the dataset is quite noisy, we just use a single hidden layer with fewer neurons than before, to avoid overfitting:"
   ]
  },
  {
   "cell_type": "code",
   "execution_count": 27,
   "metadata": {},
   "outputs": [
    {
     "data": {
      "text/plain": [
       "array([[   1.7743    ,   20.        ,    3.96111975, ...,    1.86469673,\n",
       "          32.76      , -117.08      ],\n",
       "       [   1.6354    ,   37.        ,    2.70588235, ...,    3.73333333,\n",
       "          34.01      , -118.16      ],\n",
       "       [   5.145     ,   19.        ,    4.21603261, ...,    1.66779891,\n",
       "          33.83      , -118.43      ],\n",
       "       ...,\n",
       "       [   5.0853    ,   26.        ,    5.91649695, ...,    2.95723014,\n",
       "          33.68      , -117.89      ],\n",
       "       [   4.4545    ,   24.        ,    4.49760766, ...,    2.31339713,\n",
       "          33.76      , -117.98      ],\n",
       "       [   3.6815    ,   17.        ,    4.76586433, ...,    2.35667396,\n",
       "          33.82      , -118.03      ]])"
      ]
     },
     "execution_count": 27,
     "metadata": {},
     "output_type": "execute_result"
    }
   ],
   "source": [
    "X_train"
   ]
  },
  {
   "cell_type": "code",
   "execution_count": 28,
   "metadata": {},
   "outputs": [
    {
     "name": "stdout",
     "output_type": "stream",
     "text": [
      "Train on 11610 samples, validate on 3870 samples\n",
      "Epoch 1/20\n",
      "11610/11610 [==============================] - 0s 26us/sample - loss: 1.3898 - val_loss: 1.2725\n",
      "Epoch 2/20\n",
      "11610/11610 [==============================] - 0s 9us/sample - loss: 0.6372 - val_loss: 0.6048\n",
      "Epoch 3/20\n",
      "11610/11610 [==============================] - 0s 9us/sample - loss: 0.5582 - val_loss: 0.5565\n",
      "Epoch 4/20\n",
      "11610/11610 [==============================] - 0s 9us/sample - loss: 0.5238 - val_loss: 0.5434\n",
      "Epoch 5/20\n",
      "11610/11610 [==============================] - 0s 8us/sample - loss: 0.5030 - val_loss: 0.5082\n",
      "Epoch 6/20\n",
      "11610/11610 [==============================] - 0s 9us/sample - loss: 0.4869 - val_loss: 0.5087\n",
      "Epoch 7/20\n",
      "11610/11610 [==============================] - 0s 8us/sample - loss: 0.4785 - val_loss: 0.4904\n",
      "Epoch 8/20\n",
      "11610/11610 [==============================] - 0s 9us/sample - loss: 0.4693 - val_loss: 0.4840\n",
      "Epoch 9/20\n",
      "11610/11610 [==============================] - 0s 8us/sample - loss: 0.4604 - val_loss: 0.4685\n",
      "Epoch 10/20\n",
      "11610/11610 [==============================] - 0s 8us/sample - loss: 0.4564 - val_loss: 0.4659\n",
      "Epoch 11/20\n",
      "11610/11610 [==============================] - 0s 8us/sample - loss: 0.4514 - val_loss: 0.4618\n",
      "Epoch 12/20\n",
      "11610/11610 [==============================] - 0s 8us/sample - loss: 0.4467 - val_loss: 0.4652\n",
      "Epoch 13/20\n",
      "11610/11610 [==============================] - 0s 8us/sample - loss: 0.4427 - val_loss: 0.4464\n",
      "Epoch 14/20\n",
      "11610/11610 [==============================] - 0s 8us/sample - loss: 0.4350 - val_loss: 0.4458\n",
      "Epoch 15/20\n",
      "11610/11610 [==============================] - 0s 8us/sample - loss: 0.4305 - val_loss: 0.4408\n",
      "Epoch 16/20\n",
      "11610/11610 [==============================] - 0s 8us/sample - loss: 0.4272 - val_loss: 0.4513\n",
      "Epoch 17/20\n",
      "11610/11610 [==============================] - 0s 8us/sample - loss: 0.4227 - val_loss: 0.4335\n",
      "Epoch 18/20\n",
      "11610/11610 [==============================] - 0s 8us/sample - loss: 0.4196 - val_loss: 0.4371\n",
      "Epoch 19/20\n",
      "11610/11610 [==============================] - 0s 8us/sample - loss: 0.4167 - val_loss: 0.4299\n",
      "Epoch 20/20\n",
      "11610/11610 [==============================] - 0s 8us/sample - loss: 0.4161 - val_loss: 0.4348\n",
      "5160/5160 [==============================] - 0s 17us/sample - loss: 0.4093\n"
     ]
    },
    {
     "data": {
      "text/plain": [
       "array([[2.5967293],\n",
       "       [2.7552896],\n",
       "       [2.7130415]], dtype=float32)"
      ]
     },
     "execution_count": 28,
     "metadata": {},
     "output_type": "execute_result"
    }
   ],
   "source": [
    "model = keras.models.Sequential([\n",
    "    keras.layers.Dense(30, activation='relu', input_shape=X_train.shape[1:]),\n",
    "    keras.layers.Dense(1)\n",
    "]);\n",
    "model.compile(loss='mean_squared_error', optimizer='sgd');\n",
    "history = model.fit(X_train_scaled, y_train, batch_size=128, epochs=20, validation_data=(X_valid_scaled, y_valid));\n",
    "mse_test= model.evaluate(X_test_scaled, y_test);\n",
    "X_new = X_test_scaled[:3];\n",
    "y_pred = model.predict(X_new);\n",
    "y_pred"
   ]
  },
  {
   "cell_type": "code",
   "execution_count": 29,
   "metadata": {},
   "outputs": [
    {
     "data": {
      "text/plain": [
       "array([[2.5967293],\n",
       "       [2.7552896],\n",
       "       [2.7130415]], dtype=float32)"
      ]
     },
     "execution_count": 29,
     "metadata": {},
     "output_type": "execute_result"
    }
   ],
   "source": [
    "y_pred"
   ]
  },
  {
   "cell_type": "code",
   "execution_count": 30,
   "metadata": {},
   "outputs": [
    {
     "name": "stdout",
     "output_type": "stream",
     "text": [
      "Train on 11610 samples, validate on 3870 samples\n",
      "Epoch 1/20\n",
      "11610/11610 [==============================] - 1s 48us/sample - loss: 1509460636897077424226828288.0000 - val_loss: 74537617281167392768.0000\n",
      "Epoch 2/20\n",
      "11610/11610 [==============================] - 0s 32us/sample - loss: 5187975148315064320.0000 - val_loss: 31805786678869.4648\n",
      "Epoch 3/20\n",
      "11610/11610 [==============================] - 0s 32us/sample - loss: 2213749890607.1548 - val_loss: 13571862.3318\n",
      "Epoch 4/20\n",
      "11610/11610 [==============================] - 0s 31us/sample - loss: 944632.6265 - val_loss: 7.2281\n",
      "Epoch 5/20\n",
      "11610/11610 [==============================] - 0s 31us/sample - loss: 1.7574 - val_loss: 1.3197\n",
      "Epoch 6/20\n",
      "11610/11610 [==============================] - 0s 31us/sample - loss: 1.3468 - val_loss: 1.3198\n",
      "Epoch 7/20\n",
      "11610/11610 [==============================] - 0s 31us/sample - loss: 1.3469 - val_loss: 1.3196\n",
      "Epoch 8/20\n",
      "11610/11610 [==============================] - 0s 31us/sample - loss: 1.3469 - val_loss: 1.3197\n",
      "Epoch 9/20\n",
      "11610/11610 [==============================] - 0s 31us/sample - loss: 1.3467 - val_loss: 1.3197\n",
      "Epoch 10/20\n",
      "11610/11610 [==============================] - 0s 31us/sample - loss: 1.3464 - val_loss: 1.3199\n",
      "Epoch 11/20\n",
      "11610/11610 [==============================] - 0s 31us/sample - loss: 1.3469 - val_loss: 1.3196\n",
      "Epoch 12/20\n",
      "11610/11610 [==============================] - 0s 31us/sample - loss: 1.3468 - val_loss: 1.3197\n",
      "Epoch 13/20\n",
      "11610/11610 [==============================] - 0s 31us/sample - loss: 1.3469 - val_loss: 1.3196\n",
      "Epoch 14/20\n",
      "11610/11610 [==============================] - 0s 31us/sample - loss: 1.3467 - val_loss: 1.3197\n",
      "Epoch 15/20\n",
      "11610/11610 [==============================] - 0s 31us/sample - loss: 1.3465 - val_loss: 1.3203\n",
      "Epoch 16/20\n",
      "11610/11610 [==============================] - 0s 31us/sample - loss: 1.3469 - val_loss: 1.3196\n",
      "Epoch 17/20\n",
      "11610/11610 [==============================] - 0s 31us/sample - loss: 1.3469 - val_loss: 1.3200\n",
      "Epoch 18/20\n",
      "11610/11610 [==============================] - 0s 32us/sample - loss: 1.3465 - val_loss: 1.3209\n",
      "Epoch 19/20\n",
      "11610/11610 [==============================] - 0s 31us/sample - loss: 1.3469 - val_loss: 1.3198\n",
      "Epoch 20/20\n",
      "11610/11610 [==============================] - 0s 31us/sample - loss: 1.3466 - val_loss: 1.3196\n",
      "5160/5160 [==============================] - 0s 17us/sample - loss: 398.7690\n"
     ]
    }
   ],
   "source": [
    "\n",
    "model = keras.models.Sequential([\n",
    "        keras.layers.Dense(30, activation=\"relu\", input_shape=X_train.shape[1:]),\n",
    "        keras.layers.Dense(1)\n",
    "    ])\n",
    "model.compile(loss=\"mean_squared_error\", optimizer=\"sgd\")\n",
    "history = model.fit(X_train, y_train, epochs=20,\n",
    "                        validation_data=(X_valid, y_valid))\n",
    "mse_test = model.evaluate(X_test, y_test)\n",
    "X_new = X_test[:3] # pretend these are new instances "
   ]
  },
  {
   "cell_type": "code",
   "execution_count": 31,
   "metadata": {},
   "outputs": [
    {
     "data": {
      "text/plain": [
       "array([[2.0775273],\n",
       "       [2.0775273],\n",
       "       [2.0775273]], dtype=float32)"
      ]
     },
     "execution_count": 31,
     "metadata": {},
     "output_type": "execute_result"
    }
   ],
   "source": [
    "y_pred = model.predict(X_new)\n",
    "y_pred"
   ]
  },
  {
   "cell_type": "markdown",
   "metadata": {},
   "source": [
    "# Wide and Deep Neural network \n",
    "It connects all or part of the inputs directly to the output layer. This architecture makes it possible for the neural network to learn both deep patterns (using the deep path) and simple rules (through the short path). In contrast, a regular MLP forces all the data to flow through the full stack of layers, thus simple patterns in the data may end up being distorted by this sequence of transfor‐ mations."
   ]
  },
  {
   "cell_type": "code",
   "execution_count": 32,
   "metadata": {},
   "outputs": [],
   "source": [
    "input = keras.layers.Input(shape=X_train.shape[1:])\n",
    "#notice that we call hidden1 like a function, passing it the input\n",
    "hidden1 = keras.layers.Dense(30, activation=\"relu\")(input)\n",
    "hidden2 = keras.layers.Dense(30, activation=\"relu\")(hidden1)\n",
    "concat = keras.layers.Concatenate()([input, hidden2])\n",
    "output = keras.layers.Dense(1)(concat);\n",
    "\n",
    "model = keras.models.Model(inputs=[input], outputs=[output])"
   ]
  },
  {
   "cell_type": "markdown",
   "metadata": {},
   "source": [
    "But what if you want to send a subset of the features through the wide path, and a different subset (possibly overlapping) through the deep path? In this case, one solution is to use multiple inputs."
   ]
  },
  {
   "cell_type": "code",
   "execution_count": 33,
   "metadata": {},
   "outputs": [],
   "source": [
    "input_a = keras.layers.Input(shape=[5]);\n",
    "input_b = keras.layers.Input(shape=[6]);\n",
    "hidden1 = keras.layers.Dense(30, activation=\"relu\")(input_b)\n",
    "hidden2 = keras.layers.Dense(30, activation=\"relu\")(hidden1)\n",
    "concat = keras.layers.Concatenate()([input_a, hidden2])\n",
    "output = keras.layers.Dense(1)(concat);\n",
    "\n",
    "model = keras.models.Model(inputs=[input_a, input_b], outputs=[output])"
   ]
  },
  {
   "cell_type": "code",
   "execution_count": 34,
   "metadata": {},
   "outputs": [
    {
     "name": "stdout",
     "output_type": "stream",
     "text": [
      "Train on 11610 samples, validate on 3870 samples\n",
      "Epoch 1/20\n",
      "11610/11610 [==============================] - 0s 21us/sample - loss: nan - val_loss: nan\n",
      "Epoch 2/20\n",
      "11610/11610 [==============================] - 0s 3us/sample - loss: nan - val_loss: nan\n",
      "Epoch 3/20\n",
      "11610/11610 [==============================] - 0s 3us/sample - loss: nan - val_loss: nan\n",
      "Epoch 4/20\n",
      "11610/11610 [==============================] - 0s 3us/sample - loss: nan - val_loss: nan\n",
      "Epoch 5/20\n",
      "11610/11610 [==============================] - 0s 3us/sample - loss: nan - val_loss: nan\n",
      "Epoch 6/20\n",
      "11610/11610 [==============================] - 0s 3us/sample - loss: nan - val_loss: nan\n",
      "Epoch 7/20\n",
      "11610/11610 [==============================] - 0s 3us/sample - loss: nan - val_loss: nan\n",
      "Epoch 8/20\n",
      "11610/11610 [==============================] - 0s 3us/sample - loss: nan - val_loss: nan\n",
      "Epoch 9/20\n",
      "11610/11610 [==============================] - 0s 3us/sample - loss: nan - val_loss: nan\n",
      "Epoch 10/20\n",
      "11610/11610 [==============================] - 0s 3us/sample - loss: nan - val_loss: nan\n",
      "Epoch 11/20\n",
      "11610/11610 [==============================] - 0s 3us/sample - loss: nan - val_loss: nan\n",
      "Epoch 12/20\n",
      "11610/11610 [==============================] - 0s 3us/sample - loss: nan - val_loss: nan\n",
      "Epoch 13/20\n",
      "11610/11610 [==============================] - 0s 3us/sample - loss: nan - val_loss: nan\n",
      "Epoch 14/20\n",
      "11610/11610 [==============================] - 0s 3us/sample - loss: nan - val_loss: nan\n",
      "Epoch 15/20\n",
      "11610/11610 [==============================] - 0s 3us/sample - loss: nan - val_loss: nan\n",
      "Epoch 16/20\n",
      "11610/11610 [==============================] - 0s 3us/sample - loss: nan - val_loss: nan\n",
      "Epoch 17/20\n",
      "11610/11610 [==============================] - 0s 3us/sample - loss: nan - val_loss: nan\n",
      "Epoch 18/20\n",
      "11610/11610 [==============================] - 0s 3us/sample - loss: nan - val_loss: nan\n",
      "Epoch 19/20\n",
      "11610/11610 [==============================] - 0s 3us/sample - loss: nan - val_loss: nan\n",
      "Epoch 20/20\n",
      "11610/11610 [==============================] - 0s 3us/sample - loss: nan - val_loss: nan\n",
      "5160/5160 [==============================] - 0s 18us/sample - loss: nan\n"
     ]
    },
    {
     "data": {
      "text/plain": [
       "array([[nan],\n",
       "       [nan],\n",
       "       [nan]], dtype=float32)"
      ]
     },
     "execution_count": 34,
     "metadata": {},
     "output_type": "execute_result"
    }
   ],
   "source": [
    "model.compile(loss=\"mse\", optimizer=\"sgd\")\n",
    "X_train_a, X_train_b = X_train[:, :5], X_train[:, 2:]\n",
    "X_valid_a, X_valid_b = X_valid[:, :5], X_valid[:, 2:]\n",
    "X_test_a, X_test_b = X_test[:, :5], X_test[:, 2:]\n",
    "X_new_a = X_test_a[:3]\n",
    "X_new_b = X_test_b[:3]\n",
    "history = model.fit((X_train_a, X_train_b), y_train, batch_size=512, epochs=20, \n",
    "                    validation_data=((X_valid_a, X_valid_b), y_valid));\n",
    "mse_test = model.evaluate((X_test_a, X_test_b), y_test);\n",
    "y_pred = model.predict((X_new_a, X_new_b))\n",
    "y_pred"
   ]
  },
  {
   "cell_type": "markdown",
   "metadata": {},
   "source": [
    "### Adding extra output\n",
    "Each output will need its own loss function, so when we compile the model we should pass a list of losses (if we pass a single loss, Keras will assume that the same loss must be used for all outputs).\n",
    "\n",
    "y default, Keras will compute all these losses and simply add them up to get the final loss used for training. However, we care much more about the main output than about the auxiliary output (as it is just used for reg‐ ularization), so we want to give the main output’s loss a much greater weight.\n",
    "\n",
    "Fortunately, it is possible to set all the loss weights when compiling the model:"
   ]
  },
  {
   "cell_type": "code",
   "execution_count": 35,
   "metadata": {},
   "outputs": [],
   "source": [
    "output = keras.layers.Dense(1)(concat);\n",
    "aux_output = keras.layers.Dense(1)(hidden2);\n",
    "model = keras.models.Model(inputs=[input_a, input_b], outputs=[output, aux_output])"
   ]
  },
  {
   "cell_type": "code",
   "execution_count": 36,
   "metadata": {},
   "outputs": [],
   "source": [
    "model.compile(loss=[\"mse\", \"mse\"], loss_weights=[0.9, 0.1], optimizer=\"sgd\")"
   ]
  },
  {
   "cell_type": "markdown",
   "metadata": {},
   "source": [
    "Now when we train the model, we need to provide some labels for each output. In this example, the main output and the auxiliary output should try to predict the same thing, so they should use the same labels. So instead of passing y_train, we just need to pass (y_train, y_train) "
   ]
  },
  {
   "cell_type": "code",
   "execution_count": 37,
   "metadata": {},
   "outputs": [
    {
     "name": "stdout",
     "output_type": "stream",
     "text": [
      "Train on 11610 samples, validate on 3870 samples\n",
      "Epoch 1/20\n",
      "11610/11610 [==============================] - 1s 77us/sample - loss: nan - dense_16_loss: nan - dense_17_loss: nan - val_loss: nan - val_dense_16_loss: nan - val_dense_17_loss: nan\n",
      "Epoch 2/20\n",
      "11610/11610 [==============================] - 0s 39us/sample - loss: nan - dense_16_loss: nan - dense_17_loss: nan - val_loss: nan - val_dense_16_loss: nan - val_dense_17_loss: nan\n",
      "Epoch 3/20\n",
      "11610/11610 [==============================] - 0s 39us/sample - loss: nan - dense_16_loss: nan - dense_17_loss: nan - val_loss: nan - val_dense_16_loss: nan - val_dense_17_loss: nan\n",
      "Epoch 4/20\n",
      "11610/11610 [==============================] - 0s 39us/sample - loss: nan - dense_16_loss: nan - dense_17_loss: nan - val_loss: nan - val_dense_16_loss: nan - val_dense_17_loss: nan\n",
      "Epoch 5/20\n",
      "11610/11610 [==============================] - 0s 39us/sample - loss: nan - dense_16_loss: nan - dense_17_loss: nan - val_loss: nan - val_dense_16_loss: nan - val_dense_17_loss: nan\n",
      "Epoch 6/20\n",
      "11610/11610 [==============================] - 0s 39us/sample - loss: nan - dense_16_loss: nan - dense_17_loss: nan - val_loss: nan - val_dense_16_loss: nan - val_dense_17_loss: nan\n",
      "Epoch 7/20\n",
      "11610/11610 [==============================] - 0s 39us/sample - loss: nan - dense_16_loss: nan - dense_17_loss: nan - val_loss: nan - val_dense_16_loss: nan - val_dense_17_loss: nan\n",
      "Epoch 8/20\n",
      "11610/11610 [==============================] - 0s 39us/sample - loss: nan - dense_16_loss: nan - dense_17_loss: nan - val_loss: nan - val_dense_16_loss: nan - val_dense_17_loss: nan\n",
      "Epoch 9/20\n",
      "11610/11610 [==============================] - 0s 39us/sample - loss: nan - dense_16_loss: nan - dense_17_loss: nan - val_loss: nan - val_dense_16_loss: nan - val_dense_17_loss: nan\n",
      "Epoch 10/20\n",
      "11610/11610 [==============================] - 0s 39us/sample - loss: nan - dense_16_loss: nan - dense_17_loss: nan - val_loss: nan - val_dense_16_loss: nan - val_dense_17_loss: nan\n",
      "Epoch 11/20\n",
      "11610/11610 [==============================] - 0s 39us/sample - loss: nan - dense_16_loss: nan - dense_17_loss: nan - val_loss: nan - val_dense_16_loss: nan - val_dense_17_loss: nan\n",
      "Epoch 12/20\n",
      "11610/11610 [==============================] - 0s 39us/sample - loss: nan - dense_16_loss: nan - dense_17_loss: nan - val_loss: nan - val_dense_16_loss: nan - val_dense_17_loss: nan\n",
      "Epoch 13/20\n",
      "11610/11610 [==============================] - 0s 39us/sample - loss: nan - dense_16_loss: nan - dense_17_loss: nan - val_loss: nan - val_dense_16_loss: nan - val_dense_17_loss: nan\n",
      "Epoch 14/20\n",
      "11610/11610 [==============================] - 0s 39us/sample - loss: nan - dense_16_loss: nan - dense_17_loss: nan - val_loss: nan - val_dense_16_loss: nan - val_dense_17_loss: nan\n",
      "Epoch 15/20\n",
      "11610/11610 [==============================] - 0s 39us/sample - loss: nan - dense_16_loss: nan - dense_17_loss: nan - val_loss: nan - val_dense_16_loss: nan - val_dense_17_loss: nan\n",
      "Epoch 16/20\n",
      "11610/11610 [==============================] - 0s 39us/sample - loss: nan - dense_16_loss: nan - dense_17_loss: nan - val_loss: nan - val_dense_16_loss: nan - val_dense_17_loss: nan\n",
      "Epoch 17/20\n",
      "11610/11610 [==============================] - 0s 39us/sample - loss: nan - dense_16_loss: nan - dense_17_loss: nan - val_loss: nan - val_dense_16_loss: nan - val_dense_17_loss: nan\n",
      "Epoch 18/20\n",
      "11610/11610 [==============================] - 0s 39us/sample - loss: nan - dense_16_loss: nan - dense_17_loss: nan - val_loss: nan - val_dense_16_loss: nan - val_dense_17_loss: nan\n",
      "Epoch 19/20\n",
      "11610/11610 [==============================] - 0s 39us/sample - loss: nan - dense_16_loss: nan - dense_17_loss: nan - val_loss: nan - val_dense_16_loss: nan - val_dense_17_loss: nan\n",
      "Epoch 20/20\n",
      "11610/11610 [==============================] - 0s 39us/sample - loss: nan - dense_16_loss: nan - dense_17_loss: nan - val_loss: nan - val_dense_16_loss: nan - val_dense_17_loss: nan\n",
      "5160/5160 [==============================] - 0s 21us/sample - loss: nan - dense_16_loss: nan - dense_17_loss: nan\n"
     ]
    }
   ],
   "source": [
    "history = model.fit([X_train_a, X_train_b], [y_train, y_train], epochs=20,\n",
    "                   validation_data=((X_valid_a, X_valid_b), (y_valid, y_valid)));\n",
    "\n",
    "total_loss, main_loss, aux_loss = model.evaluate((X_test_a, X_test_b), (y_test, y_test));\n"
   ]
  },
  {
   "cell_type": "code",
   "execution_count": 38,
   "metadata": {},
   "outputs": [],
   "source": [
    "y_pred_main, y_pred_aux = model.predict([X_new_a, X_new_b])"
   ]
  },
  {
   "cell_type": "code",
   "execution_count": 39,
   "metadata": {},
   "outputs": [],
   "source": [
    "class WideAndDeepModel(keras.models.Model):\n",
    "    def __init__(self, units=30, activation=\"relu\", **kwargs):\n",
    "        super().__init__(**kwargs) # handles standard args (e.g., name) \n",
    "        self.hidden1 = keras.layers.Dense(units, activation=activation) \n",
    "        self.hidden2 = keras.layers.Dense(units, activation=activation) \n",
    "        self.main_output = keras.layers.Dense(1)\n",
    "        self.aux_output = keras.layers.Dense(1)\n",
    "    def call(self, inputs):\n",
    "        input_A, input_B = inputs\n",
    "        hidden1 = self.hidden1(input_B)\n",
    "        hidden2 = self.hidden2(hidden1)\n",
    "        concat = keras.layers.concatenate([input_A, hidden2]) \n",
    "        main_output = self.main_output(concat)\n",
    "        aux_output = self.aux_output(hidden2)\n",
    "        return main_output, aux_output\n",
    "\n",
    "model = WideAndDeepModel()"
   ]
  },
  {
   "cell_type": "markdown",
   "metadata": {},
   "source": [
    "The `fit()` method accepts a callbacks argument that lets you specify a list of objects that Keras will call during training at the start and end of training, at the start and end of each epoch and even before and after processing each batch. For example, the `ModelCheckpoint` callback saves checkpoints of your model at regular intervals during training, by default at the end of each epoch. This is a simple way to implement early stopping"
   ]
  },
  {
   "cell_type": "code",
   "execution_count": 40,
   "metadata": {},
   "outputs": [
    {
     "name": "stdout",
     "output_type": "stream",
     "text": [
      "Train on 11610 samples\n",
      "Epoch 1/10\n",
      "11610/11610 [==============================] - 1s 50us/sample - loss: nan\n",
      "Epoch 2/10\n",
      "11610/11610 [==============================] - 0s 25us/sample - loss: nan\n",
      "Epoch 3/10\n",
      "11610/11610 [==============================] - 0s 25us/sample - loss: nan\n",
      "Epoch 4/10\n",
      "11610/11610 [==============================] - 0s 25us/sample - loss: nan\n",
      "Epoch 5/10\n",
      "11610/11610 [==============================] - 0s 25us/sample - loss: nan\n",
      "Epoch 6/10\n",
      "11610/11610 [==============================] - 0s 25us/sample - loss: nan\n",
      "Epoch 7/10\n",
      "11610/11610 [==============================] - 0s 25us/sample - loss: nan\n",
      "Epoch 8/10\n",
      "11610/11610 [==============================] - 0s 25us/sample - loss: nan\n",
      "Epoch 9/10\n",
      "11610/11610 [==============================] - 0s 25us/sample - loss: nan\n",
      "Epoch 10/10\n",
      "11610/11610 [==============================] - 0s 25us/sample - loss: nan\n"
     ]
    }
   ],
   "source": [
    "model = keras.models.Sequential([\n",
    "    keras.layers.Dense(30, activation='relu', input_shape=X_train.shape[1:]),\n",
    "    keras.layers.Dense(1)\n",
    "]);\n",
    "#model.compile(loss='mean_squared_error', optimizer='sgd');\n",
    "model.compile(loss=\"mse\", optimizer=\"sgd\")\n",
    "checkpoint_cb = keras.callbacks.ModelCheckpoint(\"my_keras_model.h5\")\n",
    "history = model.fit(X_train, y_train, epochs=10, callbacks=[checkpoint_cb])"
   ]
  },
  {
   "cell_type": "markdown",
   "metadata": {},
   "source": [
    "Moreover, if you use a validation set during training, you can set `save_best_only=True` when creating the ModelCheckpoint. In this case, it will only save your model when its performance on the validation set is the best so far"
   ]
  },
  {
   "cell_type": "code",
   "execution_count": 48,
   "metadata": {},
   "outputs": [
    {
     "name": "stdout",
     "output_type": "stream",
     "text": [
      "Train on 11610 samples, validate on 3870 samples\n",
      "Epoch 1/10\n",
      "11610/11610 [==============================] - 1s 48us/sample - loss: 20996345791750814212030464.0000 - val_loss: 63369817090357823799296.0000\n",
      "Epoch 2/10\n",
      "11610/11610 [==============================] - 0s 32us/sample - loss: 4410673573105780654080.0000 - val_loss: 27040396836077568.0000\n",
      "Epoch 3/10\n",
      "11610/11610 [==============================] - 0s 33us/sample - loss: 1882068518016501.2500 - val_loss: 11538376483.8532\n",
      "Epoch 4/10\n",
      "11610/11610 [==============================] - 0s 32us/sample - loss: 803095258.2085 - val_loss: 4924.4671\n",
      "Epoch 5/10\n",
      "11610/11610 [==============================] - 0s 32us/sample - loss: 344.0041 - val_loss: 1.3229\n",
      "Epoch 6/10\n",
      "11610/11610 [==============================] - 0s 32us/sample - loss: 1.3469 - val_loss: 1.3196\n",
      "Epoch 7/10\n",
      "11610/11610 [==============================] - 0s 31us/sample - loss: 1.3469 - val_loss: 1.3197\n",
      "Epoch 8/10\n",
      "11610/11610 [==============================] - 0s 32us/sample - loss: 1.3467 - val_loss: 1.3197\n",
      "Epoch 9/10\n",
      "11610/11610 [==============================] - 0s 32us/sample - loss: 1.3468 - val_loss: 1.3196\n",
      "Epoch 10/10\n",
      "11610/11610 [==============================] - 0s 32us/sample - loss: 1.3466 - val_loss: 1.3199\n"
     ]
    }
   ],
   "source": [
    "model = keras.models.Sequential([\n",
    "    keras.layers.Dense(30, activation='relu', input_shape=X_train.shape[1:]),\n",
    "    keras.layers.Dense(1)\n",
    "]);\n",
    "checkpoint_cb = keras.callbacks.ModelCheckpoint(\"my_keras_model.h5\",\n",
    "                                                    save_best_only=True)\n",
    "model.compile(loss=\"mse\", optimizer=\"sgd\")\n",
    "history = model.fit(X_train, y_train, epochs=10,\n",
    "                        validation_data=(X_valid, y_valid),\n",
    "callbacks=[checkpoint_cb])\n",
    "model = keras.models.load_model(\"my_keras_model.h5\") # rollback to best model"
   ]
  },
  {
   "cell_type": "markdown",
   "metadata": {},
   "source": [
    "Another way to implement early stopping is to simply use the EarlyStopping callback. It will interrupt training when it measures no progress on the validation set for a number of epochs\n"
   ]
  },
  {
   "cell_type": "code",
   "execution_count": 49,
   "metadata": {},
   "outputs": [
    {
     "name": "stdout",
     "output_type": "stream",
     "text": [
      "Train on 11610 samples, validate on 3870 samples\n",
      "Epoch 1/100\n",
      "11610/11610 [==============================] - 0s 17us/sample - loss: 511870802461896736768.0000 - val_loss: 2103295237752356864.0000\n",
      "Epoch 2/100\n",
      "11610/11610 [==============================] - 0s 3us/sample - loss: 1405150825597026560.0000 - val_loss: 830424390552193152.0000\n",
      "Epoch 3/100\n",
      "11610/11610 [==============================] - 0s 3us/sample - loss: 554781930568240576.0000 - val_loss: 327867986648454016.0000\n",
      "Epoch 4/100\n",
      "11610/11610 [==============================] - 0s 3us/sample - loss: 219039083009756896.0000 - val_loss: 129448839371936992.0000\n",
      "Epoch 5/100\n",
      "11610/11610 [==============================] - 0s 3us/sample - loss: 86481018454904848.0000 - val_loss: 51109055698759816.0000\n",
      "Epoch 6/100\n",
      "11610/11610 [==============================] - 0s 3us/sample - loss: 34144455802492472.0000 - val_loss: 20178875354291532.0000\n",
      "Epoch 7/100\n",
      "11610/11610 [==============================] - 0s 3us/sample - loss: 13480919010491390.0000 - val_loss: 7967027431997440.0000\n",
      "Epoch 8/100\n",
      "11610/11610 [==============================] - 0s 3us/sample - loss: 5322538986874942.0000 - val_loss: 3145547591535702.5000\n",
      "Epoch 9/100\n",
      "11610/11610 [==============================] - 0s 3us/sample - loss: 2101447967281656.7500 - val_loss: 1241924729923411.5000\n",
      "Epoch 10/100\n",
      "11610/11610 [==============================] - 0s 3us/sample - loss: 829694249066096.7500 - val_loss: 490337311435231.4375\n",
      "Epoch 11/100\n",
      "11610/11610 [==============================] - 0s 3us/sample - loss: 327580204515251.7500 - val_loss: 193595271849515.1250\n",
      "Epoch 12/100\n",
      "11610/11610 [==============================] - 0s 3us/sample - loss: 129335391822686.2344 - val_loss: 76435379804154.7031\n",
      "Epoch 13/100\n",
      "11610/11610 [==============================] - 0s 3us/sample - loss: 51064233813899.9297 - val_loss: 30178200539654.6133\n",
      "Epoch 14/100\n",
      "11610/11610 [==============================] - 0s 3us/sample - loss: 20161184144892.9141 - val_loss: 11914971723800.3438\n",
      "Epoch 15/100\n",
      "11610/11610 [==============================] - 0s 3us/sample - loss: 7960044730366.9414 - val_loss: 4704269577907.6631\n",
      "Epoch 16/100\n",
      "11610/11610 [==============================] - 0s 3us/sample - loss: 3142783939650.1499 - val_loss: 1857339656176.1240\n",
      "Epoch 17/100\n",
      "11610/11610 [==============================] - 0s 3us/sample - loss: 1240834783482.1348 - val_loss: 733315353516.9158\n",
      "Epoch 18/100\n",
      "11610/11610 [==============================] - 0s 3us/sample - loss: 489906471933.7068 - val_loss: 289527812394.4682\n",
      "Epoch 19/100\n",
      "11610/11610 [==============================] - 0s 3us/sample - loss: 193425159019.6479 - val_loss: 114311512826.0465\n",
      "Epoch 20/100\n",
      "11610/11610 [==============================] - 0s 3us/sample - loss: 76368183081.4980 - val_loss: 45132476684.8331\n",
      "Epoch 21/100\n",
      "11610/11610 [==============================] - 0s 3us/sample - loss: 30151685079.9573 - val_loss: 17819204714.3690\n",
      "Epoch 22/100\n",
      "11610/11610 [==============================] - 0s 3us/sample - loss: 11904491065.2417 - val_loss: 7035382771.2992\n",
      "Epoch 23/100\n",
      "11610/11610 [==============================] - 0s 3us/sample - loss: 4700134463.7244 - val_loss: 2777712284.9075\n",
      "Epoch 24/100\n",
      "11610/11610 [==============================] - 0s 3us/sample - loss: 1855708682.6501 - val_loss: 1096697583.2641\n",
      "Epoch 25/100\n",
      "11610/11610 [==============================] - 0s 3us/sample - loss: 732671673.7433 - val_loss: 432998581.3499\n",
      "Epoch 26/100\n",
      "11610/11610 [==============================] - 0s 3us/sample - loss: 289273710.3876 - val_loss: 170956677.1101\n",
      "Epoch 27/100\n",
      "11610/11610 [==============================] - 0s 3us/sample - loss: 114211131.3998 - val_loss: 67497171.2248\n",
      "Epoch 28/100\n",
      "11610/11610 [==============================] - 0s 3us/sample - loss: 45092874.8520 - val_loss: 26649249.5638\n",
      "Epoch 29/100\n",
      "11610/11610 [==============================] - 0s 3us/sample - loss: 17803577.3256 - val_loss: 10521662.2000\n",
      "Epoch 30/100\n",
      "11610/11610 [==============================] - 0s 3us/sample - loss: 7029209.2606 - val_loss: 4154165.4736\n",
      "Epoch 31/100\n",
      "11610/11610 [==============================] - 0s 3us/sample - loss: 2775274.7643 - val_loss: 1640150.7077\n",
      "Epoch 32/100\n",
      "11610/11610 [==============================] - 0s 3us/sample - loss: 1095734.7876 - val_loss: 647566.3112\n",
      "Epoch 33/100\n",
      "11610/11610 [==============================] - 0s 3us/sample - loss: 432620.0827 - val_loss: 255674.9723\n",
      "Epoch 34/100\n",
      "11610/11610 [==============================] - 0s 3us/sample - loss: 170808.7587 - val_loss: 100947.1990\n",
      "Epoch 35/100\n",
      "11610/11610 [==============================] - 0s 3us/sample - loss: 67439.9486 - val_loss: 39857.2418\n",
      "Epoch 36/100\n",
      "11610/11610 [==============================] - 0s 3us/sample - loss: 26627.6181 - val_loss: 15737.5620\n",
      "Epoch 37/100\n",
      "11610/11610 [==============================] - 0s 3us/sample - loss: 10514.0305 - val_loss: 6214.3533\n",
      "Epoch 38/100\n",
      "11610/11610 [==============================] - 0s 3us/sample - loss: 4151.8942 - val_loss: 2454.3683\n",
      "Epoch 39/100\n",
      "11610/11610 [==============================] - 0s 3us/sample - loss: 1640.1033 - val_loss: 969.9774\n",
      "Epoch 40/100\n",
      "11610/11610 [==============================] - 0s 3us/sample - loss: 648.4358 - val_loss: 383.7921\n",
      "Epoch 41/100\n",
      "11610/11610 [==============================] - 0s 3us/sample - loss: 256.8273 - val_loss: 152.3314\n",
      "Epoch 42/100\n",
      "11610/11610 [==============================] - 0s 3us/sample - loss: 102.2116 - val_loss: 60.9432\n",
      "Epoch 43/100\n",
      "11610/11610 [==============================] - 0s 3us/sample - loss: 41.1668 - val_loss: 24.8716\n",
      "Epoch 44/100\n",
      "11610/11610 [==============================] - 0s 3us/sample - loss: 17.0717 - val_loss: 10.6176\n",
      "Epoch 45/100\n",
      "11610/11610 [==============================] - 0s 3us/sample - loss: 7.5514 - val_loss: 4.9921\n",
      "Epoch 46/100\n",
      "11610/11610 [==============================] - 0s 3us/sample - loss: 3.7939 - val_loss: 2.7668\n",
      "Epoch 47/100\n",
      "11610/11610 [==============================] - 0s 3us/sample - loss: 2.3107 - val_loss: 1.8900\n",
      "Epoch 48/100\n",
      "11610/11610 [==============================] - 0s 3us/sample - loss: 1.7260 - val_loss: 1.5452\n",
      "Epoch 49/100\n",
      "11610/11610 [==============================] - 0s 3us/sample - loss: 1.4960 - val_loss: 1.4081\n",
      "Epoch 50/100\n",
      "11610/11610 [==============================] - 0s 3us/sample - loss: 1.4047 - val_loss: 1.3544\n",
      "Epoch 51/100\n",
      "11610/11610 [==============================] - 0s 3us/sample - loss: 1.3692 - val_loss: 1.3334\n",
      "Epoch 52/100\n",
      "11610/11610 [==============================] - 0s 3us/sample - loss: 1.3552 - val_loss: 1.3251\n",
      "Epoch 53/100\n",
      "11610/11610 [==============================] - 0s 3us/sample - loss: 1.3498 - val_loss: 1.3218\n",
      "Epoch 54/100\n",
      "11610/11610 [==============================] - 0s 3us/sample - loss: 1.3477 - val_loss: 1.3205\n",
      "Epoch 55/100\n",
      "11610/11610 [==============================] - 0s 3us/sample - loss: 1.3468 - val_loss: 1.3200\n",
      "Epoch 56/100\n",
      "11610/11610 [==============================] - 0s 3us/sample - loss: 1.3465 - val_loss: 1.3198\n",
      "Epoch 57/100\n",
      "11610/11610 [==============================] - 0s 3us/sample - loss: 1.3463 - val_loss: 1.3197\n",
      "Epoch 58/100\n",
      "11610/11610 [==============================] - 0s 3us/sample - loss: 1.3463 - val_loss: 1.3196\n",
      "Epoch 59/100\n",
      "11610/11610 [==============================] - 0s 3us/sample - loss: 1.3463 - val_loss: 1.3196\n",
      "Epoch 60/100\n",
      "11610/11610 [==============================] - 0s 3us/sample - loss: 1.3462 - val_loss: 1.3196\n",
      "Epoch 61/100\n",
      "11610/11610 [==============================] - 0s 2us/sample - loss: 1.3462 - val_loss: 1.3196\n",
      "Epoch 62/100\n",
      "11610/11610 [==============================] - 0s 3us/sample - loss: 1.3462 - val_loss: 1.3196\n",
      "Epoch 63/100\n",
      "11610/11610 [==============================] - 0s 3us/sample - loss: 1.3462 - val_loss: 1.3196\n",
      "Epoch 64/100\n",
      "11610/11610 [==============================] - 0s 2us/sample - loss: 1.3462 - val_loss: 1.3196\n",
      "Epoch 65/100\n",
      "11610/11610 [==============================] - 0s 3us/sample - loss: 1.3463 - val_loss: 1.3196\n",
      "Epoch 66/100\n",
      "11610/11610 [==============================] - 0s 3us/sample - loss: 1.3463 - val_loss: 1.3196\n",
      "Epoch 67/100\n",
      "11610/11610 [==============================] - 0s 3us/sample - loss: 1.3463 - val_loss: 1.3196\n",
      "Epoch 68/100\n",
      "11610/11610 [==============================] - 0s 3us/sample - loss: 1.3463 - val_loss: 1.3196\n"
     ]
    },
    {
     "name": "stdout",
     "output_type": "stream",
     "text": [
      "Epoch 69/100\n",
      "11610/11610 [==============================] - 0s 3us/sample - loss: 1.3462 - val_loss: 1.3196\n",
      "Epoch 70/100\n",
      "11610/11610 [==============================] - 0s 3us/sample - loss: 1.3463 - val_loss: 1.3196\n",
      "Epoch 71/100\n",
      "11610/11610 [==============================] - 0s 3us/sample - loss: 1.3462 - val_loss: 1.3196\n",
      "Epoch 72/100\n",
      "11610/11610 [==============================] - 0s 3us/sample - loss: 1.3462 - val_loss: 1.3196\n",
      "Epoch 73/100\n",
      "11610/11610 [==============================] - 0s 3us/sample - loss: 1.3462 - val_loss: 1.3196\n",
      "Epoch 74/100\n",
      "11610/11610 [==============================] - 0s 2us/sample - loss: 1.3462 - val_loss: 1.3196\n",
      "Epoch 75/100\n",
      "11610/11610 [==============================] - 0s 3us/sample - loss: 1.3462 - val_loss: 1.3196\n",
      "Epoch 76/100\n",
      "11610/11610 [==============================] - 0s 3us/sample - loss: 1.3462 - val_loss: 1.3196\n",
      "Epoch 77/100\n",
      "11610/11610 [==============================] - 0s 3us/sample - loss: 1.3463 - val_loss: 1.3196\n"
     ]
    }
   ],
   "source": [
    "early_stopping_cb = keras.callbacks.EarlyStopping(patience=10,\n",
    "                                                      restore_best_weights=True)\n",
    "\n",
    "model = keras.models.Sequential([\n",
    "    keras.layers.Dense(30, activation='relu', input_shape=X_train.shape[1:]),\n",
    "    keras.layers.Dense(1)\n",
    "]);\n",
    "model.compile(loss=\"mse\", optimizer=\"sgd\")\n",
    "history = model.fit(X_train, y_train, epochs=100,batch_size=512,\n",
    "                        validation_data=(X_valid, y_valid),\n",
    "                        callbacks=[checkpoint_cb, early_stopping_cb])"
   ]
  },
  {
   "cell_type": "markdown",
   "metadata": {},
   "source": [
    "#### Custom callback"
   ]
  },
  {
   "cell_type": "code",
   "execution_count": null,
   "metadata": {},
   "outputs": [],
   "source": [
    "class PrintValTrainRatioCallback(keras.callbacks.Callback):\n",
    "    def on_epoch_end(self, epoch, logs):\n",
    "        print(\"\\nval/train: {:.2f}\".format(logs[\"val_loss\"] / logs[\"loss\"]))"
   ]
  },
  {
   "cell_type": "markdown",
   "metadata": {},
   "source": [
    "As you might expect, you can implement `on_train_begin()`, `on_train_end()`, `on_epoch_begin()`, `on_epoch_begin()`, `on_batch_end()` and `on_batch_end()`.\n",
    "\n",
    "Moreover, callbacks can also be used during evaluation and predictions, should you ever need them (e.g., for debugging). In this case, you should implement `on_test_begin()`, `on_test_end()`, `on_test_batch_begin()`, or on_test_batch_end() (called by evaluate()), or on_predict_begin(), on_pre dict_end(), `on_predict_batch_begin()`, or `on_predict_batch_end()` (called by `predict()`)."
   ]
  },
  {
   "cell_type": "markdown",
   "metadata": {},
   "source": [
    "# Visualizing Using TensorBoard\n",
    "TensorBoard is a great interactive visualization tool that you can use to view the learning curves during training, compare learning curves between multiple runs, vis‐ ualize the computation graph, analyze training statistics, view images generated by your model, visualize complex multidimensional data projected down to 3D and automatically clustered for you, and more! \n",
    "\n",
    "To use it, you must modify your program so that it outputs the data you want to visu‐ alize to special binary log files called event files."
   ]
  },
  {
   "cell_type": "code",
   "execution_count": null,
   "metadata": {},
   "outputs": [],
   "source": [
    "import os\n",
    "root_logdir = os.path.join(os.curdir, \"my_logs\");\n",
    "def get_run_logdir(): \n",
    "    import time\n",
    "    run_id = time.strftime(\"run_%Y_%m_%d-%H_%M_%S\");\n",
    "    return os.path.join(root_logdir, run_id);\n",
    "\n",
    "run_logdir = get_run_logdir();\n",
    "\n",
    "#tensorboard callback\n",
    "tensorboard_cb = keras.callbacks.TensorBoard(run_logdir) \n"
   ]
  },
  {
   "cell_type": "code",
   "execution_count": null,
   "metadata": {},
   "outputs": [],
   "source": [
    "history = model.fit(X_train, y_train, epochs=30,\n",
    "                  validation_data=(X_valid, y_valid),\n",
    "                  callbacks=[tensorboard_cb])"
   ]
  },
  {
   "cell_type": "markdown",
   "metadata": {},
   "source": [
    "# Hyperparameters tuning"
   ]
  },
  {
   "cell_type": "code",
   "execution_count": 54,
   "metadata": {},
   "outputs": [],
   "source": [
    "def build_model (n_hidden=1, n_neurons=3, learning_rate=3e-3, input_shape=[8]):\n",
    "    model = keras.models.Sequential();\n",
    "    options = {\"input_shape\":input_shape};\n",
    "    for layer in range(n_hidden):\n",
    "        model.add(keras.layers.Dense(n_neurons, activation=\"relu\", **options));\n",
    "        options={};\n",
    "    model.add(keras.layers.Dense(1, **options));\n",
    "    optimizer = keras.optimizers.SGD(learning_rate);\n",
    "    model.compile(loss=\"mse\", optimizer=optimizer);\n",
    "    return model;\n"
   ]
  },
  {
   "cell_type": "markdown",
   "metadata": {},
   "source": [
    "### let's crete a `KerasRegressor` for the defined model"
   ]
  },
  {
   "cell_type": "code",
   "execution_count": 55,
   "metadata": {},
   "outputs": [
    {
     "name": "stdout",
     "output_type": "stream",
     "text": [
      "Train on 11610 samples, validate on 3870 samples\n",
      "Epoch 1/100\n",
      "11610/11610 [==============================] - 1s 50us/sample - loss: 962193.4992 - val_loss: 88.9526\n",
      "Epoch 2/100\n",
      "11610/11610 [==============================] - 0s 33us/sample - loss: 21.2950 - val_loss: 2.4401\n",
      "Epoch 3/100\n",
      "11610/11610 [==============================] - 0s 37us/sample - loss: 1.6016 - val_loss: 1.3348\n",
      "Epoch 4/100\n",
      "11610/11610 [==============================] - 0s 36us/sample - loss: 1.3497 - val_loss: 1.3197\n",
      "Epoch 5/100\n",
      "11610/11610 [==============================] - 0s 33us/sample - loss: 1.3464 - val_loss: 1.3196\n",
      "Epoch 6/100\n",
      "11610/11610 [==============================] - 0s 33us/sample - loss: 1.3464 - val_loss: 1.3197\n",
      "Epoch 7/100\n",
      "11610/11610 [==============================] - 0s 33us/sample - loss: 1.3464 - val_loss: 1.3196\n",
      "Epoch 8/100\n",
      "11610/11610 [==============================] - 0s 33us/sample - loss: 1.3464 - val_loss: 1.3196\n",
      "Epoch 9/100\n",
      "11610/11610 [==============================] - 0s 34us/sample - loss: 1.3464 - val_loss: 1.3196\n",
      "Epoch 10/100\n",
      "11610/11610 [==============================] - 0s 36us/sample - loss: 1.3464 - val_loss: 1.3196\n",
      "Epoch 11/100\n",
      "11610/11610 [==============================] - 0s 33us/sample - loss: 1.3464 - val_loss: 1.3196\n",
      "Epoch 12/100\n",
      "11610/11610 [==============================] - 0s 35us/sample - loss: 1.3464 - val_loss: 1.3196\n",
      "Epoch 13/100\n",
      "11610/11610 [==============================] - 0s 37us/sample - loss: 1.3462 - val_loss: 1.3199\n",
      "Epoch 14/100\n",
      "11610/11610 [==============================] - 0s 37us/sample - loss: 1.3465 - val_loss: 1.3197\n",
      "Epoch 15/100\n",
      "11610/11610 [==============================] - 0s 37us/sample - loss: 1.3464 - val_loss: 1.3197\n",
      "Epoch 16/100\n",
      "11610/11610 [==============================] - 0s 35us/sample - loss: 1.3465 - val_loss: 1.3196\n",
      "Epoch 17/100\n",
      "11610/11610 [==============================] - 0s 36us/sample - loss: 1.3464 - val_loss: 1.3196\n",
      "5160/5160 [==============================] - 0s 18us/sample - loss: 1.3075\n"
     ]
    }
   ],
   "source": [
    "keras_reg = keras.wrappers.scikit_learn.KerasRegressor(build_model);\n",
    "keras_reg.fit(X_train, y_train, epochs=100, validation_data=(X_valid, y_valid), \n",
    "              callbacks=[keras.callbacks.EarlyStopping(patience=10)]);\n",
    "mse_test = keras_reg.score(X_test, y_test);\n",
    "y_pred = keras_reg.predict(X_new)"
   ]
  },
  {
   "cell_type": "markdown",
   "metadata": {},
   "source": [
    "Since there are many hyperparameters, it is preferable to use a randomized search rather than grid search"
   ]
  },
  {
   "cell_type": "code",
   "execution_count": 57,
   "metadata": {},
   "outputs": [
    {
     "name": "stdout",
     "output_type": "stream",
     "text": [
      "Train on 7740 samples, validate on 3870 samples\n",
      "Epoch 1/100\n",
      "7740/7740 [==============================] - 0s 55us/sample - loss: nan - val_loss: nan\n",
      "Epoch 2/100\n",
      "7740/7740 [==============================] - 0s 35us/sample - loss: nan - val_loss: nan\n",
      "Epoch 3/100\n",
      "7740/7740 [==============================] - 0s 35us/sample - loss: nan - val_loss: nan\n",
      "Epoch 4/100\n",
      "7740/7740 [==============================] - 0s 36us/sample - loss: nan - val_loss: nan\n",
      "Epoch 5/100\n",
      "7740/7740 [==============================] - 0s 36us/sample - loss: nan - val_loss: nan\n",
      "Epoch 6/100\n",
      "7740/7740 [==============================] - 0s 35us/sample - loss: nan - val_loss: nan\n",
      "Epoch 7/100\n",
      "7740/7740 [==============================] - 0s 35us/sample - loss: nan - val_loss: nan\n",
      "Epoch 8/100\n",
      "7740/7740 [==============================] - 0s 35us/sample - loss: nan - val_loss: nan\n",
      "Epoch 9/100\n",
      "7740/7740 [==============================] - 0s 35us/sample - loss: nan - val_loss: nan\n",
      "Epoch 10/100\n",
      "7740/7740 [==============================] - 0s 35us/sample - loss: nan - val_loss: nan\n",
      "3870/3870 [==============================] - 0s 16us/sample - loss: nan\n",
      "7740/7740 [==============================] - 0s 16us/sample - loss: nan\n",
      "Train on 7740 samples, validate on 3870 samples\n",
      "Epoch 1/100\n",
      "7740/7740 [==============================] - 0s 57us/sample - loss: nan - val_loss: nan\n",
      "Epoch 2/100\n",
      "7740/7740 [==============================] - 0s 34us/sample - loss: nan - val_loss: nan\n",
      "Epoch 3/100\n",
      "7740/7740 [==============================] - 0s 34us/sample - loss: nan - val_loss: nan\n",
      "Epoch 4/100\n",
      "7740/7740 [==============================] - 0s 34us/sample - loss: nan - val_loss: nan\n",
      "Epoch 5/100\n",
      "7740/7740 [==============================] - 0s 35us/sample - loss: nan - val_loss: nan\n",
      "Epoch 6/100\n",
      "7740/7740 [==============================] - 0s 35us/sample - loss: nan - val_loss: nan\n",
      "Epoch 7/100\n",
      "7740/7740 [==============================] - 0s 35us/sample - loss: nan - val_loss: nan\n",
      "Epoch 8/100\n",
      "7740/7740 [==============================] - 0s 35us/sample - loss: nan - val_loss: nan\n",
      "Epoch 9/100\n",
      "7740/7740 [==============================] - 0s 35us/sample - loss: nan - val_loss: nan\n",
      "Epoch 10/100\n",
      "7740/7740 [==============================] - 0s 34us/sample - loss: nan - val_loss: nan\n",
      "3870/3870 [==============================] - 0s 16us/sample - loss: nan\n",
      "7740/7740 [==============================] - 0s 16us/sample - loss: nan\n",
      "Train on 7740 samples, validate on 3870 samples\n",
      "Epoch 1/100\n",
      "7740/7740 [==============================] - 0s 55us/sample - loss: nan - val_loss: nan\n",
      "Epoch 2/100\n",
      "7740/7740 [==============================] - 0s 34us/sample - loss: nan - val_loss: nan\n",
      "Epoch 3/100\n",
      "7740/7740 [==============================] - 0s 35us/sample - loss: nan - val_loss: nan\n",
      "Epoch 4/100\n",
      "7740/7740 [==============================] - 0s 35us/sample - loss: nan - val_loss: nan\n",
      "Epoch 5/100\n",
      "7740/7740 [==============================] - 0s 35us/sample - loss: nan - val_loss: nan\n",
      "Epoch 6/100\n",
      "7740/7740 [==============================] - 0s 35us/sample - loss: nan - val_loss: nan\n",
      "Epoch 7/100\n",
      "7740/7740 [==============================] - 0s 35us/sample - loss: nan - val_loss: nan\n",
      "Epoch 8/100\n",
      "7740/7740 [==============================] - 0s 35us/sample - loss: nan - val_loss: nan\n",
      "Epoch 9/100\n",
      "7740/7740 [==============================] - 0s 35us/sample - loss: nan - val_loss: nan\n",
      "Epoch 10/100\n",
      "7740/7740 [==============================] - 0s 35us/sample - loss: nan - val_loss: nan\n",
      "3870/3870 [==============================] - 0s 16us/sample - loss: nan\n",
      "7740/7740 [==============================] - 0s 16us/sample - loss: nan\n",
      "Train on 7740 samples, validate on 3870 samples\n",
      "Epoch 1/100\n",
      "7740/7740 [==============================] - 0s 60us/sample - loss: nan - val_loss: nan\n",
      "Epoch 2/100\n",
      "7740/7740 [==============================] - 0s 36us/sample - loss: nan - val_loss: nan\n",
      "Epoch 3/100\n",
      "7740/7740 [==============================] - 0s 36us/sample - loss: nan - val_loss: nan\n",
      "Epoch 4/100\n",
      "7740/7740 [==============================] - 0s 36us/sample - loss: nan - val_loss: nan\n",
      "Epoch 5/100\n",
      "7740/7740 [==============================] - 0s 36us/sample - loss: nan - val_loss: nan\n",
      "Epoch 6/100\n",
      "7740/7740 [==============================] - 0s 36us/sample - loss: nan - val_loss: nan\n",
      "Epoch 7/100\n",
      "7740/7740 [==============================] - 0s 36us/sample - loss: nan - val_loss: nan\n",
      "Epoch 8/100\n",
      "7740/7740 [==============================] - 0s 36us/sample - loss: nan - val_loss: nan\n",
      "Epoch 9/100\n",
      "7740/7740 [==============================] - 0s 36us/sample - loss: nan - val_loss: nan\n",
      "Epoch 10/100\n",
      "7740/7740 [==============================] - 0s 36us/sample - loss: nan - val_loss: nan\n",
      "3870/3870 [==============================] - 0s 17us/sample - loss: nan\n",
      "7740/7740 [==============================] - 0s 17us/sample - loss: nan\n",
      "Train on 7740 samples, validate on 3870 samples\n",
      "Epoch 1/100\n",
      "7740/7740 [==============================] - 0s 59us/sample - loss: nan - val_loss: nan\n",
      "Epoch 2/100\n",
      "7740/7740 [==============================] - 0s 36us/sample - loss: nan - val_loss: nan\n",
      "Epoch 3/100\n",
      "7740/7740 [==============================] - 0s 36us/sample - loss: nan - val_loss: nan\n",
      "Epoch 4/100\n",
      "7740/7740 [==============================] - 0s 35us/sample - loss: nan - val_loss: nan\n",
      "Epoch 5/100\n",
      "7740/7740 [==============================] - 0s 36us/sample - loss: nan - val_loss: nan\n",
      "Epoch 6/100\n",
      "7740/7740 [==============================] - 0s 36us/sample - loss: nan - val_loss: nan\n",
      "Epoch 7/100\n",
      "7740/7740 [==============================] - 0s 36us/sample - loss: nan - val_loss: nan\n",
      "Epoch 8/100\n",
      "7740/7740 [==============================] - 0s 36us/sample - loss: nan - val_loss: nan\n",
      "Epoch 9/100\n",
      "7740/7740 [==============================] - 0s 35us/sample - loss: nan - val_loss: nan\n",
      "Epoch 10/100\n",
      "7740/7740 [==============================] - 0s 36us/sample - loss: nan - val_loss: nan\n",
      "3870/3870 [==============================] - 0s 17us/sample - loss: nan\n",
      "7740/7740 [==============================] - 0s 17us/sample - loss: nan\n",
      "Train on 7740 samples, validate on 3870 samples\n",
      "Epoch 1/100\n",
      "7740/7740 [==============================] - 0s 59us/sample - loss: nan - val_loss: nan\n",
      "Epoch 2/100\n",
      "7740/7740 [==============================] - 0s 35us/sample - loss: nan - val_loss: nan\n",
      "Epoch 3/100\n",
      "7740/7740 [==============================] - 0s 35us/sample - loss: nan - val_loss: nan\n",
      "Epoch 4/100\n",
      "7740/7740 [==============================] - 0s 35us/sample - loss: nan - val_loss: nan\n",
      "Epoch 5/100\n",
      "7740/7740 [==============================] - 0s 35us/sample - loss: nan - val_loss: nan\n",
      "Epoch 6/100\n",
      "7740/7740 [==============================] - 0s 36us/sample - loss: nan - val_loss: nan\n",
      "Epoch 7/100\n",
      "7740/7740 [==============================] - 0s 36us/sample - loss: nan - val_loss: nan\n",
      "Epoch 8/100\n",
      "7740/7740 [==============================] - 0s 37us/sample - loss: nan - val_loss: nan\n",
      "Epoch 9/100\n",
      "7740/7740 [==============================] - 0s 36us/sample - loss: nan - val_loss: nan\n",
      "Epoch 10/100\n",
      "7740/7740 [==============================] - 0s 36us/sample - loss: nan - val_loss: nan\n",
      "3870/3870 [==============================] - 0s 18us/sample - loss: nan\n",
      "7740/7740 [==============================] - 0s 17us/sample - loss: nan\n",
      "Train on 7740 samples, validate on 3870 samples\n",
      "Epoch 1/100\n",
      "7740/7740 [==============================] - 0s 57us/sample - loss: nan - val_loss: nan\n",
      "Epoch 2/100\n",
      "7740/7740 [==============================] - 0s 35us/sample - loss: nan - val_loss: nan\n",
      "Epoch 3/100\n",
      "7740/7740 [==============================] - 0s 35us/sample - loss: nan - val_loss: nan\n",
      "Epoch 4/100\n",
      "7740/7740 [==============================] - 0s 36us/sample - loss: nan - val_loss: nan\n",
      "Epoch 5/100\n",
      "7740/7740 [==============================] - 0s 36us/sample - loss: nan - val_loss: nan\n",
      "Epoch 6/100\n",
      "7740/7740 [==============================] - 0s 35us/sample - loss: nan - val_loss: nan\n",
      "Epoch 7/100\n",
      "7740/7740 [==============================] - 0s 35us/sample - loss: nan - val_loss: nan\n",
      "Epoch 8/100\n",
      "7740/7740 [==============================] - 0s 35us/sample - loss: nan - val_loss: nan\n",
      "Epoch 9/100\n",
      "7740/7740 [==============================] - 0s 35us/sample - loss: nan - val_loss: nan\n",
      "Epoch 10/100\n",
      "7740/7740 [==============================] - 0s 34us/sample - loss: nan - val_loss: nan\n"
     ]
    },
    {
     "name": "stdout",
     "output_type": "stream",
     "text": [
      "3870/3870 [==============================] - 0s 16us/sample - loss: nan\n",
      "7740/7740 [==============================] - 0s 16us/sample - loss: nan\n",
      "Train on 7740 samples, validate on 3870 samples\n",
      "Epoch 1/100\n",
      "7740/7740 [==============================] - 0s 57us/sample - loss: nan - val_loss: nan\n",
      "Epoch 2/100\n",
      "7740/7740 [==============================] - 0s 35us/sample - loss: nan - val_loss: nan\n",
      "Epoch 3/100\n",
      "7740/7740 [==============================] - 0s 34us/sample - loss: nan - val_loss: nan\n",
      "Epoch 4/100\n",
      "7740/7740 [==============================] - 0s 34us/sample - loss: nan - val_loss: nan\n",
      "Epoch 5/100\n",
      "7740/7740 [==============================] - 0s 34us/sample - loss: nan - val_loss: nan\n",
      "Epoch 6/100\n",
      "7740/7740 [==============================] - 0s 34us/sample - loss: nan - val_loss: nan\n",
      "Epoch 7/100\n",
      "7740/7740 [==============================] - 0s 34us/sample - loss: nan - val_loss: nan\n",
      "Epoch 8/100\n",
      "7740/7740 [==============================] - 0s 34us/sample - loss: nan - val_loss: nan\n",
      "Epoch 9/100\n",
      "7740/7740 [==============================] - 0s 34us/sample - loss: nan - val_loss: nan\n",
      "Epoch 10/100\n",
      "7740/7740 [==============================] - 0s 34us/sample - loss: nan - val_loss: nan\n",
      "3870/3870 [==============================] - 0s 16us/sample - loss: nan\n",
      "7740/7740 [==============================] - 0s 16us/sample - loss: nan\n",
      "Train on 7740 samples, validate on 3870 samples\n",
      "Epoch 1/100\n",
      "7740/7740 [==============================] - 0s 54us/sample - loss: nan - val_loss: nan\n",
      "Epoch 2/100\n",
      "7740/7740 [==============================] - 0s 34us/sample - loss: nan - val_loss: nan\n",
      "Epoch 3/100\n",
      "7740/7740 [==============================] - 0s 34us/sample - loss: nan - val_loss: nan\n",
      "Epoch 4/100\n",
      "7740/7740 [==============================] - 0s 34us/sample - loss: nan - val_loss: nan\n",
      "Epoch 5/100\n",
      "7740/7740 [==============================] - 0s 34us/sample - loss: nan - val_loss: nan\n",
      "Epoch 6/100\n",
      "7740/7740 [==============================] - 0s 34us/sample - loss: nan - val_loss: nan\n",
      "Epoch 7/100\n",
      "7740/7740 [==============================] - 0s 34us/sample - loss: nan - val_loss: nan\n",
      "Epoch 8/100\n",
      "7740/7740 [==============================] - 0s 34us/sample - loss: nan - val_loss: nan\n",
      "Epoch 9/100\n",
      "7740/7740 [==============================] - 0s 34us/sample - loss: nan - val_loss: nan\n",
      "Epoch 10/100\n",
      "7740/7740 [==============================] - 0s 35us/sample - loss: nan - val_loss: nan\n",
      "3870/3870 [==============================] - 0s 16us/sample - loss: nan\n",
      "7740/7740 [==============================] - 0s 16us/sample - loss: nan\n",
      "Train on 7740 samples, validate on 3870 samples\n",
      "Epoch 1/100\n",
      "7740/7740 [==============================] - 0s 55us/sample - loss: nan - val_loss: nan\n",
      "Epoch 2/100\n",
      "7740/7740 [==============================] - 0s 45us/sample - loss: nan - val_loss: nan\n",
      "Epoch 3/100\n",
      "7740/7740 [==============================] - 0s 34us/sample - loss: nan - val_loss: nan\n",
      "Epoch 4/100\n",
      "7740/7740 [==============================] - 0s 35us/sample - loss: nan - val_loss: nan\n",
      "Epoch 5/100\n",
      "7740/7740 [==============================] - 0s 34us/sample - loss: nan - val_loss: nan\n",
      "Epoch 6/100\n",
      "7740/7740 [==============================] - 0s 34us/sample - loss: nan - val_loss: nan\n",
      "Epoch 7/100\n",
      "7740/7740 [==============================] - 0s 34us/sample - loss: nan - val_loss: nan\n",
      "Epoch 8/100\n",
      "7740/7740 [==============================] - 0s 34us/sample - loss: nan - val_loss: nan\n",
      "Epoch 9/100\n",
      "7740/7740 [==============================] - 0s 34us/sample - loss: nan - val_loss: nan\n",
      "Epoch 10/100\n",
      "7740/7740 [==============================] - 0s 34us/sample - loss: nan - val_loss: nan\n",
      "3870/3870 [==============================] - 0s 16us/sample - loss: nan\n",
      "7740/7740 [==============================] - 0s 16us/sample - loss: nan\n",
      "Train on 7740 samples, validate on 3870 samples\n",
      "Epoch 1/100\n",
      "7740/7740 [==============================] - 0s 55us/sample - loss: nan - val_loss: nan\n",
      "Epoch 2/100\n",
      "7740/7740 [==============================] - 0s 34us/sample - loss: nan - val_loss: nan\n",
      "Epoch 3/100\n",
      "7740/7740 [==============================] - 0s 34us/sample - loss: nan - val_loss: nan\n",
      "Epoch 4/100\n",
      "7740/7740 [==============================] - 0s 34us/sample - loss: nan - val_loss: nan\n",
      "Epoch 5/100\n",
      "7740/7740 [==============================] - 0s 34us/sample - loss: nan - val_loss: nan\n",
      "Epoch 6/100\n",
      "7740/7740 [==============================] - 0s 34us/sample - loss: nan - val_loss: nan\n",
      "Epoch 7/100\n",
      "7740/7740 [==============================] - 0s 34us/sample - loss: nan - val_loss: nan\n",
      "Epoch 8/100\n",
      "7740/7740 [==============================] - 0s 34us/sample - loss: nan - val_loss: nan\n",
      "Epoch 9/100\n",
      "7740/7740 [==============================] - 0s 34us/sample - loss: nan - val_loss: nan\n",
      "Epoch 10/100\n",
      "7740/7740 [==============================] - 0s 34us/sample - loss: nan - val_loss: nan\n",
      "3870/3870 [==============================] - 0s 16us/sample - loss: nan\n",
      "7740/7740 [==============================] - 0s 16us/sample - loss: nan\n",
      "Train on 7740 samples, validate on 3870 samples\n",
      "Epoch 1/100\n",
      "7740/7740 [==============================] - 0s 55us/sample - loss: nan - val_loss: nan\n",
      "Epoch 2/100\n",
      "7740/7740 [==============================] - 0s 34us/sample - loss: nan - val_loss: nan\n",
      "Epoch 3/100\n",
      "7740/7740 [==============================] - 0s 34us/sample - loss: nan - val_loss: nan\n",
      "Epoch 4/100\n",
      "7740/7740 [==============================] - 0s 34us/sample - loss: nan - val_loss: nan\n",
      "Epoch 5/100\n",
      "7740/7740 [==============================] - 0s 34us/sample - loss: nan - val_loss: nan\n",
      "Epoch 6/100\n",
      "7740/7740 [==============================] - 0s 34us/sample - loss: nan - val_loss: nan\n",
      "Epoch 7/100\n",
      "7740/7740 [==============================] - 0s 34us/sample - loss: nan - val_loss: nan\n",
      "Epoch 8/100\n",
      "7740/7740 [==============================] - 0s 34us/sample - loss: nan - val_loss: nan\n",
      "Epoch 9/100\n",
      "7740/7740 [==============================] - 0s 34us/sample - loss: nan - val_loss: nan\n",
      "Epoch 10/100\n",
      "7740/7740 [==============================] - 0s 34us/sample - loss: nan - val_loss: nan\n",
      "3870/3870 [==============================] - 0s 17us/sample - loss: nan\n",
      "7740/7740 [==============================] - 0s 16us/sample - loss: nan\n",
      "Train on 7740 samples, validate on 3870 samples\n",
      "Epoch 1/100\n",
      "7740/7740 [==============================] - 1s 68us/sample - loss: nan - val_loss: nan\n",
      "Epoch 2/100\n",
      "7740/7740 [==============================] - 0s 38us/sample - loss: nan - val_loss: nan\n",
      "Epoch 3/100\n",
      "7740/7740 [==============================] - 0s 38us/sample - loss: nan - val_loss: nan\n",
      "Epoch 4/100\n",
      "7740/7740 [==============================] - 0s 38us/sample - loss: nan - val_loss: nan\n",
      "Epoch 5/100\n",
      "7740/7740 [==============================] - 0s 38us/sample - loss: nan - val_loss: nan\n",
      "Epoch 6/100\n",
      "7740/7740 [==============================] - 0s 38us/sample - loss: nan - val_loss: nan\n",
      "Epoch 7/100\n",
      "7740/7740 [==============================] - 0s 38us/sample - loss: nan - val_loss: nan\n",
      "Epoch 8/100\n",
      "7740/7740 [==============================] - 0s 37us/sample - loss: nan - val_loss: nan\n",
      "Epoch 9/100\n",
      "7740/7740 [==============================] - 0s 38us/sample - loss: nan - val_loss: nan\n",
      "Epoch 10/100\n",
      "7740/7740 [==============================] - 0s 37us/sample - loss: nan - val_loss: nan\n",
      "3870/3870 [==============================] - 0s 18us/sample - loss: nan\n",
      "7740/7740 [==============================] - 0s 17us/sample - loss: nan\n",
      "Train on 7740 samples, validate on 3870 samples\n",
      "Epoch 1/100\n",
      "7740/7740 [==============================] - 1s 68us/sample - loss: nan - val_loss: nan\n",
      "Epoch 2/100\n",
      "7740/7740 [==============================] - 0s 38us/sample - loss: nan - val_loss: nan\n",
      "Epoch 3/100\n",
      "7740/7740 [==============================] - 0s 38us/sample - loss: nan - val_loss: nan\n",
      "Epoch 4/100\n",
      "7740/7740 [==============================] - 0s 38us/sample - loss: nan - val_loss: nan\n",
      "Epoch 5/100\n",
      "7740/7740 [==============================] - 0s 38us/sample - loss: nan - val_loss: nan\n",
      "Epoch 6/100\n",
      "7740/7740 [==============================] - 0s 38us/sample - loss: nan - val_loss: nan\n",
      "Epoch 7/100\n",
      "7740/7740 [==============================] - 0s 38us/sample - loss: nan - val_loss: nan\n",
      "Epoch 8/100\n",
      "7740/7740 [==============================] - 0s 39us/sample - loss: nan - val_loss: nan\n",
      "Epoch 9/100\n"
     ]
    },
    {
     "name": "stdout",
     "output_type": "stream",
     "text": [
      "7740/7740 [==============================] - 0s 42us/sample - loss: nan - val_loss: nan\n",
      "Epoch 10/100\n",
      "7740/7740 [==============================] - 0s 45us/sample - loss: nan - val_loss: nan\n",
      "3870/3870 [==============================] - 0s 23us/sample - loss: nan\n",
      "7740/7740 [==============================] - 0s 17us/sample - loss: nan\n",
      "Train on 7740 samples, validate on 3870 samples\n",
      "Epoch 1/100\n",
      "7740/7740 [==============================] - 1s 68us/sample - loss: nan - val_loss: nan\n",
      "Epoch 2/100\n",
      "7740/7740 [==============================] - 0s 38us/sample - loss: nan - val_loss: nan\n",
      "Epoch 3/100\n",
      "7740/7740 [==============================] - 0s 39us/sample - loss: nan - val_loss: nan\n",
      "Epoch 4/100\n",
      "7740/7740 [==============================] - 0s 39us/sample - loss: nan - val_loss: nan\n",
      "Epoch 5/100\n",
      "7740/7740 [==============================] - 0s 39us/sample - loss: nan - val_loss: nan\n",
      "Epoch 6/100\n",
      "7740/7740 [==============================] - 0s 39us/sample - loss: nan - val_loss: nan\n",
      "Epoch 7/100\n",
      "7740/7740 [==============================] - 0s 39us/sample - loss: nan - val_loss: nan\n",
      "Epoch 8/100\n",
      "7740/7740 [==============================] - 0s 38us/sample - loss: nan - val_loss: nan\n",
      "Epoch 9/100\n",
      "7740/7740 [==============================] - 0s 39us/sample - loss: nan - val_loss: nan\n",
      "Epoch 10/100\n",
      "7740/7740 [==============================] - 0s 40us/sample - loss: nan - val_loss: nan\n",
      "3870/3870 [==============================] - 0s 19us/sample - loss: nan\n",
      "7740/7740 [==============================] - 0s 19us/sample - loss: nan\n",
      "Train on 7740 samples, validate on 3870 samples\n",
      "Epoch 1/100\n",
      "7740/7740 [==============================] - 0s 64us/sample - loss: nan - val_loss: nan\n",
      "Epoch 2/100\n",
      "7740/7740 [==============================] - 0s 35us/sample - loss: nan - val_loss: nan\n",
      "Epoch 3/100\n",
      "7740/7740 [==============================] - 0s 35us/sample - loss: nan - val_loss: nan\n",
      "Epoch 4/100\n",
      "7740/7740 [==============================] - 0s 35us/sample - loss: nan - val_loss: nan\n",
      "Epoch 5/100\n",
      "7740/7740 [==============================] - 0s 35us/sample - loss: nan - val_loss: nan\n",
      "Epoch 6/100\n",
      "7740/7740 [==============================] - 0s 37us/sample - loss: nan - val_loss: nan\n",
      "Epoch 7/100\n",
      "7740/7740 [==============================] - 0s 36us/sample - loss: nan - val_loss: nan\n",
      "Epoch 8/100\n",
      "7740/7740 [==============================] - 0s 35us/sample - loss: nan - val_loss: nan\n",
      "Epoch 9/100\n",
      "7740/7740 [==============================] - 0s 35us/sample - loss: nan - val_loss: nan\n",
      "Epoch 10/100\n",
      "7740/7740 [==============================] - 0s 35us/sample - loss: nan - val_loss: nan\n",
      "3870/3870 [==============================] - 0s 17us/sample - loss: nan\n",
      "7740/7740 [==============================] - 0s 16us/sample - loss: nan\n",
      "Train on 7740 samples, validate on 3870 samples\n",
      "Epoch 1/100\n",
      "7740/7740 [==============================] - 0s 56us/sample - loss: nan - val_loss: nan\n",
      "Epoch 2/100\n",
      "7740/7740 [==============================] - 0s 35us/sample - loss: nan - val_loss: nan\n",
      "Epoch 3/100\n",
      "7740/7740 [==============================] - 0s 35us/sample - loss: nan - val_loss: nan\n",
      "Epoch 4/100\n",
      "7740/7740 [==============================] - 0s 35us/sample - loss: nan - val_loss: nan\n",
      "Epoch 5/100\n",
      "7740/7740 [==============================] - 0s 35us/sample - loss: nan - val_loss: nan\n",
      "Epoch 6/100\n",
      "7740/7740 [==============================] - 0s 35us/sample - loss: nan - val_loss: nan\n",
      "Epoch 7/100\n",
      "7740/7740 [==============================] - 0s 39us/sample - loss: nan - val_loss: nan\n",
      "Epoch 8/100\n",
      "7740/7740 [==============================] - 0s 34us/sample - loss: nan - val_loss: nan\n",
      "Epoch 9/100\n",
      "7740/7740 [==============================] - 0s 35us/sample - loss: nan - val_loss: nan\n",
      "Epoch 10/100\n",
      "7740/7740 [==============================] - 0s 34us/sample - loss: nan - val_loss: nan\n",
      "3870/3870 [==============================] - 0s 17us/sample - loss: nan\n",
      "7740/7740 [==============================] - 0s 16us/sample - loss: nan\n",
      "Train on 7740 samples, validate on 3870 samples\n",
      "Epoch 1/100\n",
      "7740/7740 [==============================] - 0s 57us/sample - loss: nan - val_loss: nan\n",
      "Epoch 2/100\n",
      "7740/7740 [==============================] - 0s 34us/sample - loss: nan - val_loss: nan\n",
      "Epoch 3/100\n",
      "7740/7740 [==============================] - 0s 34us/sample - loss: nan - val_loss: nan\n",
      "Epoch 4/100\n",
      "7740/7740 [==============================] - 0s 34us/sample - loss: nan - val_loss: nan\n",
      "Epoch 5/100\n",
      "7740/7740 [==============================] - 0s 34us/sample - loss: nan - val_loss: nan\n",
      "Epoch 6/100\n",
      "7740/7740 [==============================] - 0s 34us/sample - loss: nan - val_loss: nan\n",
      "Epoch 7/100\n",
      "7740/7740 [==============================] - 0s 34us/sample - loss: nan - val_loss: nan\n",
      "Epoch 8/100\n",
      "7740/7740 [==============================] - 0s 34us/sample - loss: nan - val_loss: nan\n",
      "Epoch 9/100\n",
      "7740/7740 [==============================] - 0s 34us/sample - loss: nan - val_loss: nan\n",
      "Epoch 10/100\n",
      "7740/7740 [==============================] - 0s 34us/sample - loss: nan - val_loss: nan\n",
      "3870/3870 [==============================] - 0s 16us/sample - loss: nan\n",
      "7740/7740 [==============================] - 0s 16us/sample - loss: nan\n",
      "Train on 7740 samples, validate on 3870 samples\n",
      "Epoch 1/100\n",
      "7740/7740 [==============================] - 0s 59us/sample - loss: 321006748755000.0000 - val_loss: 192473718068.5230\n",
      "Epoch 2/100\n",
      "7740/7740 [==============================] - 0s 35us/sample - loss: 66670530821.9535 - val_loss: 12789072718.7183\n",
      "Epoch 3/100\n",
      "7740/7740 [==============================] - 0s 35us/sample - loss: 4429977572.2171 - val_loss: 849779033.1370\n",
      "Epoch 4/100\n",
      "7740/7740 [==============================] - 0s 35us/sample - loss: 294353325.9886 - val_loss: 56464298.3938\n",
      "Epoch 5/100\n",
      "7740/7740 [==============================] - 0s 35us/sample - loss: 19558574.5532 - val_loss: 3751800.3388\n",
      "Epoch 6/100\n",
      "7740/7740 [==============================] - 0s 35us/sample - loss: 1299580.6153 - val_loss: 249284.9467\n",
      "Epoch 7/100\n",
      "7740/7740 [==============================] - 0s 35us/sample - loss: 86350.8010 - val_loss: 16563.4854\n",
      "Epoch 8/100\n",
      "7740/7740 [==============================] - 0s 35us/sample - loss: 5739.0151 - val_loss: 1101.7778\n",
      "Epoch 9/100\n",
      "7740/7740 [==============================] - 0s 35us/sample - loss: 382.6776 - val_loss: 74.3935\n",
      "Epoch 10/100\n",
      "7740/7740 [==============================] - 0s 35us/sample - loss: 26.6727 - val_loss: 6.1488\n",
      "Epoch 11/100\n",
      "7740/7740 [==============================] - 0s 36us/sample - loss: 3.0240 - val_loss: 1.6351\n",
      "Epoch 12/100\n",
      "7740/7740 [==============================] - 0s 35us/sample - loss: 1.4579 - val_loss: 1.3399\n",
      "Epoch 13/100\n",
      "7740/7740 [==============================] - 0s 35us/sample - loss: 1.3546 - val_loss: 1.3209\n",
      "Epoch 14/100\n",
      "7740/7740 [==============================] - 0s 35us/sample - loss: 1.3472 - val_loss: 1.3196\n",
      "Epoch 15/100\n",
      "7740/7740 [==============================] - 0s 35us/sample - loss: 1.3468 - val_loss: 1.3196\n",
      "Epoch 16/100\n",
      "7740/7740 [==============================] - 0s 35us/sample - loss: 1.3468 - val_loss: 1.3197\n",
      "Epoch 17/100\n",
      "7740/7740 [==============================] - 0s 35us/sample - loss: 1.3467 - val_loss: 1.3198\n",
      "Epoch 18/100\n",
      "7740/7740 [==============================] - 0s 35us/sample - loss: 1.3468 - val_loss: 1.3197\n",
      "Epoch 19/100\n",
      "7740/7740 [==============================] - 0s 35us/sample - loss: 1.3468 - val_loss: 1.3197\n",
      "Epoch 20/100\n",
      "7740/7740 [==============================] - 0s 35us/sample - loss: 1.3468 - val_loss: 1.3197\n",
      "Epoch 21/100\n",
      "7740/7740 [==============================] - 0s 35us/sample - loss: 1.3468 - val_loss: 1.3196\n",
      "Epoch 22/100\n",
      "7740/7740 [==============================] - 0s 35us/sample - loss: 1.3467 - val_loss: 1.3197\n",
      "Epoch 23/100\n",
      "7740/7740 [==============================] - 0s 35us/sample - loss: 1.3467 - val_loss: 1.3196\n",
      "Epoch 24/100\n",
      "7740/7740 [==============================] - 0s 35us/sample - loss: 1.3468 - val_loss: 1.3196\n",
      "Epoch 25/100\n",
      "7740/7740 [==============================] - 0s 35us/sample - loss: 1.3469 - val_loss: 1.3196\n",
      "Epoch 26/100\n",
      "7740/7740 [==============================] - 0s 35us/sample - loss: 1.3468 - val_loss: 1.3196\n",
      "Epoch 27/100\n",
      "7740/7740 [==============================] - 0s 35us/sample - loss: 1.3468 - val_loss: 1.3197\n",
      "Epoch 28/100\n"
     ]
    },
    {
     "name": "stdout",
     "output_type": "stream",
     "text": [
      "7740/7740 [==============================] - 0s 35us/sample - loss: 1.3468 - val_loss: 1.3197\n",
      "Epoch 29/100\n",
      "7740/7740 [==============================] - 0s 35us/sample - loss: 1.3468 - val_loss: 1.3197\n",
      "Epoch 30/100\n",
      "7740/7740 [==============================] - 0s 35us/sample - loss: 1.3468 - val_loss: 1.3197\n",
      "Epoch 31/100\n",
      "7740/7740 [==============================] - 0s 35us/sample - loss: 1.3468 - val_loss: 1.3197\n",
      "Epoch 32/100\n",
      "7740/7740 [==============================] - 0s 35us/sample - loss: 1.3468 - val_loss: 1.3197\n",
      "Epoch 33/100\n",
      "7740/7740 [==============================] - 0s 36us/sample - loss: 1.3468 - val_loss: 1.3196\n",
      "Epoch 34/100\n",
      "7740/7740 [==============================] - 0s 35us/sample - loss: 1.3468 - val_loss: 1.3197\n",
      "3870/3870 [==============================] - 0s 17us/sample - loss: 1.3456\n",
      "7740/7740 [==============================] - 0s 16us/sample - loss: 1.3466\n",
      "Train on 7740 samples, validate on 3870 samples\n",
      "Epoch 1/100\n",
      "7740/7740 [==============================] - 1s 65us/sample - loss: 9500850153408192512.0000 - val_loss: 3919520043384705.0000\n",
      "Epoch 2/100\n",
      "7740/7740 [==============================] - 0s 35us/sample - loss: 1357674171746093.2500 - val_loss: 260435980135167.3438\n",
      "Epoch 3/100\n",
      "7740/7740 [==============================] - 0s 36us/sample - loss: 90211852141991.8906 - val_loss: 17304895762404.4824\n",
      "Epoch 4/100\n",
      "7740/7740 [==============================] - 0s 36us/sample - loss: 5994206024638.9082 - val_loss: 1149839528742.4993\n",
      "Epoch 5/100\n",
      "7740/7740 [==============================] - 0s 35us/sample - loss: 398290512165.1762 - val_loss: 76402185692.8083\n",
      "Epoch 6/100\n",
      "7740/7740 [==============================] - 0s 35us/sample - loss: 26464775322.7907 - val_loss: 5076605802.2367\n",
      "Epoch 7/100\n",
      "7740/7740 [==============================] - 0s 35us/sample - loss: 1758473666.4972 - val_loss: 337319249.2982\n",
      "Epoch 8/100\n",
      "7740/7740 [==============================] - 0s 35us/sample - loss: 116843254.2760 - val_loss: 22413518.0289\n",
      "Epoch 9/100\n",
      "7740/7740 [==============================] - 0s 35us/sample - loss: 7763745.1535 - val_loss: 1489291.5755\n",
      "Epoch 10/100\n",
      "7740/7740 [==============================] - 0s 35us/sample - loss: 515868.6435 - val_loss: 98961.4836\n",
      "Epoch 11/100\n",
      "7740/7740 [==============================] - 0s 35us/sample - loss: 34277.9718 - val_loss: 6576.9428\n",
      "Epoch 12/100\n",
      "7740/7740 [==============================] - 0s 35us/sample - loss: 2279.1036 - val_loss: 438.6839\n",
      "Epoch 13/100\n",
      "7740/7740 [==============================] - 0s 35us/sample - loss: 152.7033 - val_loss: 30.4047\n",
      "Epoch 14/100\n",
      "7740/7740 [==============================] - 0s 35us/sample - loss: 11.3940 - val_loss: 3.2653\n",
      "Epoch 15/100\n",
      "7740/7740 [==============================] - 0s 35us/sample - loss: 2.0071 - val_loss: 1.4523\n",
      "Epoch 16/100\n",
      "7740/7740 [==============================] - 0s 35us/sample - loss: 1.3821 - val_loss: 1.3295\n",
      "Epoch 17/100\n",
      "7740/7740 [==============================] - 0s 35us/sample - loss: 1.3408 - val_loss: 1.3212\n",
      "Epoch 18/100\n",
      "7740/7740 [==============================] - 0s 35us/sample - loss: 1.3378 - val_loss: 1.3199\n",
      "Epoch 19/100\n",
      "7740/7740 [==============================] - 0s 35us/sample - loss: 1.3373 - val_loss: 1.3196\n",
      "Epoch 20/100\n",
      "7740/7740 [==============================] - 0s 36us/sample - loss: 1.3374 - val_loss: 1.3197\n",
      "Epoch 21/100\n",
      "7740/7740 [==============================] - 0s 35us/sample - loss: 1.3374 - val_loss: 1.3196\n",
      "Epoch 22/100\n",
      "7740/7740 [==============================] - 0s 35us/sample - loss: 1.3373 - val_loss: 1.3196\n",
      "Epoch 23/100\n",
      "7740/7740 [==============================] - 0s 35us/sample - loss: 1.3374 - val_loss: 1.3197\n",
      "Epoch 24/100\n",
      "7740/7740 [==============================] - 0s 35us/sample - loss: 1.3373 - val_loss: 1.3196\n",
      "Epoch 25/100\n",
      "7740/7740 [==============================] - 0s 35us/sample - loss: 1.3374 - val_loss: 1.3197\n",
      "Epoch 26/100\n",
      "7740/7740 [==============================] - 0s 35us/sample - loss: 1.3373 - val_loss: 1.3197\n",
      "Epoch 27/100\n",
      "7740/7740 [==============================] - 0s 35us/sample - loss: 1.3373 - val_loss: 1.3196\n",
      "Epoch 28/100\n",
      "7740/7740 [==============================] - 0s 35us/sample - loss: 1.3374 - val_loss: 1.3197\n",
      "Epoch 29/100\n",
      "7740/7740 [==============================] - 0s 35us/sample - loss: 1.3373 - val_loss: 1.3196\n",
      "Epoch 30/100\n",
      "7740/7740 [==============================] - 0s 35us/sample - loss: 1.3373 - val_loss: 1.3196\n",
      "Epoch 31/100\n",
      "7740/7740 [==============================] - 0s 36us/sample - loss: 1.3372 - val_loss: 1.3196\n",
      "Epoch 32/100\n",
      "7740/7740 [==============================] - 0s 35us/sample - loss: 1.3374 - val_loss: 1.3196\n",
      "Epoch 33/100\n",
      "7740/7740 [==============================] - 0s 35us/sample - loss: 1.3373 - val_loss: 1.3196\n",
      "Epoch 34/100\n",
      "7740/7740 [==============================] - 0s 35us/sample - loss: 1.3373 - val_loss: 1.3197\n",
      "3870/3870 [==============================] - 0s 17us/sample - loss: 1.3645\n",
      "7740/7740 [==============================] - 0s 17us/sample - loss: 1.3372\n",
      "Train on 7740 samples, validate on 3870 samples\n",
      "Epoch 1/100\n",
      "7740/7740 [==============================] - 0s 60us/sample - loss: 1763259730983116133629952.0000 - val_loss: 772970888812851888128.0000\n",
      "Epoch 2/100\n",
      "7740/7740 [==============================] - 0s 38us/sample - loss: 267747742700115230720.0000 - val_loss: 51360739000393400320.0000\n",
      "Epoch 3/100\n",
      "7740/7740 [==============================] - 0s 36us/sample - loss: 17790732802517827584.0000 - val_loss: 3412710092770771968.0000\n",
      "Epoch 4/100\n",
      "7740/7740 [==============================] - 0s 36us/sample - loss: 1182121393013761536.0000 - val_loss: 226760580739883072.0000\n",
      "Epoch 5/100\n",
      "7740/7740 [==============================] - 0s 36us/sample - loss: 78547116626006368.0000 - val_loss: 15067318644178436.0000\n",
      "Epoch 6/100\n",
      "7740/7740 [==============================] - 0s 36us/sample - loss: 5219134353340381.0000 - val_loss: 1001160632609044.2500\n",
      "Epoch 7/100\n",
      "7740/7740 [==============================] - 0s 35us/sample - loss: 346789746225683.3125 - val_loss: 66522986012041.1953\n",
      "Epoch 8/100\n",
      "7740/7740 [==============================] - 0s 36us/sample - loss: 23042748097007.3281 - val_loss: 4420177942573.5107\n",
      "Epoch 9/100\n",
      "7740/7740 [==============================] - 0s 35us/sample - loss: 1531095532629.2012 - val_loss: 293702806694.6977\n",
      "Epoch 10/100\n",
      "7740/7740 [==============================] - 0s 35us/sample - loss: 101735086915.0760 - val_loss: 19515343706.3607\n",
      "Epoch 11/100\n",
      "7740/7740 [==============================] - 0s 35us/sample - loss: 6759875514.8734 - val_loss: 1296714821.5235\n",
      "Epoch 12/100\n",
      "7740/7740 [==============================] - 0s 35us/sample - loss: 449165668.6181 - val_loss: 86161180.3245\n",
      "Epoch 13/100\n",
      "7740/7740 [==============================] - 0s 35us/sample - loss: 29845117.1656 - val_loss: 5725092.3881\n",
      "Epoch 14/100\n",
      "7740/7740 [==============================] - 0s 35us/sample - loss: 1983094.9831 - val_loss: 380421.4854\n",
      "Epoch 15/100\n",
      "7740/7740 [==============================] - 0s 35us/sample - loss: 131771.1744 - val_loss: 25280.4858\n",
      "Epoch 16/100\n",
      "7740/7740 [==============================] - 0s 35us/sample - loss: 8756.5070 - val_loss: 1680.8280\n",
      "Epoch 17/100\n",
      "7740/7740 [==============================] - 0s 35us/sample - loss: 582.9156 - val_loss: 113.0460\n",
      "Epoch 18/100\n",
      "7740/7740 [==============================] - 0s 35us/sample - loss: 40.0049 - val_loss: 8.7685\n",
      "Epoch 19/100\n",
      "7740/7740 [==============================] - 0s 37us/sample - loss: 3.9151 - val_loss: 1.8197\n",
      "Epoch 20/100\n",
      "7740/7740 [==============================] - 0s 35us/sample - loss: 1.5254 - val_loss: 1.3563\n",
      "Epoch 21/100\n",
      "7740/7740 [==============================] - 0s 36us/sample - loss: 1.3674 - val_loss: 1.3237\n",
      "Epoch 22/100\n",
      "7740/7740 [==============================] - 0s 36us/sample - loss: 1.3562 - val_loss: 1.3203\n",
      "Epoch 23/100\n",
      "7740/7740 [==============================] - 0s 36us/sample - loss: 1.3551 - val_loss: 1.3198\n",
      "Epoch 24/100\n",
      "7740/7740 [==============================] - 0s 36us/sample - loss: 1.3549 - val_loss: 1.3197\n",
      "Epoch 25/100\n",
      "7740/7740 [==============================] - 0s 36us/sample - loss: 1.3550 - val_loss: 1.3196\n",
      "Epoch 26/100\n",
      "7740/7740 [==============================] - 0s 36us/sample - loss: 1.3549 - val_loss: 1.3198\n",
      "Epoch 27/100\n"
     ]
    },
    {
     "name": "stdout",
     "output_type": "stream",
     "text": [
      "7740/7740 [==============================] - 0s 37us/sample - loss: 1.3549 - val_loss: 1.3197\n",
      "Epoch 28/100\n",
      "7740/7740 [==============================] - 0s 42us/sample - loss: 1.3550 - val_loss: 1.3197\n",
      "Epoch 29/100\n",
      "7740/7740 [==============================] - 0s 36us/sample - loss: 1.3550 - val_loss: 1.3197\n",
      "Epoch 30/100\n",
      "7740/7740 [==============================] - 0s 36us/sample - loss: 1.3550 - val_loss: 1.3197\n",
      "Epoch 31/100\n",
      "7740/7740 [==============================] - 0s 36us/sample - loss: 1.3549 - val_loss: 1.3196\n",
      "Epoch 32/100\n",
      "7740/7740 [==============================] - 0s 36us/sample - loss: 1.3550 - val_loss: 1.3197\n",
      "Epoch 33/100\n",
      "7740/7740 [==============================] - 0s 35us/sample - loss: 1.3550 - val_loss: 1.3196\n",
      "Epoch 34/100\n",
      "7740/7740 [==============================] - 0s 36us/sample - loss: 1.3550 - val_loss: 1.3196\n",
      "Epoch 35/100\n",
      "7740/7740 [==============================] - 0s 35us/sample - loss: 1.3549 - val_loss: 1.3196\n",
      "Epoch 36/100\n",
      "7740/7740 [==============================] - 0s 36us/sample - loss: 1.3549 - val_loss: 1.3198\n",
      "Epoch 37/100\n",
      "7740/7740 [==============================] - 0s 36us/sample - loss: 1.3549 - val_loss: 1.3196\n",
      "Epoch 38/100\n",
      "7740/7740 [==============================] - 0s 35us/sample - loss: 1.3550 - val_loss: 1.3198\n",
      "Epoch 39/100\n",
      "7740/7740 [==============================] - 0s 36us/sample - loss: 1.3550 - val_loss: 1.3197\n",
      "Epoch 40/100\n",
      "7740/7740 [==============================] - 0s 36us/sample - loss: 1.3550 - val_loss: 1.3197\n",
      "Epoch 41/100\n",
      "7740/7740 [==============================] - 0s 36us/sample - loss: 1.3549 - val_loss: 1.3198\n",
      "Epoch 42/100\n",
      "7740/7740 [==============================] - 0s 36us/sample - loss: 1.3550 - val_loss: 1.3196\n",
      "Epoch 43/100\n",
      "7740/7740 [==============================] - 0s 36us/sample - loss: 1.3550 - val_loss: 1.3197\n",
      "Epoch 44/100\n",
      "7740/7740 [==============================] - 0s 36us/sample - loss: 1.3550 - val_loss: 1.3196\n",
      "Epoch 45/100\n",
      "7740/7740 [==============================] - 0s 35us/sample - loss: 1.3549 - val_loss: 1.3197\n",
      "3870/3870 [==============================] - 0s 17us/sample - loss: 1.3295\n",
      "7740/7740 [==============================] - 0s 17us/sample - loss: 1.3548\n",
      "Train on 7740 samples, validate on 3870 samples\n",
      "Epoch 1/100\n",
      "7740/7740 [==============================] - 1s 69us/sample - loss: nan - val_loss: nan\n",
      "Epoch 2/100\n",
      "7740/7740 [==============================] - 0s 40us/sample - loss: nan - val_loss: nan\n",
      "Epoch 3/100\n",
      "7740/7740 [==============================] - 0s 39us/sample - loss: nan - val_loss: nan\n",
      "Epoch 4/100\n",
      "7740/7740 [==============================] - 0s 39us/sample - loss: nan - val_loss: nan\n",
      "Epoch 5/100\n",
      "7740/7740 [==============================] - 0s 39us/sample - loss: nan - val_loss: nan\n",
      "Epoch 6/100\n",
      "7740/7740 [==============================] - 0s 39us/sample - loss: nan - val_loss: nan\n",
      "Epoch 7/100\n",
      "7740/7740 [==============================] - 0s 40us/sample - loss: nan - val_loss: nan\n",
      "Epoch 8/100\n",
      "7740/7740 [==============================] - 0s 39us/sample - loss: nan - val_loss: nan\n",
      "Epoch 9/100\n",
      "7740/7740 [==============================] - 0s 39us/sample - loss: nan - val_loss: nan\n",
      "Epoch 10/100\n",
      "7740/7740 [==============================] - 0s 39us/sample - loss: nan - val_loss: nan\n",
      "3870/3870 [==============================] - 0s 18us/sample - loss: nan\n",
      "7740/7740 [==============================] - 0s 18us/sample - loss: nan\n",
      "Train on 7740 samples, validate on 3870 samples\n",
      "Epoch 1/100\n",
      "7740/7740 [==============================] - 1s 72us/sample - loss: nan - val_loss: nan\n",
      "Epoch 2/100\n",
      "7740/7740 [==============================] - 0s 39us/sample - loss: nan - val_loss: nan\n",
      "Epoch 3/100\n",
      "7740/7740 [==============================] - 0s 38us/sample - loss: nan - val_loss: nan\n",
      "Epoch 4/100\n",
      "7740/7740 [==============================] - 0s 38us/sample - loss: nan - val_loss: nan\n",
      "Epoch 5/100\n",
      "7740/7740 [==============================] - 0s 38us/sample - loss: nan - val_loss: nan\n",
      "Epoch 6/100\n",
      "7740/7740 [==============================] - 0s 38us/sample - loss: nan - val_loss: nan\n",
      "Epoch 7/100\n",
      "7740/7740 [==============================] - 0s 39us/sample - loss: nan - val_loss: nan\n",
      "Epoch 8/100\n",
      "7740/7740 [==============================] - 0s 39us/sample - loss: nan - val_loss: nan\n",
      "Epoch 9/100\n",
      "7740/7740 [==============================] - 0s 38us/sample - loss: nan - val_loss: nan\n",
      "Epoch 10/100\n",
      "7740/7740 [==============================] - 0s 39us/sample - loss: nan - val_loss: nan\n",
      "3870/3870 [==============================] - 0s 18us/sample - loss: nan\n",
      "7740/7740 [==============================] - 0s 17us/sample - loss: nan\n",
      "Train on 7740 samples, validate on 3870 samples\n",
      "Epoch 1/100\n",
      "7740/7740 [==============================] - 1s 103us/sample - loss: nan - val_loss: nan\n",
      "Epoch 2/100\n",
      "7740/7740 [==============================] - 0s 39us/sample - loss: nan - val_loss: nan\n",
      "Epoch 3/100\n",
      "7740/7740 [==============================] - 0s 40us/sample - loss: nan - val_loss: nan\n",
      "Epoch 4/100\n",
      "7740/7740 [==============================] - 0s 39us/sample - loss: nan - val_loss: nan\n",
      "Epoch 5/100\n",
      "7740/7740 [==============================] - 0s 39us/sample - loss: nan - val_loss: nan\n",
      "Epoch 6/100\n",
      "7740/7740 [==============================] - 0s 39us/sample - loss: nan - val_loss: nan\n",
      "Epoch 7/100\n",
      "7740/7740 [==============================] - 0s 39us/sample - loss: nan - val_loss: nan\n",
      "Epoch 8/100\n",
      "7740/7740 [==============================] - 0s 38us/sample - loss: nan - val_loss: nan\n",
      "Epoch 9/100\n",
      "7740/7740 [==============================] - 0s 38us/sample - loss: nan - val_loss: nan\n",
      "Epoch 10/100\n",
      "7740/7740 [==============================] - 0s 38us/sample - loss: nan - val_loss: nan\n",
      "3870/3870 [==============================] - 0s 18us/sample - loss: nan\n",
      "7740/7740 [==============================] - 0s 17us/sample - loss: nan\n",
      "Train on 7740 samples, validate on 3870 samples\n",
      "Epoch 1/100\n",
      "7740/7740 [==============================] - 0s 55us/sample - loss: nan - val_loss: nan\n",
      "Epoch 2/100\n",
      "7740/7740 [==============================] - 0s 34us/sample - loss: nan - val_loss: nan\n",
      "Epoch 3/100\n",
      "7740/7740 [==============================] - 0s 34us/sample - loss: nan - val_loss: nan\n",
      "Epoch 4/100\n",
      "7740/7740 [==============================] - 0s 34us/sample - loss: nan - val_loss: nan\n",
      "Epoch 5/100\n",
      "7740/7740 [==============================] - 0s 35us/sample - loss: nan - val_loss: nan\n",
      "Epoch 6/100\n",
      "7740/7740 [==============================] - 0s 34us/sample - loss: nan - val_loss: nan\n",
      "Epoch 7/100\n",
      "7740/7740 [==============================] - 0s 35us/sample - loss: nan - val_loss: nan\n",
      "Epoch 8/100\n",
      "7740/7740 [==============================] - 0s 35us/sample - loss: nan - val_loss: nan\n",
      "Epoch 9/100\n",
      "7740/7740 [==============================] - 0s 34us/sample - loss: nan - val_loss: nan\n",
      "Epoch 10/100\n",
      "7740/7740 [==============================] - 0s 35us/sample - loss: nan - val_loss: nan\n",
      "3870/3870 [==============================] - 0s 16us/sample - loss: nan\n",
      "7740/7740 [==============================] - 0s 16us/sample - loss: nan\n",
      "Train on 7740 samples, validate on 3870 samples\n",
      "Epoch 1/100\n",
      "7740/7740 [==============================] - 0s 56us/sample - loss: nan - val_loss: nan\n",
      "Epoch 2/100\n",
      "7740/7740 [==============================] - 0s 36us/sample - loss: nan - val_loss: nan\n",
      "Epoch 3/100\n",
      "7740/7740 [==============================] - 0s 38us/sample - loss: nan - val_loss: nan\n",
      "Epoch 4/100\n",
      "7740/7740 [==============================] - 0s 35us/sample - loss: nan - val_loss: nan\n",
      "Epoch 5/100\n",
      "7740/7740 [==============================] - 0s 36us/sample - loss: nan - val_loss: nan\n",
      "Epoch 6/100\n",
      "7740/7740 [==============================] - 0s 36us/sample - loss: nan - val_loss: nan\n",
      "Epoch 7/100\n",
      "7740/7740 [==============================] - 0s 34us/sample - loss: nan - val_loss: nan\n",
      "Epoch 8/100\n",
      "7740/7740 [==============================] - 0s 34us/sample - loss: nan - val_loss: nan\n",
      "Epoch 9/100\n",
      "7740/7740 [==============================] - 0s 34us/sample - loss: nan - val_loss: nan\n",
      "Epoch 10/100\n",
      "7740/7740 [==============================] - 0s 35us/sample - loss: nan - val_loss: nan\n",
      "3870/3870 [==============================] - 0s 16us/sample - loss: nan\n",
      "7740/7740 [==============================] - 0s 16us/sample - loss: nan\n",
      "Train on 7740 samples, validate on 3870 samples\n",
      "Epoch 1/100\n"
     ]
    },
    {
     "name": "stdout",
     "output_type": "stream",
     "text": [
      "7740/7740 [==============================] - 0s 57us/sample - loss: nan - val_loss: nan\n",
      "Epoch 2/100\n",
      "7740/7740 [==============================] - 0s 34us/sample - loss: nan - val_loss: nan\n",
      "Epoch 3/100\n",
      "7740/7740 [==============================] - 0s 34us/sample - loss: nan - val_loss: nan\n",
      "Epoch 4/100\n",
      "7740/7740 [==============================] - 0s 34us/sample - loss: nan - val_loss: nan\n",
      "Epoch 5/100\n",
      "7740/7740 [==============================] - 0s 34us/sample - loss: nan - val_loss: nan\n",
      "Epoch 6/100\n",
      "7740/7740 [==============================] - 0s 34us/sample - loss: nan - val_loss: nan\n",
      "Epoch 7/100\n",
      "7740/7740 [==============================] - 0s 34us/sample - loss: nan - val_loss: nan\n",
      "Epoch 8/100\n",
      "7740/7740 [==============================] - 0s 36us/sample - loss: nan - val_loss: nan\n",
      "Epoch 9/100\n",
      "7740/7740 [==============================] - 0s 50us/sample - loss: nan - val_loss: nan\n",
      "Epoch 10/100\n",
      "7740/7740 [==============================] - 0s 35us/sample - loss: nan - val_loss: nan\n",
      "3870/3870 [==============================] - 0s 17us/sample - loss: nan\n",
      "7740/7740 [==============================] - 0s 16us/sample - loss: nan\n",
      "Train on 7740 samples, validate on 3870 samples\n",
      "Epoch 1/100\n",
      "7740/7740 [==============================] - 1s 68us/sample - loss: nan - val_loss: nan\n",
      "Epoch 2/100\n",
      "7740/7740 [==============================] - 0s 38us/sample - loss: nan - val_loss: nan\n",
      "Epoch 3/100\n",
      "7740/7740 [==============================] - 0s 38us/sample - loss: nan - val_loss: nan\n",
      "Epoch 4/100\n",
      "7740/7740 [==============================] - 0s 38us/sample - loss: nan - val_loss: nan\n",
      "Epoch 5/100\n",
      "7740/7740 [==============================] - 0s 38us/sample - loss: nan - val_loss: nan\n",
      "Epoch 6/100\n",
      "7740/7740 [==============================] - 0s 38us/sample - loss: nan - val_loss: nan\n",
      "Epoch 7/100\n",
      "7740/7740 [==============================] - 0s 38us/sample - loss: nan - val_loss: nan\n",
      "Epoch 8/100\n",
      "7740/7740 [==============================] - 0s 38us/sample - loss: nan - val_loss: nan\n",
      "Epoch 9/100\n",
      "7740/7740 [==============================] - 0s 37us/sample - loss: nan - val_loss: nan\n",
      "Epoch 10/100\n",
      "7740/7740 [==============================] - 0s 37us/sample - loss: nan - val_loss: nan\n",
      "3870/3870 [==============================] - 0s 18us/sample - loss: nan\n",
      "7740/7740 [==============================] - 0s 17us/sample - loss: nan\n",
      "Train on 7740 samples, validate on 3870 samples\n",
      "Epoch 1/100\n",
      "7740/7740 [==============================] - 1s 66us/sample - loss: nan - val_loss: nan\n",
      "Epoch 2/100\n",
      "7740/7740 [==============================] - 0s 37us/sample - loss: nan - val_loss: nan\n",
      "Epoch 3/100\n",
      "7740/7740 [==============================] - 0s 38us/sample - loss: nan - val_loss: nan\n",
      "Epoch 4/100\n",
      "7740/7740 [==============================] - 0s 37us/sample - loss: nan - val_loss: nan\n",
      "Epoch 5/100\n",
      "7740/7740 [==============================] - 0s 37us/sample - loss: nan - val_loss: nan\n",
      "Epoch 6/100\n",
      "7740/7740 [==============================] - 0s 37us/sample - loss: nan - val_loss: nan\n",
      "Epoch 7/100\n",
      "7740/7740 [==============================] - 0s 37us/sample - loss: nan - val_loss: nan\n",
      "Epoch 8/100\n",
      "7740/7740 [==============================] - 0s 37us/sample - loss: nan - val_loss: nan\n",
      "Epoch 9/100\n",
      "7740/7740 [==============================] - 0s 37us/sample - loss: nan - val_loss: nan\n",
      "Epoch 10/100\n",
      "7740/7740 [==============================] - 0s 37us/sample - loss: nan - val_loss: nan\n",
      "3870/3870 [==============================] - 0s 18us/sample - loss: nan\n",
      "7740/7740 [==============================] - 0s 17us/sample - loss: nan\n",
      "Train on 7740 samples, validate on 3870 samples\n",
      "Epoch 1/100\n",
      "7740/7740 [==============================] - 1s 65us/sample - loss: nan - val_loss: nan\n",
      "Epoch 2/100\n",
      "7740/7740 [==============================] - 0s 37us/sample - loss: nan - val_loss: nan\n",
      "Epoch 3/100\n",
      "7740/7740 [==============================] - 0s 37us/sample - loss: nan - val_loss: nan\n",
      "Epoch 4/100\n",
      "7740/7740 [==============================] - 0s 37us/sample - loss: nan - val_loss: nan\n",
      "Epoch 5/100\n",
      "7740/7740 [==============================] - 0s 37us/sample - loss: nan - val_loss: nan\n",
      "Epoch 6/100\n",
      "7740/7740 [==============================] - 0s 37us/sample - loss: nan - val_loss: nan\n",
      "Epoch 7/100\n",
      "7740/7740 [==============================] - 0s 37us/sample - loss: nan - val_loss: nan\n",
      "Epoch 8/100\n",
      "7740/7740 [==============================] - 0s 37us/sample - loss: nan - val_loss: nan\n",
      "Epoch 9/100\n",
      "7740/7740 [==============================] - 0s 37us/sample - loss: nan - val_loss: nan\n",
      "Epoch 10/100\n",
      "7740/7740 [==============================] - 0s 37us/sample - loss: nan - val_loss: nan\n",
      "3870/3870 [==============================] - 0s 17us/sample - loss: nan\n",
      "7740/7740 [==============================] - 0s 17us/sample - loss: nan\n",
      "Train on 11610 samples, validate on 3870 samples\n",
      "Epoch 1/100\n",
      "   32/11610 [..............................] - ETA: 50s - loss: 4555.6953"
     ]
    },
    {
     "name": "stderr",
     "output_type": "stream",
     "text": [
      "/Users/fra/anaconda3/lib/python3.7/site-packages/sklearn/model_selection/_search.py:841: DeprecationWarning: The default of the `iid` parameter will change from True to False in version 0.22 and will be removed in 0.24. This will change numeric results when test-set sizes are unequal.\n",
      "  DeprecationWarning)\n"
     ]
    },
    {
     "name": "stdout",
     "output_type": "stream",
     "text": [
      "11610/11610 [==============================] - 1s 47us/sample - loss: 86799359364804032.0000 - val_loss: 19064074739885.5781\n",
      "Epoch 2/100\n",
      "11610/11610 [==============================] - 0s 32us/sample - loss: 4635240729717.3057 - val_loss: 326525904486.4000\n",
      "Epoch 3/100\n",
      "11610/11610 [==============================] - 0s 32us/sample - loss: 79391500544.3969 - val_loss: 5592676913.2155\n",
      "Epoch 4/100\n",
      "11610/11610 [==============================] - 0s 31us/sample - loss: 1359803320.3294 - val_loss: 95790303.0078\n",
      "Epoch 5/100\n",
      "11610/11610 [==============================] - 0s 31us/sample - loss: 23290464.6139 - val_loss: 1640691.3371\n",
      "Epoch 6/100\n",
      "11610/11610 [==============================] - 0s 32us/sample - loss: 398916.8877 - val_loss: 28102.6829\n",
      "Epoch 7/100\n",
      "11610/11610 [==============================] - 0s 31us/sample - loss: 6834.0673 - val_loss: 482.9552\n",
      "Epoch 8/100\n",
      "11610/11610 [==============================] - 0s 31us/sample - loss: 118.4501 - val_loss: 9.5636\n",
      "Epoch 9/100\n",
      "11610/11610 [==============================] - 0s 31us/sample - loss: 3.3485 - val_loss: 1.4663\n",
      "Epoch 10/100\n",
      "11610/11610 [==============================] - 0s 31us/sample - loss: 1.3822 - val_loss: 1.3225\n",
      "Epoch 11/100\n",
      "11610/11610 [==============================] - 0s 31us/sample - loss: 1.3469 - val_loss: 1.3196\n",
      "Epoch 12/100\n",
      "11610/11610 [==============================] - 0s 31us/sample - loss: 1.3464 - val_loss: 1.3197\n",
      "Epoch 13/100\n",
      "11610/11610 [==============================] - 0s 31us/sample - loss: 1.3463 - val_loss: 1.3199\n",
      "Epoch 14/100\n",
      "11610/11610 [==============================] - 0s 32us/sample - loss: 1.3463 - val_loss: 1.3196\n",
      "Epoch 15/100\n",
      "11610/11610 [==============================] - 0s 34us/sample - loss: 1.3464 - val_loss: 1.3196\n",
      "Epoch 16/100\n",
      "11610/11610 [==============================] - 0s 35us/sample - loss: 1.3463 - val_loss: 1.3198\n",
      "Epoch 17/100\n",
      "11610/11610 [==============================] - 0s 32us/sample - loss: 1.3464 - val_loss: 1.3196\n",
      "Epoch 18/100\n",
      "11610/11610 [==============================] - 0s 31us/sample - loss: 1.3464 - val_loss: 1.3196\n",
      "Epoch 19/100\n",
      "11610/11610 [==============================] - 0s 32us/sample - loss: 1.3463 - val_loss: 1.3196\n",
      "Epoch 20/100\n",
      "11610/11610 [==============================] - 0s 32us/sample - loss: 1.3463 - val_loss: 1.3197\n",
      "Epoch 21/100\n",
      "11610/11610 [==============================] - 0s 32us/sample - loss: 1.3464 - val_loss: 1.3197\n",
      "Epoch 22/100\n",
      "11610/11610 [==============================] - 0s 32us/sample - loss: 1.3464 - val_loss: 1.3196\n",
      "Epoch 23/100\n",
      "11610/11610 [==============================] - 0s 32us/sample - loss: 1.3463 - val_loss: 1.3197\n",
      "Epoch 24/100\n",
      "11610/11610 [==============================] - 0s 31us/sample - loss: 1.3463 - val_loss: 1.3197\n",
      "Epoch 25/100\n",
      "11610/11610 [==============================] - 0s 31us/sample - loss: 1.3464 - val_loss: 1.3197\n",
      "Epoch 26/100\n",
      "11610/11610 [==============================] - 0s 32us/sample - loss: 1.3463 - val_loss: 1.3197\n",
      "Epoch 27/100\n",
      "11610/11610 [==============================] - 0s 31us/sample - loss: 1.3464 - val_loss: 1.3197\n",
      "Epoch 28/100\n",
      "11610/11610 [==============================] - 0s 31us/sample - loss: 1.3464 - val_loss: 1.3196\n",
      "Epoch 29/100\n",
      "11610/11610 [==============================] - 0s 32us/sample - loss: 1.3464 - val_loss: 1.3196\n",
      "Epoch 30/100\n",
      "11610/11610 [==============================] - 0s 31us/sample - loss: 1.3464 - val_loss: 1.3196\n",
      "Epoch 31/100\n",
      "11610/11610 [==============================] - 0s 32us/sample - loss: 1.3465 - val_loss: 1.3196\n",
      "Epoch 32/100\n",
      "11610/11610 [==============================] - 0s 31us/sample - loss: 1.3464 - val_loss: 1.3196\n"
     ]
    }
   ],
   "source": [
    "from scipy.stats import reciprocal\n",
    "from sklearn.model_selection import RandomizedSearchCV\n",
    "param_distribs = {\n",
    "    \"n_hidden\"  : [0,1,2,3],\n",
    "    \"n_neurons\" : np.arange(1,100),\n",
    "    \"learning_rate\" : reciprocal(3e-4, 3e-2)\n",
    "}\n",
    "rnd_search_cv = RandomizedSearchCV(keras_reg, param_distribs, n_iter=10, cv=3);\n",
    "rnd_search_cv.fit(X_train, y_train, epochs=100, validation_data=(X_valid, y_valid),\n",
    "                  callbacks=[keras.callbacks.EarlyStopping(patience=10)]);\n"
   ]
  },
  {
   "cell_type": "code",
   "execution_count": 59,
   "metadata": {},
   "outputs": [
    {
     "data": {
      "text/plain": [
       "({'learning_rate': 0.0027931685350825347, 'n_hidden': 1, 'n_neurons': 19},\n",
       " -1.3465237868848696)"
      ]
     },
     "execution_count": 59,
     "metadata": {},
     "output_type": "execute_result"
    }
   ],
   "source": [
    "rnd_search_cv.best_params_, rnd_search_cv.best_score_"
   ]
  },
  {
   "cell_type": "markdown",
   "metadata": {},
   "source": [
    "However, when training is slow (e.g., for more complex problems with larger datasets), this approach will only explore a tiny portion of the hyperparameter space. You can partially alleviate this problem by assisting the search process manually: first run a quick random search using wide ranges of hyperparameter values, then run another search using smaller ranges of values centered on the best ones found during the first run, and so on. This will hopefully zoom in to a good set of hyperparameters. However, this is very time consuming, and probably not the best use of your time.\n",
    "\n",
    "Fortunately, there are many techniques to explore a search space much more efficiently than randomly. Their core idea is simple: when a region of the space turns out to be good, it should be explored more.\n",
    "\n",
    "## Here are a few guidelines for choosing the number of hidden layers and neurons in an MLP, and selecting good values for some of the main hyperparameters.\n",
    "\n",
    "### Number of hidden layers\n",
    "For many problems, you can just begin with a single hidden layer and you will get reasonable results. Despite this, deep NN can model complex functions using exponentially fewer neurons than shallow nets, allowing them to reach much better performance with the same amount of training data.\n",
    "\n",
    "Lower hidden layers model low-level struc‐ tures (e.g., line segments of various shapes and orientations), intermediate hidden layers combine these low-level structures to model intermediate-level structures (e.g., squares, circles), and the highest hidden layers and the output layer combine these intermediate structures to model high-level structures.\n",
    "\n",
    "Not only does this hierarchical architecture help DNNs converge faster to a good sol‐ ution, it also improves their ability to generalize to new datasets. For example, if you have already trained a model to recognize faces in pictures, and you now want to train a new neural network to recognize hairstyles, then you can kickstart training by reusing the lower layers of the first network. Instead of randomly initializing the weights and biases of the first few layers of the new neural network, you can initialize them to the value of the weights and biases of the lower layers of the first network. This way the network will not have to learn from scratch all the low-level structures that occur in most pictures; it will only have to learn the higher-level structures (e.g., hairstyles). This is called ***transfer learning***.\n",
    "\n",
    "Very complex tasks, such as large image classification or speech recognition, typically require networks with dozens of layers.\n",
    "\n",
    "### Number of Neurons per hidden layer\n",
    "Obviously the number of neurons in the input and output layers is determined by the type of input and output your task requires. \n",
    "\n",
    "As for the hidden layers, it used to be a common practice to size them to form a pyramid, with fewer and fewer neurons at each layer—the rationale being that many low- level features can coalesce into far fewer high-level features. \n",
    "\n",
    "However, this practice has been largely abandoned now, as it seems that simply using the same number of neurons in all hid‐ den layers performs just as well in most cases, or even better, and there is just one hyperparameter to tune instead of one per layer—for example, all hidden layers could simply have 150 neurons. However, depending on the dataset, it can sometimes help to make the first hidden layer bigger than the others.\n",
    "\n",
    "Just like for the number of layers, you can try increasing the number of neurons grad‐ ually until the network starts overfitting. In general you will get more bang for the buck by increasing the number of layers than the number of neurons per layer. Unfortunately, as you can see, finding the perfect amount of neurons is still somewhat of a dark art.\n",
    "\n",
    "A simpler approach is to pick a model with more layers and neurons than you actually need, then use early stopping to prevent it from overfitting.\n",
    "\n",
    "### Learning Rate, Batch Size and Other Hyperparameters\n",
    "- The **learning rate** is arguably the most important hyperparameter. In general, the optimal learning rate is about half of the maximum learning rate (i.e., the learning rate above which the training algorithm diverges). So a simple approach for tuning the learning rate is to start with a large value that makes the training algorithm diverge, then divide this value by 3 and try again, and repeat until the training algorithm stops diverging. At that point, you generally won’t be too far from the optimal learning rate. That said, it is sometimes useful to reduce the learning rate during training\n",
    "- Choosing a better **optimizer** than plain old Mini-batch Gradient Descent \n",
    "- In general the **optimal batch size** will be lower than 32. A small batch size ensures that each training iteration is very fast, and although a large batch size will give a more precise estimate of the gradi‐ ents, in practice this does not matter much since the optimization landscape is quite complex and the direction of the true gradients do not point precisely in the direction of the optimum. However, having a batch size greater than 10 helps take advantage of hardware and software optimizations, in particular for matrix multiplications, so it will speed up training. Moreover, if you use Batch Normal‐ ization (see Chapter 11), the batch size should not be too small (in general no less than 20).\n",
    "- in general, the ReLU **activation function** will be a good default for all hidden layers. For the output layer, it really depends on your task.\n",
    "- In most cases, the **number of training iterations** does not actually need to be tweaked: just use early stopping instead."
   ]
  },
  {
   "cell_type": "markdown",
   "metadata": {},
   "source": [
    "# Exercises"
   ]
  },
  {
   "cell_type": "markdown",
   "metadata": {},
   "source": [
    "## 2) Draw an ANN using the original artificial neurons (like the ones in Figure 10-3) that computes A ⊕ B (where ⊕ represents the XOR operation). Hint: A ⊕ B = (A ∧ ¬ B) ∨ (¬ A ∧ B)."
   ]
  },
  {
   "cell_type": "raw",
   "metadata": {},
   "source": [
    "model = keras.models.Sequential([\n",
    "    keras.layers.Dense(2, activation='relu', input_shape=[2]),\n",
    "    keras.layers.Dense(2, activation='relu'),\n",
    "    keras.layers.Dense(1, activation='relu')\n",
    "]);\n",
    "model.compile(optimizer='sgd', loss=\"mse\")\n",
    "X_train = [[0,0], [0,1],[1,0],[1,1]];\n",
    "y_train = [0,1,1,0];\n",
    "model.fit(X,y)"
   ]
  },
  {
   "cell_type": "code",
   "execution_count": 88,
   "metadata": {},
   "outputs": [
    {
     "data": {
      "text/plain": [
       "array([[1.],\n",
       "       [1.],\n",
       "       [1.],\n",
       "       [1.]], dtype=float32)"
      ]
     },
     "execution_count": 88,
     "metadata": {},
     "output_type": "execute_result"
    }
   ],
   "source": [
    "model.predict(X_train)"
   ]
  },
  {
   "cell_type": "markdown",
   "metadata": {},
   "source": [
    "## 3) Why is it generally preferable to use a Logistic Regression classifier rather than a classical Perceptron (i.e., a single layer of threshold logic units trained using the Perceptron training algorithm)? How can you tweak a Perceptron to make it equivalent to a Logistic Regression classifier?\n",
    "\n",
    "A classical Perceptron will converge only if the dataset is linearly separable, and it won’t be able to estimate class probabilities. In contrast, a Logistic Regression classifier will converge to a good solution even if the dataset is not linearly separable, and it will output class probabilities. If you change the Perceptron’s activation function to the logistic activation function (or the softmax activation function if there are multiple neurons), and if you train it using Gradient Descent (or some other optimization algorithm minimizing the cost function, typically cross entropy), then it becomes equivalent to a Logistic Regression classifier."
   ]
  },
  {
   "cell_type": "markdown",
   "metadata": {},
   "source": [
    "## 4) Why was the logistic activation function a key ingredient in training the first MLPs?\n",
    "The logistic activation function was a key ingredient in training the first MLPs because its derivative is always nonzero, so Gradient Descent can always roll down the slope. When the activation function is a step function, Gradient Descent cannot move, as there is no slope at all."
   ]
  },
  {
   "cell_type": "markdown",
   "metadata": {},
   "source": [
    "## 5) Name three popular activation functions. Can you draw them?\n",
    "sigmoid/softmax, arctan, relu, step funcion"
   ]
  },
  {
   "cell_type": "markdown",
   "metadata": {},
   "source": [
    "## 6) Suppose you have an MLP composed of one input layer with 10 passthrough neurons, followed by one hidden layer with 50 artificial neurons, and finally one output layer with 3 artificial neurons. All artificial neurons use the ReLU activation function.\n",
    "## - What is the shape of the input matrix $X$?\n",
    "## - What about the shape of the hidden layer’s weight vector $W_h$, and the shape of its bias vector $b_h$?\n",
    "## - What is the shape of the output layer’s weight vector $W_o$, and its bias vector $b_o$?\n",
    "## - What is the shape of the network’s output matrix $Y$?\n",
    "## - Write the equation that computes the network’s output matrix $Y$ as a function of $X$, $W_h$, $b_h$, $W_o$ and $b_o$.\n",
    "\n",
    "- The shape of the input matrix $X$ is $m × 10$, where m represents the training batch size.\n",
    "- $W_h$: $10\\times 50$, $b_h$: $50$\n",
    "- $W_o$: $50\\times 3$, $b_o$: $3$\n",
    "- $m\\times 3$\n",
    "- $$Y = sigmoid(sigmoid(X W_h + b_h) W_o+b_o)$$"
   ]
  },
  {
   "cell_type": "markdown",
   "metadata": {},
   "source": [
    "## 7) How many neurons do you need in the output layer if you want to classify email into spam or ham? What activation function should you use in the output layer? If instead you want to tackle MNIST, how many neurons do you need in the output layer, using what activation function? Answer the same questions for getting your network to predict housing prices as in Chapter 2.\n",
    "\n",
    "To classify email into spam or ham, you just need one neuron in the output layer of a neural network—for example, indicating the probability that the email is spam. You would typically use the logistic activation function in the output layer when estimating a probability. If instead you want to tackle MNIST, you need 10 neurons in the output layer, and you must replace the logistic function with the softmax activation function, which can handle multiple classes, outputting one probability per class. Now, if you want your neural network to predict housing prices like in Chapter 2, then you need one output neuron, using no activation function at all in the output layer.4"
   ]
  },
  {
   "cell_type": "markdown",
   "metadata": {},
   "source": [
    "## 8) What is backpropagation?\n",
    "Backpropagation is a technique used to train artificial neural networks. It first computes the gradients of the cost function with regards to every model parame‐ ter (all the weights and biases), and then it performs a Gradient Descent step using these gradients. This backpropagation step is typically performed thou‐ sands or millions of times, using many training batches, until the model parame‐ ters converge to values that (hopefully) minimize the cost function. To compute the gradients, backpropagation uses reverse-mode autodiff (although it wasn’t called that when backpropagation was invented, and it has been reinvented sev‐ eral times). Reverse-mode autodiff performs a forward pass through a computa‐ tion graph, computing every node’s value for the current training batch, and then it performs a reverse pass, computing all the gradients at once (see Appendix D for more details). So what’s the difference? Well, backpropagation refers to the whole process of training an artificial neural network using multiple backpropa‐ gation steps, each of which computes gradients and uses them to perform a Gra‐ dient Descent step. In contrast, reverse-mode autodiff is a simply a technique to compute gradients efficiently, and it happens to be used by backpropagation."
   ]
  },
  {
   "cell_type": "markdown",
   "metadata": {},
   "source": [
    "## 10) Train a deep MLP on the MNIST dataset and see if you can get over 98% precision. Just like in the last exercise of chapter 9, try adding all the bells and whistles (i.e., save checkpoints, restore the last checkpoint in case of an interruption, add summaries, plot learning curves using TensorBoard, and so on)."
   ]
  },
  {
   "cell_type": "code",
   "execution_count": 90,
   "metadata": {},
   "outputs": [],
   "source": [
    "n_inputs = 28*28;\n",
    "n_hidden1 = 300;\n",
    "n_hidden2 = 100;\n",
    "n_outputs = 10;\n"
   ]
  },
  {
   "cell_type": "markdown",
   "metadata": {},
   "source": [
    "So far we have used Variables to manage our data, but there is a more basic structure, the ***placeholder***. A placeholder is simply a variable that we will assign data to at a later date. It allows us to create our operations and build our computation graph, without needing the data. In TensorFlowterminology, we then feed data into the graph through these placeholders."
   ]
  },
  {
   "cell_type": "code",
   "execution_count": 123,
   "metadata": {},
   "outputs": [],
   "source": [
    "n_inputs = 28*28  # MNIST\n",
    "n_hidden1 = 300\n",
    "n_hidden2 = 100\n",
    "n_outputs = 10\n",
    "(X_train, y_train), (X_test, y_test) = tf.keras.datasets.mnist.load_data()\n",
    "#X_train = X_train.reshape(-1, 28*28);\n",
    "#X_test  = X_test.reshape(-1, 28*28);\n",
    "model = keras.models.Sequential([\n",
    "        keras.layers.Flatten(input_shape=[28, 28]),\n",
    "        keras.layers.Dense(300, activation=\"relu\",),\n",
    "        keras.layers.Dense(100, activation=\"relu\",),\n",
    "        keras.layers.Dense(10, activation=\"relu\")\n",
    "])"
   ]
  },
  {
   "cell_type": "code",
   "execution_count": 124,
   "metadata": {},
   "outputs": [],
   "source": [
    "model.compile(optimizer='sgd', loss='mse')"
   ]
  },
  {
   "cell_type": "code",
   "execution_count": 125,
   "metadata": {},
   "outputs": [
    {
     "ename": "ValueError",
     "evalue": "A target array with shape (60000, 1) was passed for an output of shape (None, 10) while using as loss `mean_squared_error`. This loss expects targets to have the same shape as the output.",
     "output_type": "error",
     "traceback": [
      "\u001b[0;31m---------------------------------------------------------------------------\u001b[0m",
      "\u001b[0;31mValueError\u001b[0m                                Traceback (most recent call last)",
      "\u001b[0;32m<ipython-input-125-d9f7d81b1ed2>\u001b[0m in \u001b[0;36m<module>\u001b[0;34m\u001b[0m\n\u001b[0;32m----> 1\u001b[0;31m \u001b[0mmodel\u001b[0m\u001b[0;34m.\u001b[0m\u001b[0mfit\u001b[0m\u001b[0;34m(\u001b[0m\u001b[0mX_train\u001b[0m\u001b[0;34m,\u001b[0m \u001b[0my_train\u001b[0m\u001b[0;34m,\u001b[0m \u001b[0mepochs\u001b[0m\u001b[0;34m=\u001b[0m\u001b[0;36m20\u001b[0m\u001b[0;34m)\u001b[0m\u001b[0;34m\u001b[0m\u001b[0;34m\u001b[0m\u001b[0m\n\u001b[0m",
      "\u001b[0;32m~/anaconda3/lib/python3.7/site-packages/tensorflow_core/python/keras/engine/training.py\u001b[0m in \u001b[0;36mfit\u001b[0;34m(self, x, y, batch_size, epochs, verbose, callbacks, validation_split, validation_data, shuffle, class_weight, sample_weight, initial_epoch, steps_per_epoch, validation_steps, validation_freq, max_queue_size, workers, use_multiprocessing, **kwargs)\u001b[0m\n\u001b[1;32m    817\u001b[0m         \u001b[0mmax_queue_size\u001b[0m\u001b[0;34m=\u001b[0m\u001b[0mmax_queue_size\u001b[0m\u001b[0;34m,\u001b[0m\u001b[0;34m\u001b[0m\u001b[0;34m\u001b[0m\u001b[0m\n\u001b[1;32m    818\u001b[0m         \u001b[0mworkers\u001b[0m\u001b[0;34m=\u001b[0m\u001b[0mworkers\u001b[0m\u001b[0;34m,\u001b[0m\u001b[0;34m\u001b[0m\u001b[0;34m\u001b[0m\u001b[0m\n\u001b[0;32m--> 819\u001b[0;31m         use_multiprocessing=use_multiprocessing)\n\u001b[0m\u001b[1;32m    820\u001b[0m \u001b[0;34m\u001b[0m\u001b[0m\n\u001b[1;32m    821\u001b[0m   def evaluate(self,\n",
      "\u001b[0;32m~/anaconda3/lib/python3.7/site-packages/tensorflow_core/python/keras/engine/training_v2.py\u001b[0m in \u001b[0;36mfit\u001b[0;34m(self, model, x, y, batch_size, epochs, verbose, callbacks, validation_split, validation_data, shuffle, class_weight, sample_weight, initial_epoch, steps_per_epoch, validation_steps, validation_freq, max_queue_size, workers, use_multiprocessing, **kwargs)\u001b[0m\n\u001b[1;32m    233\u001b[0m           \u001b[0mmax_queue_size\u001b[0m\u001b[0;34m=\u001b[0m\u001b[0mmax_queue_size\u001b[0m\u001b[0;34m,\u001b[0m\u001b[0;34m\u001b[0m\u001b[0;34m\u001b[0m\u001b[0m\n\u001b[1;32m    234\u001b[0m           \u001b[0mworkers\u001b[0m\u001b[0;34m=\u001b[0m\u001b[0mworkers\u001b[0m\u001b[0;34m,\u001b[0m\u001b[0;34m\u001b[0m\u001b[0;34m\u001b[0m\u001b[0m\n\u001b[0;32m--> 235\u001b[0;31m           use_multiprocessing=use_multiprocessing)\n\u001b[0m\u001b[1;32m    236\u001b[0m \u001b[0;34m\u001b[0m\u001b[0m\n\u001b[1;32m    237\u001b[0m       \u001b[0mtotal_samples\u001b[0m \u001b[0;34m=\u001b[0m \u001b[0m_get_total_number_of_samples\u001b[0m\u001b[0;34m(\u001b[0m\u001b[0mtraining_data_adapter\u001b[0m\u001b[0;34m)\u001b[0m\u001b[0;34m\u001b[0m\u001b[0;34m\u001b[0m\u001b[0m\n",
      "\u001b[0;32m~/anaconda3/lib/python3.7/site-packages/tensorflow_core/python/keras/engine/training_v2.py\u001b[0m in \u001b[0;36m_process_training_inputs\u001b[0;34m(model, x, y, batch_size, epochs, sample_weights, class_weights, steps_per_epoch, validation_split, validation_data, validation_steps, shuffle, distribution_strategy, max_queue_size, workers, use_multiprocessing)\u001b[0m\n\u001b[1;32m    591\u001b[0m         \u001b[0mmax_queue_size\u001b[0m\u001b[0;34m=\u001b[0m\u001b[0mmax_queue_size\u001b[0m\u001b[0;34m,\u001b[0m\u001b[0;34m\u001b[0m\u001b[0;34m\u001b[0m\u001b[0m\n\u001b[1;32m    592\u001b[0m         \u001b[0mworkers\u001b[0m\u001b[0;34m=\u001b[0m\u001b[0mworkers\u001b[0m\u001b[0;34m,\u001b[0m\u001b[0;34m\u001b[0m\u001b[0;34m\u001b[0m\u001b[0m\n\u001b[0;32m--> 593\u001b[0;31m         use_multiprocessing=use_multiprocessing)\n\u001b[0m\u001b[1;32m    594\u001b[0m     \u001b[0mval_adapter\u001b[0m \u001b[0;34m=\u001b[0m \u001b[0;32mNone\u001b[0m\u001b[0;34m\u001b[0m\u001b[0;34m\u001b[0m\u001b[0m\n\u001b[1;32m    595\u001b[0m     \u001b[0;32mif\u001b[0m \u001b[0mvalidation_data\u001b[0m\u001b[0;34m:\u001b[0m\u001b[0;34m\u001b[0m\u001b[0;34m\u001b[0m\u001b[0m\n",
      "\u001b[0;32m~/anaconda3/lib/python3.7/site-packages/tensorflow_core/python/keras/engine/training_v2.py\u001b[0m in \u001b[0;36m_process_inputs\u001b[0;34m(model, mode, x, y, batch_size, epochs, sample_weights, class_weights, shuffle, steps, distribution_strategy, max_queue_size, workers, use_multiprocessing)\u001b[0m\n\u001b[1;32m    644\u001b[0m     \u001b[0mstandardize_function\u001b[0m \u001b[0;34m=\u001b[0m \u001b[0;32mNone\u001b[0m\u001b[0;34m\u001b[0m\u001b[0;34m\u001b[0m\u001b[0m\n\u001b[1;32m    645\u001b[0m     x, y, sample_weights = standardize(\n\u001b[0;32m--> 646\u001b[0;31m         x, y, sample_weight=sample_weights)\n\u001b[0m\u001b[1;32m    647\u001b[0m   \u001b[0;32melif\u001b[0m \u001b[0madapter_cls\u001b[0m \u001b[0;32mis\u001b[0m \u001b[0mdata_adapter\u001b[0m\u001b[0;34m.\u001b[0m\u001b[0mListsOfScalarsDataAdapter\u001b[0m\u001b[0;34m:\u001b[0m\u001b[0;34m\u001b[0m\u001b[0;34m\u001b[0m\u001b[0m\n\u001b[1;32m    648\u001b[0m     \u001b[0mstandardize_function\u001b[0m \u001b[0;34m=\u001b[0m \u001b[0mstandardize\u001b[0m\u001b[0;34m\u001b[0m\u001b[0;34m\u001b[0m\u001b[0m\n",
      "\u001b[0;32m~/anaconda3/lib/python3.7/site-packages/tensorflow_core/python/keras/engine/training.py\u001b[0m in \u001b[0;36m_standardize_user_data\u001b[0;34m(self, x, y, sample_weight, class_weight, batch_size, check_steps, steps_name, steps, validation_split, shuffle, extract_tensors_from_dataset)\u001b[0m\n\u001b[1;32m   2381\u001b[0m         \u001b[0mis_dataset\u001b[0m\u001b[0;34m=\u001b[0m\u001b[0mis_dataset\u001b[0m\u001b[0;34m,\u001b[0m\u001b[0;34m\u001b[0m\u001b[0;34m\u001b[0m\u001b[0m\n\u001b[1;32m   2382\u001b[0m         \u001b[0mclass_weight\u001b[0m\u001b[0;34m=\u001b[0m\u001b[0mclass_weight\u001b[0m\u001b[0;34m,\u001b[0m\u001b[0;34m\u001b[0m\u001b[0;34m\u001b[0m\u001b[0m\n\u001b[0;32m-> 2383\u001b[0;31m         batch_size=batch_size)\n\u001b[0m\u001b[1;32m   2384\u001b[0m \u001b[0;34m\u001b[0m\u001b[0m\n\u001b[1;32m   2385\u001b[0m   def _standardize_tensors(self, x, y, sample_weight, run_eagerly, dict_inputs,\n",
      "\u001b[0;32m~/anaconda3/lib/python3.7/site-packages/tensorflow_core/python/keras/engine/training.py\u001b[0m in \u001b[0;36m_standardize_tensors\u001b[0;34m(self, x, y, sample_weight, run_eagerly, dict_inputs, is_dataset, class_weight, batch_size)\u001b[0m\n\u001b[1;32m   2487\u001b[0m           \u001b[0;31m# Additional checks to avoid users mistakenly using improper loss fns.\u001b[0m\u001b[0;34m\u001b[0m\u001b[0;34m\u001b[0m\u001b[0;34m\u001b[0m\u001b[0m\n\u001b[1;32m   2488\u001b[0m           training_utils.check_loss_and_target_compatibility(\n\u001b[0;32m-> 2489\u001b[0;31m               y, self._feed_loss_fns, feed_output_shapes)\n\u001b[0m\u001b[1;32m   2490\u001b[0m \u001b[0;34m\u001b[0m\u001b[0m\n\u001b[1;32m   2491\u001b[0m       sample_weights, _, _ = training_utils.handle_partial_sample_weights(\n",
      "\u001b[0;32m~/anaconda3/lib/python3.7/site-packages/tensorflow_core/python/keras/engine/training_utils.py\u001b[0m in \u001b[0;36mcheck_loss_and_target_compatibility\u001b[0;34m(targets, loss_fns, output_shapes)\u001b[0m\n\u001b[1;32m    808\u001b[0m           raise ValueError('A target array with shape ' + str(y.shape) +\n\u001b[1;32m    809\u001b[0m                            \u001b[0;34m' was passed for an output of shape '\u001b[0m \u001b[0;34m+\u001b[0m \u001b[0mstr\u001b[0m\u001b[0;34m(\u001b[0m\u001b[0mshape\u001b[0m\u001b[0;34m)\u001b[0m \u001b[0;34m+\u001b[0m\u001b[0;34m\u001b[0m\u001b[0;34m\u001b[0m\u001b[0m\n\u001b[0;32m--> 810\u001b[0;31m                            \u001b[0;34m' while using as loss `'\u001b[0m \u001b[0;34m+\u001b[0m \u001b[0mloss_name\u001b[0m \u001b[0;34m+\u001b[0m \u001b[0;34m'`. '\u001b[0m\u001b[0;34m\u001b[0m\u001b[0;34m\u001b[0m\u001b[0m\n\u001b[0m\u001b[1;32m    811\u001b[0m                            \u001b[0;34m'This loss expects targets to have the same shape '\u001b[0m\u001b[0;34m\u001b[0m\u001b[0;34m\u001b[0m\u001b[0m\n\u001b[1;32m    812\u001b[0m                            'as the output.')\n",
      "\u001b[0;31mValueError\u001b[0m: A target array with shape (60000, 1) was passed for an output of shape (None, 10) while using as loss `mean_squared_error`. This loss expects targets to have the same shape as the output."
     ]
    }
   ],
   "source": [
    "model.fit(X_train, y_train, epochs=20)"
   ]
  },
  {
   "cell_type": "code",
   "execution_count": null,
   "metadata": {},
   "outputs": [],
   "source": []
  },
  {
   "cell_type": "code",
   "execution_count": null,
   "metadata": {},
   "outputs": [],
   "source": []
  }
 ],
 "metadata": {
  "kernelspec": {
   "display_name": "Python 3",
   "language": "python",
   "name": "python3"
  }
 },
 "nbformat": 4,
 "nbformat_minor": 2
}
