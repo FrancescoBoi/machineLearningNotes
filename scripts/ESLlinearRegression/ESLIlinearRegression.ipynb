{
 "cells": [
  {
   "cell_type": "raw",
   "metadata": {},
   "source": [
    "!wget https://web.stanford.edu/~hastie/ElemStatLearn/datasets/prostate.data"
   ]
  },
  {
   "cell_type": "raw",
   "metadata": {},
   "source": [
    "import numpy as np;\n",
    "import matplotlib.pyplot as plt;\n",
    "from numpy.linalg import inv;\n",
    "from sklearn.linear_model import LinearRegression\n",
    "from sklearn.preprocessing import StandardScaler, MinMaxScaler\n",
    "x = np.linspace(0,1,100);\n",
    "y = x+1;\n",
    "scaler = StandardScaler();\n",
    "x_scaled = scaler.fit_transform(x.reshape(-1,1));\n",
    "\n",
    "X_b = np.c_[np.ones((len(x_scaled), 1)), x_scaled]\n",
    "theta_ols = inv(X_b.T.dot(X_b)).dot(X_b.T).dot(y)\n",
    "theta_ols\n",
    "plt.plot(x_scaled, y)\n",
    "#print(x_scaled[0], x_scaled[-1])\n",
    "theta_ols\n",
    "\n",
    "lr = LinearRegression();\n",
    "lr.fit(X_b, y);\n",
    "print(lr.coef_, lr.intercept_)"
   ]
  },
  {
   "cell_type": "code",
   "execution_count": 99,
   "metadata": {},
   "outputs": [],
   "source": [
    "import numpy as np;\n",
    "import pandas as pd;\n",
    "import scipy;"
   ]
  },
  {
   "cell_type": "code",
   "execution_count": 100,
   "metadata": {},
   "outputs": [],
   "source": [
    "df = pd.read_csv(\"prostate.data\",header=0, delimiter=\"\\t\",);"
   ]
  },
  {
   "cell_type": "code",
   "execution_count": 101,
   "metadata": {},
   "outputs": [
    {
     "data": {
      "text/html": [
       "<div>\n",
       "<style scoped>\n",
       "    .dataframe tbody tr th:only-of-type {\n",
       "        vertical-align: middle;\n",
       "    }\n",
       "\n",
       "    .dataframe tbody tr th {\n",
       "        vertical-align: top;\n",
       "    }\n",
       "\n",
       "    .dataframe thead th {\n",
       "        text-align: right;\n",
       "    }\n",
       "</style>\n",
       "<table border=\"1\" class=\"dataframe\">\n",
       "  <thead>\n",
       "    <tr style=\"text-align: right;\">\n",
       "      <th></th>\n",
       "      <th>Unnamed: 0</th>\n",
       "      <th>lcavol</th>\n",
       "      <th>lweight</th>\n",
       "      <th>age</th>\n",
       "      <th>lbph</th>\n",
       "      <th>svi</th>\n",
       "      <th>lcp</th>\n",
       "      <th>gleason</th>\n",
       "      <th>pgg45</th>\n",
       "      <th>lpsa</th>\n",
       "      <th>train</th>\n",
       "    </tr>\n",
       "  </thead>\n",
       "  <tbody>\n",
       "    <tr>\n",
       "      <th>0</th>\n",
       "      <td>1</td>\n",
       "      <td>-0.579818</td>\n",
       "      <td>2.769459</td>\n",
       "      <td>50</td>\n",
       "      <td>-1.386294</td>\n",
       "      <td>0</td>\n",
       "      <td>-1.386294</td>\n",
       "      <td>6</td>\n",
       "      <td>0</td>\n",
       "      <td>-0.430783</td>\n",
       "      <td>T</td>\n",
       "    </tr>\n",
       "    <tr>\n",
       "      <th>1</th>\n",
       "      <td>2</td>\n",
       "      <td>-0.994252</td>\n",
       "      <td>3.319626</td>\n",
       "      <td>58</td>\n",
       "      <td>-1.386294</td>\n",
       "      <td>0</td>\n",
       "      <td>-1.386294</td>\n",
       "      <td>6</td>\n",
       "      <td>0</td>\n",
       "      <td>-0.162519</td>\n",
       "      <td>T</td>\n",
       "    </tr>\n",
       "    <tr>\n",
       "      <th>2</th>\n",
       "      <td>3</td>\n",
       "      <td>-0.510826</td>\n",
       "      <td>2.691243</td>\n",
       "      <td>74</td>\n",
       "      <td>-1.386294</td>\n",
       "      <td>0</td>\n",
       "      <td>-1.386294</td>\n",
       "      <td>7</td>\n",
       "      <td>20</td>\n",
       "      <td>-0.162519</td>\n",
       "      <td>T</td>\n",
       "    </tr>\n",
       "    <tr>\n",
       "      <th>3</th>\n",
       "      <td>4</td>\n",
       "      <td>-1.203973</td>\n",
       "      <td>3.282789</td>\n",
       "      <td>58</td>\n",
       "      <td>-1.386294</td>\n",
       "      <td>0</td>\n",
       "      <td>-1.386294</td>\n",
       "      <td>6</td>\n",
       "      <td>0</td>\n",
       "      <td>-0.162519</td>\n",
       "      <td>T</td>\n",
       "    </tr>\n",
       "    <tr>\n",
       "      <th>4</th>\n",
       "      <td>5</td>\n",
       "      <td>0.751416</td>\n",
       "      <td>3.432373</td>\n",
       "      <td>62</td>\n",
       "      <td>-1.386294</td>\n",
       "      <td>0</td>\n",
       "      <td>-1.386294</td>\n",
       "      <td>6</td>\n",
       "      <td>0</td>\n",
       "      <td>0.371564</td>\n",
       "      <td>T</td>\n",
       "    </tr>\n",
       "  </tbody>\n",
       "</table>\n",
       "</div>"
      ],
      "text/plain": [
       "   Unnamed: 0    lcavol   lweight  age      lbph  svi       lcp  gleason  \\\n",
       "0           1 -0.579818  2.769459   50 -1.386294    0 -1.386294        6   \n",
       "1           2 -0.994252  3.319626   58 -1.386294    0 -1.386294        6   \n",
       "2           3 -0.510826  2.691243   74 -1.386294    0 -1.386294        7   \n",
       "3           4 -1.203973  3.282789   58 -1.386294    0 -1.386294        6   \n",
       "4           5  0.751416  3.432373   62 -1.386294    0 -1.386294        6   \n",
       "\n",
       "   pgg45      lpsa train  \n",
       "0      0 -0.430783     T  \n",
       "1      0 -0.162519     T  \n",
       "2     20 -0.162519     T  \n",
       "3      0 -0.162519     T  \n",
       "4      0  0.371564     T  "
      ]
     },
     "execution_count": 101,
     "metadata": {},
     "output_type": "execute_result"
    }
   ],
   "source": [
    "df.head()"
   ]
  },
  {
   "cell_type": "code",
   "execution_count": 102,
   "metadata": {},
   "outputs": [
    {
     "data": {
      "text/html": [
       "<div>\n",
       "<style scoped>\n",
       "    .dataframe tbody tr th:only-of-type {\n",
       "        vertical-align: middle;\n",
       "    }\n",
       "\n",
       "    .dataframe tbody tr th {\n",
       "        vertical-align: top;\n",
       "    }\n",
       "\n",
       "    .dataframe thead th {\n",
       "        text-align: right;\n",
       "    }\n",
       "</style>\n",
       "<table border=\"1\" class=\"dataframe\">\n",
       "  <thead>\n",
       "    <tr style=\"text-align: right;\">\n",
       "      <th></th>\n",
       "      <th>lcavol</th>\n",
       "      <th>lweight</th>\n",
       "      <th>age</th>\n",
       "      <th>lbph</th>\n",
       "      <th>svi</th>\n",
       "      <th>lcp</th>\n",
       "      <th>gleason</th>\n",
       "      <th>pgg45</th>\n",
       "      <th>lpsa</th>\n",
       "      <th>train</th>\n",
       "    </tr>\n",
       "  </thead>\n",
       "  <tbody>\n",
       "    <tr>\n",
       "      <th>0</th>\n",
       "      <td>-0.579818</td>\n",
       "      <td>2.769459</td>\n",
       "      <td>50</td>\n",
       "      <td>-1.386294</td>\n",
       "      <td>0</td>\n",
       "      <td>-1.386294</td>\n",
       "      <td>6</td>\n",
       "      <td>0</td>\n",
       "      <td>-0.430783</td>\n",
       "      <td>T</td>\n",
       "    </tr>\n",
       "    <tr>\n",
       "      <th>1</th>\n",
       "      <td>-0.994252</td>\n",
       "      <td>3.319626</td>\n",
       "      <td>58</td>\n",
       "      <td>-1.386294</td>\n",
       "      <td>0</td>\n",
       "      <td>-1.386294</td>\n",
       "      <td>6</td>\n",
       "      <td>0</td>\n",
       "      <td>-0.162519</td>\n",
       "      <td>T</td>\n",
       "    </tr>\n",
       "    <tr>\n",
       "      <th>2</th>\n",
       "      <td>-0.510826</td>\n",
       "      <td>2.691243</td>\n",
       "      <td>74</td>\n",
       "      <td>-1.386294</td>\n",
       "      <td>0</td>\n",
       "      <td>-1.386294</td>\n",
       "      <td>7</td>\n",
       "      <td>20</td>\n",
       "      <td>-0.162519</td>\n",
       "      <td>T</td>\n",
       "    </tr>\n",
       "    <tr>\n",
       "      <th>3</th>\n",
       "      <td>-1.203973</td>\n",
       "      <td>3.282789</td>\n",
       "      <td>58</td>\n",
       "      <td>-1.386294</td>\n",
       "      <td>0</td>\n",
       "      <td>-1.386294</td>\n",
       "      <td>6</td>\n",
       "      <td>0</td>\n",
       "      <td>-0.162519</td>\n",
       "      <td>T</td>\n",
       "    </tr>\n",
       "    <tr>\n",
       "      <th>4</th>\n",
       "      <td>0.751416</td>\n",
       "      <td>3.432373</td>\n",
       "      <td>62</td>\n",
       "      <td>-1.386294</td>\n",
       "      <td>0</td>\n",
       "      <td>-1.386294</td>\n",
       "      <td>6</td>\n",
       "      <td>0</td>\n",
       "      <td>0.371564</td>\n",
       "      <td>T</td>\n",
       "    </tr>\n",
       "  </tbody>\n",
       "</table>\n",
       "</div>"
      ],
      "text/plain": [
       "     lcavol   lweight  age      lbph  svi       lcp  gleason  pgg45      lpsa  \\\n",
       "0 -0.579818  2.769459   50 -1.386294    0 -1.386294        6      0 -0.430783   \n",
       "1 -0.994252  3.319626   58 -1.386294    0 -1.386294        6      0 -0.162519   \n",
       "2 -0.510826  2.691243   74 -1.386294    0 -1.386294        7     20 -0.162519   \n",
       "3 -1.203973  3.282789   58 -1.386294    0 -1.386294        6      0 -0.162519   \n",
       "4  0.751416  3.432373   62 -1.386294    0 -1.386294        6      0  0.371564   \n",
       "\n",
       "  train  \n",
       "0     T  \n",
       "1     T  \n",
       "2     T  \n",
       "3     T  \n",
       "4     T  "
      ]
     },
     "execution_count": 102,
     "metadata": {},
     "output_type": "execute_result"
    }
   ],
   "source": [
    "#drop first column\n",
    "df.drop([df.columns[0]],inplace=True, axis='columns');\n",
    "df.head()"
   ]
  },
  {
   "cell_type": "code",
   "execution_count": 103,
   "metadata": {},
   "outputs": [
    {
     "name": "stdout",
     "output_type": "stream",
     "text": [
      "<class 'pandas.core.frame.DataFrame'>\n",
      "RangeIndex: 97 entries, 0 to 96\n",
      "Data columns (total 10 columns):\n",
      "lcavol     97 non-null float64\n",
      "lweight    97 non-null float64\n",
      "age        97 non-null int64\n",
      "lbph       97 non-null float64\n",
      "svi        97 non-null int64\n",
      "lcp        97 non-null float64\n",
      "gleason    97 non-null int64\n",
      "pgg45      97 non-null int64\n",
      "lpsa       97 non-null float64\n",
      "train      97 non-null object\n",
      "dtypes: float64(5), int64(4), object(1)\n",
      "memory usage: 7.7+ KB\n"
     ]
    }
   ],
   "source": [
    "df.info()"
   ]
  },
  {
   "cell_type": "code",
   "execution_count": 104,
   "metadata": {},
   "outputs": [
    {
     "data": {
      "text/html": [
       "<div>\n",
       "<style scoped>\n",
       "    .dataframe tbody tr th:only-of-type {\n",
       "        vertical-align: middle;\n",
       "    }\n",
       "\n",
       "    .dataframe tbody tr th {\n",
       "        vertical-align: top;\n",
       "    }\n",
       "\n",
       "    .dataframe thead th {\n",
       "        text-align: right;\n",
       "    }\n",
       "</style>\n",
       "<table border=\"1\" class=\"dataframe\">\n",
       "  <thead>\n",
       "    <tr style=\"text-align: right;\">\n",
       "      <th></th>\n",
       "      <th>lcavol</th>\n",
       "      <th>lweight</th>\n",
       "      <th>age</th>\n",
       "      <th>lbph</th>\n",
       "      <th>svi</th>\n",
       "      <th>lcp</th>\n",
       "      <th>gleason</th>\n",
       "      <th>pgg45</th>\n",
       "      <th>lpsa</th>\n",
       "    </tr>\n",
       "  </thead>\n",
       "  <tbody>\n",
       "    <tr>\n",
       "      <th>count</th>\n",
       "      <td>97.000000</td>\n",
       "      <td>97.000000</td>\n",
       "      <td>97.000000</td>\n",
       "      <td>97.000000</td>\n",
       "      <td>97.000000</td>\n",
       "      <td>97.000000</td>\n",
       "      <td>97.000000</td>\n",
       "      <td>97.000000</td>\n",
       "      <td>97.000000</td>\n",
       "    </tr>\n",
       "    <tr>\n",
       "      <th>mean</th>\n",
       "      <td>1.350010</td>\n",
       "      <td>3.628943</td>\n",
       "      <td>63.865979</td>\n",
       "      <td>0.100356</td>\n",
       "      <td>0.216495</td>\n",
       "      <td>-0.179366</td>\n",
       "      <td>6.752577</td>\n",
       "      <td>24.381443</td>\n",
       "      <td>2.478387</td>\n",
       "    </tr>\n",
       "    <tr>\n",
       "      <th>std</th>\n",
       "      <td>1.178625</td>\n",
       "      <td>0.428411</td>\n",
       "      <td>7.445117</td>\n",
       "      <td>1.450807</td>\n",
       "      <td>0.413995</td>\n",
       "      <td>1.398250</td>\n",
       "      <td>0.722134</td>\n",
       "      <td>28.204035</td>\n",
       "      <td>1.154329</td>\n",
       "    </tr>\n",
       "    <tr>\n",
       "      <th>min</th>\n",
       "      <td>-1.347074</td>\n",
       "      <td>2.374906</td>\n",
       "      <td>41.000000</td>\n",
       "      <td>-1.386294</td>\n",
       "      <td>0.000000</td>\n",
       "      <td>-1.386294</td>\n",
       "      <td>6.000000</td>\n",
       "      <td>0.000000</td>\n",
       "      <td>-0.430783</td>\n",
       "    </tr>\n",
       "    <tr>\n",
       "      <th>25%</th>\n",
       "      <td>0.512824</td>\n",
       "      <td>3.375880</td>\n",
       "      <td>60.000000</td>\n",
       "      <td>-1.386294</td>\n",
       "      <td>0.000000</td>\n",
       "      <td>-1.386294</td>\n",
       "      <td>6.000000</td>\n",
       "      <td>0.000000</td>\n",
       "      <td>1.731656</td>\n",
       "    </tr>\n",
       "    <tr>\n",
       "      <th>50%</th>\n",
       "      <td>1.446919</td>\n",
       "      <td>3.623007</td>\n",
       "      <td>65.000000</td>\n",
       "      <td>0.300105</td>\n",
       "      <td>0.000000</td>\n",
       "      <td>-0.798508</td>\n",
       "      <td>7.000000</td>\n",
       "      <td>15.000000</td>\n",
       "      <td>2.591516</td>\n",
       "    </tr>\n",
       "    <tr>\n",
       "      <th>75%</th>\n",
       "      <td>2.127041</td>\n",
       "      <td>3.876396</td>\n",
       "      <td>68.000000</td>\n",
       "      <td>1.558145</td>\n",
       "      <td>0.000000</td>\n",
       "      <td>1.178655</td>\n",
       "      <td>7.000000</td>\n",
       "      <td>40.000000</td>\n",
       "      <td>3.056357</td>\n",
       "    </tr>\n",
       "    <tr>\n",
       "      <th>max</th>\n",
       "      <td>3.821004</td>\n",
       "      <td>4.780383</td>\n",
       "      <td>79.000000</td>\n",
       "      <td>2.326302</td>\n",
       "      <td>1.000000</td>\n",
       "      <td>2.904165</td>\n",
       "      <td>9.000000</td>\n",
       "      <td>100.000000</td>\n",
       "      <td>5.582932</td>\n",
       "    </tr>\n",
       "  </tbody>\n",
       "</table>\n",
       "</div>"
      ],
      "text/plain": [
       "          lcavol    lweight        age       lbph        svi        lcp  \\\n",
       "count  97.000000  97.000000  97.000000  97.000000  97.000000  97.000000   \n",
       "mean    1.350010   3.628943  63.865979   0.100356   0.216495  -0.179366   \n",
       "std     1.178625   0.428411   7.445117   1.450807   0.413995   1.398250   \n",
       "min    -1.347074   2.374906  41.000000  -1.386294   0.000000  -1.386294   \n",
       "25%     0.512824   3.375880  60.000000  -1.386294   0.000000  -1.386294   \n",
       "50%     1.446919   3.623007  65.000000   0.300105   0.000000  -0.798508   \n",
       "75%     2.127041   3.876396  68.000000   1.558145   0.000000   1.178655   \n",
       "max     3.821004   4.780383  79.000000   2.326302   1.000000   2.904165   \n",
       "\n",
       "         gleason       pgg45       lpsa  \n",
       "count  97.000000   97.000000  97.000000  \n",
       "mean    6.752577   24.381443   2.478387  \n",
       "std     0.722134   28.204035   1.154329  \n",
       "min     6.000000    0.000000  -0.430783  \n",
       "25%     6.000000    0.000000   1.731656  \n",
       "50%     7.000000   15.000000   2.591516  \n",
       "75%     7.000000   40.000000   3.056357  \n",
       "max     9.000000  100.000000   5.582932  "
      ]
     },
     "execution_count": 104,
     "metadata": {},
     "output_type": "execute_result"
    }
   ],
   "source": [
    "df.describe()"
   ]
  },
  {
   "cell_type": "code",
   "execution_count": 105,
   "metadata": {},
   "outputs": [
    {
     "data": {
      "text/html": [
       "<div>\n",
       "<style scoped>\n",
       "    .dataframe tbody tr th:only-of-type {\n",
       "        vertical-align: middle;\n",
       "    }\n",
       "\n",
       "    .dataframe tbody tr th {\n",
       "        vertical-align: top;\n",
       "    }\n",
       "\n",
       "    .dataframe thead th {\n",
       "        text-align: right;\n",
       "    }\n",
       "</style>\n",
       "<table border=\"1\" class=\"dataframe\">\n",
       "  <thead>\n",
       "    <tr style=\"text-align: right;\">\n",
       "      <th></th>\n",
       "      <th>lcavol</th>\n",
       "      <th>lweight</th>\n",
       "      <th>age</th>\n",
       "      <th>lbph</th>\n",
       "      <th>svi</th>\n",
       "      <th>lcp</th>\n",
       "      <th>gleason</th>\n",
       "      <th>pgg45</th>\n",
       "      <th>lpsa</th>\n",
       "    </tr>\n",
       "  </thead>\n",
       "  <tbody>\n",
       "    <tr>\n",
       "      <th>lcavol</th>\n",
       "      <td>1.000000</td>\n",
       "      <td>0.280521</td>\n",
       "      <td>0.225000</td>\n",
       "      <td>0.027350</td>\n",
       "      <td>0.538845</td>\n",
       "      <td>0.675310</td>\n",
       "      <td>0.432417</td>\n",
       "      <td>0.433652</td>\n",
       "      <td>0.734460</td>\n",
       "    </tr>\n",
       "    <tr>\n",
       "      <th>lweight</th>\n",
       "      <td>0.280521</td>\n",
       "      <td>1.000000</td>\n",
       "      <td>0.347969</td>\n",
       "      <td>0.442264</td>\n",
       "      <td>0.155385</td>\n",
       "      <td>0.164537</td>\n",
       "      <td>0.056882</td>\n",
       "      <td>0.107354</td>\n",
       "      <td>0.433319</td>\n",
       "    </tr>\n",
       "    <tr>\n",
       "      <th>age</th>\n",
       "      <td>0.225000</td>\n",
       "      <td>0.347969</td>\n",
       "      <td>1.000000</td>\n",
       "      <td>0.350186</td>\n",
       "      <td>0.117658</td>\n",
       "      <td>0.127668</td>\n",
       "      <td>0.268892</td>\n",
       "      <td>0.276112</td>\n",
       "      <td>0.169593</td>\n",
       "    </tr>\n",
       "    <tr>\n",
       "      <th>lbph</th>\n",
       "      <td>0.027350</td>\n",
       "      <td>0.442264</td>\n",
       "      <td>0.350186</td>\n",
       "      <td>1.000000</td>\n",
       "      <td>-0.085843</td>\n",
       "      <td>-0.006999</td>\n",
       "      <td>0.077820</td>\n",
       "      <td>0.078460</td>\n",
       "      <td>0.179809</td>\n",
       "    </tr>\n",
       "    <tr>\n",
       "      <th>svi</th>\n",
       "      <td>0.538845</td>\n",
       "      <td>0.155385</td>\n",
       "      <td>0.117658</td>\n",
       "      <td>-0.085843</td>\n",
       "      <td>1.000000</td>\n",
       "      <td>0.673111</td>\n",
       "      <td>0.320412</td>\n",
       "      <td>0.457648</td>\n",
       "      <td>0.566218</td>\n",
       "    </tr>\n",
       "    <tr>\n",
       "      <th>lcp</th>\n",
       "      <td>0.675310</td>\n",
       "      <td>0.164537</td>\n",
       "      <td>0.127668</td>\n",
       "      <td>-0.006999</td>\n",
       "      <td>0.673111</td>\n",
       "      <td>1.000000</td>\n",
       "      <td>0.514830</td>\n",
       "      <td>0.631528</td>\n",
       "      <td>0.548813</td>\n",
       "    </tr>\n",
       "    <tr>\n",
       "      <th>gleason</th>\n",
       "      <td>0.432417</td>\n",
       "      <td>0.056882</td>\n",
       "      <td>0.268892</td>\n",
       "      <td>0.077820</td>\n",
       "      <td>0.320412</td>\n",
       "      <td>0.514830</td>\n",
       "      <td>1.000000</td>\n",
       "      <td>0.751905</td>\n",
       "      <td>0.368987</td>\n",
       "    </tr>\n",
       "    <tr>\n",
       "      <th>pgg45</th>\n",
       "      <td>0.433652</td>\n",
       "      <td>0.107354</td>\n",
       "      <td>0.276112</td>\n",
       "      <td>0.078460</td>\n",
       "      <td>0.457648</td>\n",
       "      <td>0.631528</td>\n",
       "      <td>0.751905</td>\n",
       "      <td>1.000000</td>\n",
       "      <td>0.422316</td>\n",
       "    </tr>\n",
       "    <tr>\n",
       "      <th>lpsa</th>\n",
       "      <td>0.734460</td>\n",
       "      <td>0.433319</td>\n",
       "      <td>0.169593</td>\n",
       "      <td>0.179809</td>\n",
       "      <td>0.566218</td>\n",
       "      <td>0.548813</td>\n",
       "      <td>0.368987</td>\n",
       "      <td>0.422316</td>\n",
       "      <td>1.000000</td>\n",
       "    </tr>\n",
       "  </tbody>\n",
       "</table>\n",
       "</div>"
      ],
      "text/plain": [
       "           lcavol   lweight       age      lbph       svi       lcp   gleason  \\\n",
       "lcavol   1.000000  0.280521  0.225000  0.027350  0.538845  0.675310  0.432417   \n",
       "lweight  0.280521  1.000000  0.347969  0.442264  0.155385  0.164537  0.056882   \n",
       "age      0.225000  0.347969  1.000000  0.350186  0.117658  0.127668  0.268892   \n",
       "lbph     0.027350  0.442264  0.350186  1.000000 -0.085843 -0.006999  0.077820   \n",
       "svi      0.538845  0.155385  0.117658 -0.085843  1.000000  0.673111  0.320412   \n",
       "lcp      0.675310  0.164537  0.127668 -0.006999  0.673111  1.000000  0.514830   \n",
       "gleason  0.432417  0.056882  0.268892  0.077820  0.320412  0.514830  1.000000   \n",
       "pgg45    0.433652  0.107354  0.276112  0.078460  0.457648  0.631528  0.751905   \n",
       "lpsa     0.734460  0.433319  0.169593  0.179809  0.566218  0.548813  0.368987   \n",
       "\n",
       "            pgg45      lpsa  \n",
       "lcavol   0.433652  0.734460  \n",
       "lweight  0.107354  0.433319  \n",
       "age      0.276112  0.169593  \n",
       "lbph     0.078460  0.179809  \n",
       "svi      0.457648  0.566218  \n",
       "lcp      0.631528  0.548813  \n",
       "gleason  0.751905  0.368987  \n",
       "pgg45    1.000000  0.422316  \n",
       "lpsa     0.422316  1.000000  "
      ]
     },
     "execution_count": 105,
     "metadata": {},
     "output_type": "execute_result"
    }
   ],
   "source": [
    "df.corr()"
   ]
  },
  {
   "cell_type": "markdown",
   "metadata": {},
   "source": [
    "# Data are highly correlated"
   ]
  },
  {
   "cell_type": "code",
   "execution_count": 106,
   "metadata": {},
   "outputs": [
    {
     "data": {
      "text/html": [
       "<div>\n",
       "<style scoped>\n",
       "    .dataframe tbody tr th:only-of-type {\n",
       "        vertical-align: middle;\n",
       "    }\n",
       "\n",
       "    .dataframe tbody tr th {\n",
       "        vertical-align: top;\n",
       "    }\n",
       "\n",
       "    .dataframe thead th {\n",
       "        text-align: right;\n",
       "    }\n",
       "</style>\n",
       "<table border=\"1\" class=\"dataframe\">\n",
       "  <thead>\n",
       "    <tr style=\"text-align: right;\">\n",
       "      <th></th>\n",
       "      <th>lcavol</th>\n",
       "      <th>lweight</th>\n",
       "      <th>age</th>\n",
       "      <th>lbph</th>\n",
       "      <th>svi</th>\n",
       "      <th>lcp</th>\n",
       "      <th>gleason</th>\n",
       "      <th>pgg45</th>\n",
       "    </tr>\n",
       "  </thead>\n",
       "  <tbody>\n",
       "    <tr>\n",
       "      <th>lcavol</th>\n",
       "      <td>1.000000</td>\n",
       "      <td>0.280521</td>\n",
       "      <td>0.225000</td>\n",
       "      <td>0.027350</td>\n",
       "      <td>0.538845</td>\n",
       "      <td>0.675310</td>\n",
       "      <td>0.432417</td>\n",
       "      <td>0.433652</td>\n",
       "    </tr>\n",
       "    <tr>\n",
       "      <th>lweight</th>\n",
       "      <td>0.280521</td>\n",
       "      <td>1.000000</td>\n",
       "      <td>0.347969</td>\n",
       "      <td>0.442264</td>\n",
       "      <td>0.155385</td>\n",
       "      <td>0.164537</td>\n",
       "      <td>0.056882</td>\n",
       "      <td>0.107354</td>\n",
       "    </tr>\n",
       "    <tr>\n",
       "      <th>age</th>\n",
       "      <td>0.225000</td>\n",
       "      <td>0.347969</td>\n",
       "      <td>1.000000</td>\n",
       "      <td>0.350186</td>\n",
       "      <td>0.117658</td>\n",
       "      <td>0.127668</td>\n",
       "      <td>0.268892</td>\n",
       "      <td>0.276112</td>\n",
       "    </tr>\n",
       "    <tr>\n",
       "      <th>lbph</th>\n",
       "      <td>0.027350</td>\n",
       "      <td>0.442264</td>\n",
       "      <td>0.350186</td>\n",
       "      <td>1.000000</td>\n",
       "      <td>-0.085843</td>\n",
       "      <td>-0.006999</td>\n",
       "      <td>0.077820</td>\n",
       "      <td>0.078460</td>\n",
       "    </tr>\n",
       "    <tr>\n",
       "      <th>svi</th>\n",
       "      <td>0.538845</td>\n",
       "      <td>0.155385</td>\n",
       "      <td>0.117658</td>\n",
       "      <td>-0.085843</td>\n",
       "      <td>1.000000</td>\n",
       "      <td>0.673111</td>\n",
       "      <td>0.320412</td>\n",
       "      <td>0.457648</td>\n",
       "    </tr>\n",
       "    <tr>\n",
       "      <th>lcp</th>\n",
       "      <td>0.675310</td>\n",
       "      <td>0.164537</td>\n",
       "      <td>0.127668</td>\n",
       "      <td>-0.006999</td>\n",
       "      <td>0.673111</td>\n",
       "      <td>1.000000</td>\n",
       "      <td>0.514830</td>\n",
       "      <td>0.631528</td>\n",
       "    </tr>\n",
       "    <tr>\n",
       "      <th>gleason</th>\n",
       "      <td>0.432417</td>\n",
       "      <td>0.056882</td>\n",
       "      <td>0.268892</td>\n",
       "      <td>0.077820</td>\n",
       "      <td>0.320412</td>\n",
       "      <td>0.514830</td>\n",
       "      <td>1.000000</td>\n",
       "      <td>0.751905</td>\n",
       "    </tr>\n",
       "    <tr>\n",
       "      <th>pgg45</th>\n",
       "      <td>0.433652</td>\n",
       "      <td>0.107354</td>\n",
       "      <td>0.276112</td>\n",
       "      <td>0.078460</td>\n",
       "      <td>0.457648</td>\n",
       "      <td>0.631528</td>\n",
       "      <td>0.751905</td>\n",
       "      <td>1.000000</td>\n",
       "    </tr>\n",
       "  </tbody>\n",
       "</table>\n",
       "</div>"
      ],
      "text/plain": [
       "           lcavol   lweight       age      lbph       svi       lcp   gleason  \\\n",
       "lcavol   1.000000  0.280521  0.225000  0.027350  0.538845  0.675310  0.432417   \n",
       "lweight  0.280521  1.000000  0.347969  0.442264  0.155385  0.164537  0.056882   \n",
       "age      0.225000  0.347969  1.000000  0.350186  0.117658  0.127668  0.268892   \n",
       "lbph     0.027350  0.442264  0.350186  1.000000 -0.085843 -0.006999  0.077820   \n",
       "svi      0.538845  0.155385  0.117658 -0.085843  1.000000  0.673111  0.320412   \n",
       "lcp      0.675310  0.164537  0.127668 -0.006999  0.673111  1.000000  0.514830   \n",
       "gleason  0.432417  0.056882  0.268892  0.077820  0.320412  0.514830  1.000000   \n",
       "pgg45    0.433652  0.107354  0.276112  0.078460  0.457648  0.631528  0.751905   \n",
       "\n",
       "            pgg45  \n",
       "lcavol   0.433652  \n",
       "lweight  0.107354  \n",
       "age      0.276112  \n",
       "lbph     0.078460  \n",
       "svi      0.457648  \n",
       "lcp      0.631528  \n",
       "gleason  0.751905  \n",
       "pgg45    1.000000  "
      ]
     },
     "execution_count": 106,
     "metadata": {},
     "output_type": "execute_result"
    }
   ],
   "source": [
    "y = df['lpsa'];\n",
    "X = df.drop(['lpsa'],axis=1);\n",
    "X.corr()"
   ]
  },
  {
   "cell_type": "code",
   "execution_count": 107,
   "metadata": {},
   "outputs": [],
   "source": [
    "from sklearn.preprocessing import StandardScaler\n",
    "from sklearn import preprocessing as pp\n",
    "from sklearn.pipeline import Pipeline\n",
    "std_scaler = StandardScaler();\n",
    "X_train = X[X['train']==\"T\"];\n",
    "y_train = y[X['train']==\"T\"];\n",
    "X_test = X[X['train']==\"F\"];\n",
    "y_test = y[X['train']==\"F\"];\n"
   ]
  },
  {
   "cell_type": "code",
   "execution_count": 108,
   "metadata": {},
   "outputs": [
    {
     "name": "stdout",
     "output_type": "stream",
     "text": [
      "[ 3.20476749e-17 -3.17043070e-16  4.13186095e-16 -2.43218962e-17\n",
      " -3.66259142e-17  3.66259142e-17 -2.17466366e-17  5.63695711e-17]\n",
      "[1. 1. 1. 1. 1. 1. 1. 1.]\n"
     ]
    }
   ],
   "source": [
    "X_train = X;\n",
    "y_train = y;\n",
    "X_train.drop(['train'], axis=1, inplace=True)\n",
    "del X, y\n",
    "#### We assume data have been already shuffled.\n",
    "#X_train.head()\n",
    "X_scaled = pp.scale(X_train.astype('float'));\n",
    "print(X_scaled.mean(axis=0))\n",
    "print(X_scaled.std(axis=0))"
   ]
  },
  {
   "cell_type": "code",
   "execution_count": 109,
   "metadata": {},
   "outputs": [
    {
     "name": "stdout",
     "output_type": "stream",
     "text": [
      "          lcavol    lweight        age       lbph        svi        lcp  \\\n",
      "count  97.000000  97.000000  97.000000  97.000000  97.000000  97.000000   \n",
      "mean    1.350010   3.628943  63.865979   0.100356   0.216495  -0.179366   \n",
      "std     1.178625   0.428411   7.445117   1.450807   0.413995   1.398250   \n",
      "min    -1.347074   2.374906  41.000000  -1.386294   0.000000  -1.386294   \n",
      "25%     0.512824   3.375880  60.000000  -1.386294   0.000000  -1.386294   \n",
      "50%     1.446919   3.623007  65.000000   0.300105   0.000000  -0.798508   \n",
      "75%     2.127041   3.876396  68.000000   1.558145   0.000000   1.178655   \n",
      "max     3.821004   4.780383  79.000000   2.326302   1.000000   2.904165   \n",
      "\n",
      "         gleason       pgg45  \n",
      "count  97.000000   97.000000  \n",
      "mean    6.752577   24.381443  \n",
      "std     0.722134   28.204035  \n",
      "min     6.000000    0.000000  \n",
      "25%     6.000000    0.000000  \n",
      "50%     7.000000   15.000000  \n",
      "75%     7.000000   40.000000  \n",
      "max     9.000000  100.000000  \n",
      "                  0             1             2             3             4  \\\n",
      "count  9.700000e+01  9.700000e+01  9.700000e+01  9.700000e+01  9.700000e+01   \n",
      "mean  -9.614302e-17 -3.216213e-16  3.433679e-16 -4.721309e-17 -1.327689e-16   \n",
      "std    1.005195e+00  1.005195e+00  1.005195e+00  1.005195e+00  1.005195e+00   \n",
      "min   -2.300218e+00 -2.942386e+00 -3.087227e+00 -1.030029e+00 -5.256575e-01   \n",
      "25%   -7.139973e-01 -5.937689e-01 -5.219612e-01 -1.030029e+00 -5.256575e-01   \n",
      "50%    8.264956e-02 -1.392703e-02  1.531086e-01  1.383966e-01 -5.256575e-01   \n",
      "75%    6.626939e-01  5.806076e-01  5.581506e-01  1.010033e+00 -5.256575e-01   \n",
      "max    2.107397e+00  2.701661e+00  2.043304e+00  1.542252e+00  1.902379e+00   \n",
      "\n",
      "                  5             6             7  \n",
      "count  9.700000e+01  9.700000e+01  9.700000e+01  \n",
      "mean   8.240831e-17 -1.476482e-16 -1.816989e-16  \n",
      "std    1.005195e+00  1.005195e+00  1.005195e+00  \n",
      "min   -8.676552e-01 -1.047571e+00 -8.689573e-01  \n",
      "25%   -8.676552e-01 -1.047571e+00 -8.689573e-01  \n",
      "50%   -4.450983e-01  3.444069e-01 -3.343557e-01  \n",
      "75%    9.762744e-01  3.444069e-01  5.566470e-01  \n",
      "max    2.216735e+00  3.128363e+00  2.695054e+00  \n",
      "<class 'pandas.core.frame.DataFrame'>\n",
      "RangeIndex: 97 entries, 0 to 96\n",
      "Data columns (total 8 columns):\n",
      "lcavol     97 non-null float64\n",
      "lweight    97 non-null float64\n",
      "age        97 non-null int64\n",
      "lbph       97 non-null float64\n",
      "svi        97 non-null int64\n",
      "lcp        97 non-null float64\n",
      "gleason    97 non-null int64\n",
      "pgg45      97 non-null int64\n",
      "dtypes: float64(4), int64(4)\n",
      "memory usage: 6.1 KB\n"
     ]
    }
   ],
   "source": [
    "print(X_train.describe());\n",
    "print(pd.DataFrame(X_scaled).describe());\n",
    "X_train.info()"
   ]
  },
  {
   "cell_type": "code",
   "execution_count": 110,
   "metadata": {},
   "outputs": [
    {
     "name": "stdout",
     "output_type": "stream",
     "text": [
      "[ 3.20476749e-17 -3.17043070e-16  4.13186095e-16 -2.43218962e-17\n",
      " -3.66259142e-17  3.66259142e-17 -2.17466366e-17  5.63695711e-17]\n",
      "[1. 1. 1. 1. 1. 1. 1. 1.]\n"
     ]
    }
   ],
   "source": [
    "X_scaled = std_scaler.fit_transform(X_train.astype(float));\n",
    "print(np.mean(X_scaled, axis=0));\n",
    "print(np.std(X_scaled, axis=0));"
   ]
  },
  {
   "cell_type": "code",
   "execution_count": 111,
   "metadata": {},
   "outputs": [
    {
     "data": {
      "text/html": [
       "<div>\n",
       "<style scoped>\n",
       "    .dataframe tbody tr th:only-of-type {\n",
       "        vertical-align: middle;\n",
       "    }\n",
       "\n",
       "    .dataframe tbody tr th {\n",
       "        vertical-align: top;\n",
       "    }\n",
       "\n",
       "    .dataframe thead th {\n",
       "        text-align: right;\n",
       "    }\n",
       "</style>\n",
       "<table border=\"1\" class=\"dataframe\">\n",
       "  <thead>\n",
       "    <tr style=\"text-align: right;\">\n",
       "      <th></th>\n",
       "      <th>lcavol</th>\n",
       "      <th>lweight</th>\n",
       "      <th>age</th>\n",
       "      <th>lbph</th>\n",
       "      <th>svi</th>\n",
       "      <th>lcp</th>\n",
       "      <th>gleason</th>\n",
       "      <th>pgg45</th>\n",
       "    </tr>\n",
       "  </thead>\n",
       "  <tbody>\n",
       "    <tr>\n",
       "      <th>lcavol</th>\n",
       "      <td>1.000000</td>\n",
       "      <td>0.280521</td>\n",
       "      <td>0.225000</td>\n",
       "      <td>0.027350</td>\n",
       "      <td>0.538845</td>\n",
       "      <td>0.675310</td>\n",
       "      <td>0.432417</td>\n",
       "      <td>0.433652</td>\n",
       "    </tr>\n",
       "    <tr>\n",
       "      <th>lweight</th>\n",
       "      <td>0.280521</td>\n",
       "      <td>1.000000</td>\n",
       "      <td>0.347969</td>\n",
       "      <td>0.442264</td>\n",
       "      <td>0.155385</td>\n",
       "      <td>0.164537</td>\n",
       "      <td>0.056882</td>\n",
       "      <td>0.107354</td>\n",
       "    </tr>\n",
       "    <tr>\n",
       "      <th>age</th>\n",
       "      <td>0.225000</td>\n",
       "      <td>0.347969</td>\n",
       "      <td>1.000000</td>\n",
       "      <td>0.350186</td>\n",
       "      <td>0.117658</td>\n",
       "      <td>0.127668</td>\n",
       "      <td>0.268892</td>\n",
       "      <td>0.276112</td>\n",
       "    </tr>\n",
       "    <tr>\n",
       "      <th>lbph</th>\n",
       "      <td>0.027350</td>\n",
       "      <td>0.442264</td>\n",
       "      <td>0.350186</td>\n",
       "      <td>1.000000</td>\n",
       "      <td>-0.085843</td>\n",
       "      <td>-0.006999</td>\n",
       "      <td>0.077820</td>\n",
       "      <td>0.078460</td>\n",
       "    </tr>\n",
       "    <tr>\n",
       "      <th>svi</th>\n",
       "      <td>0.538845</td>\n",
       "      <td>0.155385</td>\n",
       "      <td>0.117658</td>\n",
       "      <td>-0.085843</td>\n",
       "      <td>1.000000</td>\n",
       "      <td>0.673111</td>\n",
       "      <td>0.320412</td>\n",
       "      <td>0.457648</td>\n",
       "    </tr>\n",
       "    <tr>\n",
       "      <th>lcp</th>\n",
       "      <td>0.675310</td>\n",
       "      <td>0.164537</td>\n",
       "      <td>0.127668</td>\n",
       "      <td>-0.006999</td>\n",
       "      <td>0.673111</td>\n",
       "      <td>1.000000</td>\n",
       "      <td>0.514830</td>\n",
       "      <td>0.631528</td>\n",
       "    </tr>\n",
       "    <tr>\n",
       "      <th>gleason</th>\n",
       "      <td>0.432417</td>\n",
       "      <td>0.056882</td>\n",
       "      <td>0.268892</td>\n",
       "      <td>0.077820</td>\n",
       "      <td>0.320412</td>\n",
       "      <td>0.514830</td>\n",
       "      <td>1.000000</td>\n",
       "      <td>0.751905</td>\n",
       "    </tr>\n",
       "    <tr>\n",
       "      <th>pgg45</th>\n",
       "      <td>0.433652</td>\n",
       "      <td>0.107354</td>\n",
       "      <td>0.276112</td>\n",
       "      <td>0.078460</td>\n",
       "      <td>0.457648</td>\n",
       "      <td>0.631528</td>\n",
       "      <td>0.751905</td>\n",
       "      <td>1.000000</td>\n",
       "    </tr>\n",
       "  </tbody>\n",
       "</table>\n",
       "</div>"
      ],
      "text/plain": [
       "           lcavol   lweight       age      lbph       svi       lcp   gleason  \\\n",
       "lcavol   1.000000  0.280521  0.225000  0.027350  0.538845  0.675310  0.432417   \n",
       "lweight  0.280521  1.000000  0.347969  0.442264  0.155385  0.164537  0.056882   \n",
       "age      0.225000  0.347969  1.000000  0.350186  0.117658  0.127668  0.268892   \n",
       "lbph     0.027350  0.442264  0.350186  1.000000 -0.085843 -0.006999  0.077820   \n",
       "svi      0.538845  0.155385  0.117658 -0.085843  1.000000  0.673111  0.320412   \n",
       "lcp      0.675310  0.164537  0.127668 -0.006999  0.673111  1.000000  0.514830   \n",
       "gleason  0.432417  0.056882  0.268892  0.077820  0.320412  0.514830  1.000000   \n",
       "pgg45    0.433652  0.107354  0.276112  0.078460  0.457648  0.631528  0.751905   \n",
       "\n",
       "            pgg45  \n",
       "lcavol   0.433652  \n",
       "lweight  0.107354  \n",
       "age      0.276112  \n",
       "lbph     0.078460  \n",
       "svi      0.457648  \n",
       "lcp      0.631528  \n",
       "gleason  0.751905  \n",
       "pgg45    1.000000  "
      ]
     },
     "execution_count": 111,
     "metadata": {},
     "output_type": "execute_result"
    }
   ],
   "source": [
    "pd.DataFrame(X_scaled, columns=X_train.columns).corr()"
   ]
  },
  {
   "cell_type": "code",
   "execution_count": 112,
   "metadata": {},
   "outputs": [
    {
     "data": {
      "text/plain": [
       "Index(['lcavol', 'lweight', 'age', 'lbph', 'svi', 'lcp', 'gleason', 'pgg45'], dtype='object')"
      ]
     },
     "execution_count": 112,
     "metadata": {},
     "output_type": "execute_result"
    }
   ],
   "source": [
    "X_train.columns"
   ]
  },
  {
   "cell_type": "code",
   "execution_count": 113,
   "metadata": {},
   "outputs": [],
   "source": [
    "from sklearn.linear_model import LinearRegression\n",
    "#X_b = np.c_[np.ones((len(X_scaled), 1)), X_scaled]\n",
    "lr = LinearRegression();\n",
    "lr.fit( X_scaled, y_train);"
   ]
  },
  {
   "cell_type": "code",
   "execution_count": 114,
   "metadata": {},
   "outputs": [
    {
     "data": {
      "text/plain": [
       "(array([ 0.6617092 ,  0.26510309, -0.15737767,  0.13958604,  0.31369926,\n",
       "        -0.14751935,  0.03536545,  0.1250701 ]), 2.4783868783505154)"
      ]
     },
     "execution_count": 114,
     "metadata": {},
     "output_type": "execute_result"
    }
   ],
   "source": [
    "lr.coef_, lr.intercept_"
   ]
  },
  {
   "cell_type": "code",
   "execution_count": 115,
   "metadata": {},
   "outputs": [],
   "source": [
    "X_b = np.c_[np.ones((len(X_scaled), 1)), X_scaled]"
   ]
  },
  {
   "cell_type": "code",
   "execution_count": 116,
   "metadata": {},
   "outputs": [],
   "source": [
    "from sklearn.metrics import mean_squared_error;\n",
    "y_pred = lr.predict(X_scaled);\n"
   ]
  },
  {
   "cell_type": "code",
   "execution_count": 117,
   "metadata": {},
   "outputs": [
    {
     "data": {
      "text/plain": [
       "array([ 1.00000000e+00,  3.20476749e-17, -3.17043070e-16,  4.13186095e-16,\n",
       "       -2.43218962e-17, -3.66259142e-17,  3.66259142e-17, -2.17466366e-17,\n",
       "        5.63695711e-17])"
      ]
     },
     "execution_count": 117,
     "metadata": {},
     "output_type": "execute_result"
    }
   ],
   "source": [
    "np.mean(X_b, axis=0)"
   ]
  },
  {
   "cell_type": "code",
   "execution_count": 118,
   "metadata": {},
   "outputs": [],
   "source": [
    "from numpy.linalg import inv\n",
    "theta = inv(X_b.T.dot(X_b)).dot(X_b.T).dot(y_train)"
   ]
  },
  {
   "cell_type": "code",
   "execution_count": 119,
   "metadata": {},
   "outputs": [
    {
     "data": {
      "text/plain": [
       "array([ 2.47838688,  0.6617092 ,  0.26510309, -0.15737767,  0.13958604,\n",
       "        0.31369926, -0.14751935,  0.03536545,  0.1250701 ])"
      ]
     },
     "execution_count": 119,
     "metadata": {},
     "output_type": "execute_result"
    }
   ],
   "source": [
    "theta"
   ]
  },
  {
   "cell_type": "code",
   "execution_count": 120,
   "metadata": {},
   "outputs": [
    {
     "data": {
      "text/plain": [
       "(array([ 0.6617092 ,  0.26510309, -0.15737767,  0.13958604,  0.31369926,\n",
       "        -0.14751935,  0.03536545,  0.1250701 ]), 2.4783868783505154)"
      ]
     },
     "execution_count": 120,
     "metadata": {},
     "output_type": "execute_result"
    }
   ],
   "source": [
    "lr.coef_, lr.intercept_"
   ]
  },
  {
   "cell_type": "code",
   "execution_count": 121,
   "metadata": {},
   "outputs": [
    {
     "data": {
      "text/plain": [
       "array([ 2.47838688,  0.6617092 ,  0.26510309, -0.15737767,  0.13958604,\n",
       "        0.31369926, -0.14751935,  0.03536545,  0.1250701 ])"
      ]
     },
     "execution_count": 121,
     "metadata": {},
     "output_type": "execute_result"
    }
   ],
   "source": [
    "np.linalg.inv(X_b.T.dot(X_b)).dot(X_b.T).dot(y_train)"
   ]
  },
  {
   "cell_type": "code",
   "execution_count": 122,
   "metadata": {},
   "outputs": [
    {
     "data": {
      "text/plain": [
       "array([[ 2.47838688],\n",
       "       [ 0.6617092 ],\n",
       "       [ 0.26510309],\n",
       "       [-0.15737767],\n",
       "       [ 0.13958604],\n",
       "       [ 0.31369926],\n",
       "       [-0.14751935],\n",
       "       [ 0.03536545],\n",
       "       [ 0.1250701 ]])"
      ]
     },
     "execution_count": 122,
     "metadata": {},
     "output_type": "execute_result"
    }
   ],
   "source": [
    "n_iter = 1000;\n",
    "np.random.seed(42);\n",
    "eta = 0.1\n",
    "theta_gd = np.random.randn(X_b.shape[1],1);\n",
    "for ii in range(n_iter):\n",
    "    gradient =  -2/len(X_b)*X_b.T.dot(np.c_[y_train] - X_b.dot(theta_gd));\n",
    "    theta_gd = theta_gd - eta*gradient;\n",
    "    \n",
    "theta_gd"
   ]
  },
  {
   "cell_type": "markdown",
   "metadata": {},
   "source": [
    "The **residual sum of squares (RSS)** and **Mean square error(MSE)**"
   ]
  },
  {
   "cell_type": "code",
   "execution_count": 123,
   "metadata": {},
   "outputs": [
    {
     "data": {
      "text/plain": [
       "(43.0584187377249, 0.4439012241002567)"
      ]
     },
     "execution_count": 123,
     "metadata": {},
     "output_type": "execute_result"
    }
   ],
   "source": [
    "np.sum(np.square(y_train-y_pred)), mean_squared_error(y_train, y_pred)"
   ]
  },
  {
   "cell_type": "code",
   "execution_count": 124,
   "metadata": {},
   "outputs": [
    {
     "data": {
      "text/plain": [
       "(array([0.07102346, 0.10298769, 0.08562159, 0.08209583, 0.08358589,\n",
       "        0.0993295 , 0.12500844, 0.11159707, 0.12248356]), array([[34.89532647],\n",
       "        [ 6.42512912],\n",
       "        [ 3.09621789],\n",
       "        [-1.9169997 ],\n",
       "        [ 1.66997136],\n",
       "        [ 3.15816822],\n",
       "        [-1.18007512],\n",
       "        [ 0.31690306],\n",
       "        [ 1.02111746]]))"
      ]
     },
     "execution_count": 124,
     "metadata": {},
     "output_type": "execute_result"
    }
   ],
   "source": [
    "from scipy import stats\n",
    "# Apparently, scikit does not support statistical inference delibarately\n",
    "sigma_hat = np.sum(np.square(y_train-y_pred))/(len(y_train)-X_train.shape[1]-1);\n",
    "err_single_attr = dict();\n",
    "\n",
    "std_err  = np.sqrt(np.diag(inv(X_b.T.dot(X_b)))*sigma_hat);\n",
    "z_scores = np.multiply(theta_gd, 1/std_err.reshape(-1,1));\n",
    "std_err, z_scores\n",
    "#for ii, ff in enumerate(X_train.columns):\n",
    "#    y_hat = X_b[:, 1+ii]*lr.coef_[ii]+ X_b[:, 0]*lr.intercept_;\n",
    "#    err = mean_squared_error(y_train, y_hat);\n",
    "#    err_single_attr[ff] = err;\n",
    "     "
   ]
  },
  {
   "cell_type": "code",
   "execution_count": 125,
   "metadata": {},
   "outputs": [
    {
     "data": {
      "text/plain": [
       "array([[ 0.17602362],\n",
       "       [ 0.0681479 ],\n",
       "       [ 0.02269855],\n",
       "       [-0.01292005],\n",
       "       [ 0.01166742],\n",
       "       [ 0.03115959],\n",
       "       [-0.01844116],\n",
       "       [ 0.00394668],\n",
       "       [ 0.01531903]])"
      ]
     },
     "execution_count": 125,
     "metadata": {},
     "output_type": "execute_result"
    }
   ],
   "source": [
    "np.multiply(theta_gd, std_err.reshape(-1,1))"
   ]
  },
  {
   "cell_type": "code",
   "execution_count": 126,
   "metadata": {},
   "outputs": [
    {
     "name": "stdout",
     "output_type": "stream",
     "text": [
      "[34.89532647]\n",
      "[6.42512912]\n",
      "[3.09621789]\n",
      "[-1.9169997]\n",
      "[1.66997136]\n",
      "[3.15816822]\n",
      "[-1.18007512]\n",
      "[0.31690306]\n",
      "[1.02111746]\n"
     ]
    }
   ],
   "source": [
    "for ii in range(len(theta_gd)):\n",
    "    print(theta_gd[ii]*1/std_err[ii])"
   ]
  },
  {
   "cell_type": "markdown",
   "metadata": {},
   "source": [
    "# Best subset selection"
   ]
  },
  {
   "cell_type": "code",
   "execution_count": 127,
   "metadata": {},
   "outputs": [
    {
     "name": "stdout",
     "output_type": "stream",
     "text": [
      "(97, 9)\n"
     ]
    }
   ],
   "source": [
    "#sklearn does not support\n",
    "import itertools;\n",
    "from scipy.linalg import inv\n",
    "\n",
    "print(X_b.shape)\n",
    "#intercept only\n",
    "X_small = np.copy(X_b[:,0]).reshape(-1,1); #np.ones\n",
    "b_man  = scipy.linalg.inv(X_small.T.dot(X_small)).dot(X_small.T.dot(y_train));\n",
    "lr = LinearRegression();\n",
    "lr.fit(X_small, y_train);\n",
    "y_pred_sk  = lr.predict(X_small);\n",
    "y_pred_man = X_small.dot(b_man);\n",
    "rss_sk  = np.sum(np.square(y_train-y_pred_sk));\n",
    "rss_man = np.sum(np.square(y_train-y_pred_man.reshape(y_train.shape)));\n",
    "num_features = X_b.shape[1]-1;\n",
    "best_models = {num_features : dict()};\n",
    "best_subset = dict();\n",
    "best_subset['names']      = [\"intercept\",];\n",
    "best_subset['indexes']    = [0]; #wrt X_with_bias_coeffs\n",
    "best_subset['coeffs']     = b_man;\n",
    "best_subset['err']        = rss_man;\n",
    "best_subset['all_errors'] = [];\n",
    "best_subset['skl_model']  = lr;\n",
    "best_models[0] = best_subset;\n",
    "best_models[\"error_sequence\"] = list();\n",
    "best_models[\"error_sequence\"].append(best_subset['err']);\n",
    "\n",
    "for num_features in np.arange(1,len(X_train.columns)+1):\n",
    "    err = np.infty;\n",
    "    best_subset = dict();\n",
    "    errors = {\"features\":list(), \"errors\":list()};\n",
    "    \n",
    "    for ff in list(itertools.combinations(X_train.columns, num_features)):\n",
    "        idx = [X_train.columns.get_loc(ii)+1 for ii in ff]; #+1 because it will be used with the row of ones\n",
    "        idx.insert(0,0);\n",
    "        X_small = X_b[:,idx];\n",
    "\n",
    "        b_man  = inv(X_small.T.dot(X_small)).dot(X_small.T).dot(y_train);\n",
    "        lr = LinearRegression();\n",
    "        #print(X_small.shape)\n",
    "        lr.fit(X_small[:,1:], y_train);\n",
    "        y_pred_sk  = lr.predict(X_small[:,1:]);\n",
    "        y_pred_man = X_small.dot(b_man);\n",
    "        rss_sk  = np.sum(np.square(y_train-y_pred_sk));\n",
    "        rss_man = np.sum(np.square(y_train-y_pred_man));\n",
    "        \n",
    "        errors[\"features\"].append(ff);\n",
    "        errors['errors'].append(rss_man);\n",
    "        if rss_man < err:\n",
    "            err = rss_man;\n",
    "            best_subset['names']   = ff;\n",
    "            best_subset['indexes'] = idx; #wrt X_with_bias_coeffs\n",
    "            best_subset['coeffs']  = b_man;\n",
    "            best_subset['err']     = rss_man;\n",
    "            best_subset['all_errors']     = errors;\n",
    "            best_subset['skl_model'] = lr;\n",
    "            \n",
    "      \n",
    "    best_models[\"error_sequence\"].append(best_subset['err']);\n",
    "    best_models[num_features] = best_subset;\n",
    "    \n",
    "        \n",
    "\n",
    "    \n",
    "    \n",
    "    \n",
    "    "
   ]
  },
  {
   "cell_type": "code",
   "execution_count": 128,
   "metadata": {},
   "outputs": [
    {
     "name": "stdout",
     "output_type": "stream",
     "text": [
      "no bias\n"
     ]
    }
   ],
   "source": [
    "from sklearn.linear_model import LinearRegression\n",
    "import pandas as pd\n",
    "import itertools;\n",
    "from sklearn.pipeline import Pipeline;\n",
    "from sklearn.preprocessing import StandardScaler;\n",
    "from sklearn.base import clone;\n",
    "class error_sequenceC:\n",
    "    def __init__(self):\n",
    "        self.errors = None;\n",
    "        self.names  = None;        \n",
    "    def __init__(self, errors, sequence):\n",
    "        self.errors = errors.copy();\n",
    "        self.names  = sequence.copy();\n",
    "        \n",
    "\n",
    "class best_submodel_abstract:\n",
    " \n",
    "    def __init__(self):\n",
    "        self._standardInit();\n",
    "        self.pipeline      = Pipeline([\n",
    "                ('Scaler', StandardScaler()), \n",
    "                ('LinearRegression', LinearRegression())]); #later let user choose type\n",
    "\n",
    "    def _standardInit(self):\n",
    "        self.X_small = None;\n",
    "        self.num_features  = None;\n",
    "        self.feature_names = None;\n",
    "        self.indexes       = None; #wrt X_with_bias_coeffs\n",
    "        self.best_coeffs   = None;\n",
    "        self.err           = None;\n",
    "        self.all_errors    = None;\n",
    "        self.skl_model     = None;   \n",
    "        \n",
    "    def _removeBias(self, X, num_features, isItwithoutBias=True):\n",
    "        self.num_features = num_features;\n",
    "        if (not isItwithoutBias):\n",
    "            # scikit will be used and LinearRegression does not want the column of 1s\n",
    "            print(\"removing bias\");\n",
    "            X_small = X[:,1:];\n",
    "        else:\n",
    "            X_small = X;\n",
    "            print(\"no bias\");\n",
    "        return X_small;\n",
    "    \n",
    "    def fit(self, X, y,num_features, isItwithoutBias=True):\n",
    "        return\n",
    "\n",
    "class best_submodel_sk(best_submodel_abstract):\n",
    "    def __init__(self):\n",
    "        super(best_submodel_sk, self).__init__();\n",
    "    \n",
    "    def fit(self, X, y,num_features, isItwithoutBias=True):\n",
    "        if isinstance(X, pd.DataFrame):\n",
    "            column_names = list(X.columns)\n",
    "            X = X.values;\n",
    "        X_no_bias   = super()._removeBias(X,num_features, isItwithoutBias);\n",
    "        self.errors = {\"features\":list(), \"errors\":list()};\n",
    "        err = np.infty;\n",
    "        all_idx = [i for i in range(X_no_bias.shape[1])];\n",
    "        errors = {\"features\":list(), \"errors\":list()};\n",
    "\n",
    "        for ff in list(itertools.combinations(all_idx, num_features)):\n",
    "            X_small = X_no_bias[:,ff]; \n",
    "            temp_pipe = clone(self.pipeline); # copy to have the same type instead of declaring \n",
    "            temp_pipe.fit(X_small,y); #probably separate scaler for transform\n",
    "            y_pred_sk  = temp_pipe.predict(X_small);\n",
    "            rss_sk     = np.sum(np.square(y_train-y_pred_sk));\n",
    "            #errors[\"features\"].append(ff);\n",
    "            #errors['errors'].append(rss_sk);\n",
    "            if rss_sk < err:\n",
    "                self.pipeline = temp_pipe;\n",
    "                err = rss_sk;\n",
    "                self.best_subset     = ff;\n",
    "                self.best_subset_idx = ff; #wrt X_with_bias_coeffs\n",
    "                self.best_error      = rss_sk;\n",
    "                #self.all_errors      = error_sequence();\n",
    "                self.model           = lr;            \n",
    "\n",
    "l = best_submodel_sk();\n",
    "l.fit(X_train, y_train, 3)\n",
    "\n"
   ]
  },
  {
   "cell_type": "markdown",
   "metadata": {},
   "source": [
    "# Forward stepwise selection"
   ]
  },
  {
   "cell_type": "code",
   "execution_count": 129,
   "metadata": {},
   "outputs": [
    {
     "name": "stdout",
     "output_type": "stream",
     "text": [
      "(97, 9)\n"
     ]
    }
   ],
   "source": [
    "#sklearn does not support\n",
    "import itertools;\n",
    "from scipy.linalg import inv\n",
    "\n",
    "\n",
    "print(X_b.shape)\n",
    "#intercept only\n",
    "X_small = np.copy(X_b[:,0]).reshape(-1,1); #np.ones\n",
    "b_man  = scipy.linalg.inv(X_small.T.dot(X_small)).dot(X_small.T.dot(y_train));\n",
    "lr = LinearRegression();\n",
    "lr.fit(X_small, y_train);\n",
    "y_pred_sk  = lr.predict(X_small);\n",
    "y_pred_man = X_small.dot(b_man);\n",
    "rss_sk  = np.sum(np.square(y_train-y_pred_sk));\n",
    "rss_man = np.sum(np.square(y_train-y_pred_man.reshape(y_train.shape)));\n",
    "best_fw_models = {num_features : dict()};\n",
    "best_fw_subset = dict();\n",
    "best_fw_subset['names']      = [\"intercept\",];\n",
    "best_fw_subset['indexes']    = [0]; #wrt X_with_bias_coeffs\n",
    "best_fw_subset['coeffs']     = b_man;\n",
    "best_fw_subset['err']        = rss_man;\n",
    "best_fw_subset['all_errors'] = [];\n",
    "best_fw_subset['skl_model']  = lr;\n",
    "best_fw_models[0] = best_fw_subset.copy();\n",
    "best_fw_models[\"error_sequence\"] = list();\n",
    "best_fw_models[\"error_sequence\"].append(best_fw_subset['err']);\n",
    "best_fw_subset['indexes'] = [0,];\n",
    "l_feat = list(X_train.columns);\n",
    "for num_features in np.arange(1,len(X_train.columns)+1):\n",
    "    #print(best_fw_subset['coeffs'])\n",
    "    err = np.infty;\n",
    "    errors = {\"features\":list(), \"errors\":list()};\n",
    "    best_fw_subset['names'].append('')\n",
    "    best_fw_subset['indexes'].append(np.infty);\n",
    "    for ff in l_feat:\n",
    "        idx = best_fw_subset['indexes'][:-1];\n",
    "        idx.append(X_train.columns.get_loc(ff)+1);\n",
    "        X_small = X_b[:,idx];\n",
    "        b_man = inv(X_small.T.dot(X_small)).dot(X_small.T).dot(y_train);\n",
    "        lr = LinearRegression();\n",
    "        lr.fit(X_small[:,1:], y_train);\n",
    "        y_pred_sk  = lr.predict(X_small[:,1:]);\n",
    "        y_pred_man = X_small.dot(b_man);\n",
    "\n",
    "        rss_sk  = np.sum(np.square(y_train-y_pred_sk));\n",
    "        rss_man = np.sum(np.square(y_train-y_pred_man));\n",
    "        errors[\"features\"].append(ff);\n",
    "        errors['errors'].append(rss_man);\n",
    "        if rss_man < err:\n",
    "            err = rss_man;\n",
    "            best_fw_subset['names'][-1]   = ff;\n",
    "            best_fw_subset['indexes'][-1] = idx[-1]; #wrt X_with_bias_coeffs\n",
    "            best_fw_subset['coeffs']      = b_man.copy();\n",
    "            best_fw_subset['err']         = rss_man;\n",
    "            best_fw_subset['all_errors']  = errors;\n",
    "            best_fw_subset['skl_model']   = lr;\n",
    "\n",
    "    l_feat.remove(best_fw_subset['names'][-1]);\n",
    "    best_fw_models[\"error_sequence\"].append(best_fw_subset['err']);\n",
    "    best_fw_models[num_features] = best_fw_subset.copy();\n",
    "    #print(num_features)"
   ]
  },
  {
   "cell_type": "markdown",
   "metadata": {},
   "source": [
    "# Orthogonal dependent stepwise\n"
   ]
  },
  {
   "cell_type": "code",
   "execution_count": 130,
   "metadata": {},
   "outputs": [
    {
     "name": "stdout",
     "output_type": "stream",
     "text": [
      "(97, 9)\n",
      "(97, 1)\n"
     ]
    }
   ],
   "source": [
    "#sklearn does not support\n",
    "from scipy.linalg import inv\n",
    "\n",
    "num_features = X_b.shape[1]-1;\n",
    "print(X_b.shape)\n",
    "#intercept only\n",
    "X_small = np.copy(X_b[:,0]).reshape(-1,1); #np.ones\n",
    "b_man  = scipy.linalg.inv(X_small.T.dot(X_small)).dot(X_small.T.dot(y_train));\n",
    "lr = LinearRegression();\n",
    "lr.fit(X_small, y_train);\n",
    "y_pred_sk  = lr.predict(X_small);\n",
    "print(X_small.shape)\n",
    "y_pred_man = X_small.dot(b_man);\n",
    "rss_sk  = np.sum(np.square(y_train-y_pred_sk));\n",
    "rss_man = np.sum(np.square(y_train-y_pred_man.reshape(y_train.shape)));\n",
    "best_fw_orth_dep_models = {num_features : dict()};\n",
    "best_fw_orth_dep_subset = dict();\n",
    "best_fw_orth_dep_subset['names']      = [\"intercept\",];\n",
    "best_fw_orth_dep_subset['indexes']    = [0]; #wrt X_with_bias_coeffs\n",
    "best_fw_orth_dep_subset['coeffs']     = b_man;\n",
    "best_fw_orth_dep_subset['err']        = rss_man;\n",
    "best_fw_orth_dep_subset['all_errors'] = [];\n",
    "best_fw_orth_dep_subset['skl_model']  = lr;\n",
    "best_fw_orth_dep_models[0] = best_fw_orth_dep_subset.copy();\n",
    "best_fw_orth_dep_models[\"error_sequence\"] = list();\n",
    "best_fw_orth_dep_models[\"error_sequence\"].append(best_fw_orth_dep_subset['err']);\n",
    "best_fw_orth_dep_subset['indexes'] = [0,];\n",
    "l_feat = list(X_train.columns);\n",
    "y_new  = y_train;\n",
    "for num_features in np.arange(1,len(X_train.columns)+1):\n",
    "    err = np.infty;\n",
    "    errors = {\"features\":list(), \"errors\":list()};\n",
    "    best_fw_orth_dep_subset['names'].append('')\n",
    "    best_fw_orth_dep_subset['indexes'].append(np.infty);\n",
    "    for ff in l_feat:\n",
    "        idx = best_fw_orth_dep_subset['indexes'][:-1];\n",
    "        idx.append(X_train.columns.get_loc(ff)+1);\n",
    "        X_small = X_b[:,idx];\n",
    "        b_man = inv(X_small.T.dot(X_small)).dot(X_small.T).dot(y_train);\n",
    "        lr = LinearRegression();\n",
    "        lr.fit(X_small[:,1:], y_train);\n",
    "        y_pred_sk  = lr.predict(X_small[:,1:]);\n",
    "        y_pred_man = X_small.dot(b_man);\n",
    "        rss_sk  = np.sum(np.square(y_train-y_pred_sk));\n",
    "        rss_man = np.sum(np.square(y_train-y_pred_man));\n",
    "        errors[\"features\"].append(ff);\n",
    "        errors['errors'].append(rss_man);\n",
    "        if rss_man < err:\n",
    "            err = rss_man;\n",
    "            #print(best_fw_subset['names'])\n",
    "            best_fw_orth_dep_subset['names'][-1]   = ff;\n",
    "            best_fw_orth_dep_subset['indexes'][-1] = idx[-1]; #wrt X_with_bias_coeffs\n",
    "            best_fw_orth_dep_subset['coeffs']      = b_man;\n",
    "            best_fw_orth_dep_subset['err']         = rss_man;\n",
    "            best_fw_orth_dep_subset['all_errors']  = errors;\n",
    "            best_fw_orth_dep_subset['skl_model']   = lr;\n",
    "\n",
    "    #here is the difference from normal forward stepwise\n",
    "    y_new = y_new - y_pred;\n",
    "    l_feat.remove(best_fw_orth_dep_subset['names'][-1]);\n",
    "    best_fw_orth_dep_models[\"error_sequence\"].append(best_fw_orth_dep_subset['err']);\n",
    "    best_fw_orth_dep_models[num_features] = best_fw_orth_dep_subset.copy();"
   ]
  },
  {
   "cell_type": "code",
   "execution_count": 131,
   "metadata": {},
   "outputs": [
    {
     "data": {
      "text/plain": [
       "array([2.47838688, 0.61657908, 0.28204449, 0.27415833])"
      ]
     },
     "execution_count": 131,
     "metadata": {},
     "output_type": "execute_result"
    }
   ],
   "source": [
    "best_models[3][\"coeffs\"]"
   ]
  },
  {
   "cell_type": "markdown",
   "metadata": {},
   "source": [
    "# QR forward stepwise"
   ]
  },
  {
   "cell_type": "code",
   "execution_count": 132,
   "metadata": {},
   "outputs": [
    {
     "name": "stdout",
     "output_type": "stream",
     "text": [
      "(97, 9)\n",
      "[ 2.47838688  0.63785585  0.25069461  0.29443703  0.14609653 -0.12180107]\n"
     ]
    }
   ],
   "source": [
    "#sklearn does not support\n",
    "from scipy.linalg import inv\n",
    "import scipy.linalg\n",
    "import scipy.linalg\n",
    "\n",
    "print(X_b.shape)\n",
    "\n",
    "num_features = X_b.shape[1]-1;\n",
    "l_feat = list(X_train.columns);\n",
    "y_new  = y_train;\n",
    "\n",
    "q1  = X_b[:,0];\n",
    "q1  = (q1/scipy.linalg.norm(q1));\n",
    "q1.reshape(-1,1);\n",
    "r   = q1.dot(X_b[:,0]);\n",
    "Q   = q1.reshape(-1,1);\n",
    "R   = np.array(r).reshape(1,1);\n",
    "y_hat = Q.dot(Q.T).dot(y_train);\n",
    "y_new = y_new-y_hat;\n",
    "rss_man = np.sum(np.square(y_train-y_hat));\n",
    "b_man = np.linalg.inv(R).dot(Q.T).dot(y_train);\n",
    "selected_idx = list();\n",
    "selected_idx.append(0);\n",
    "best_fw_qr_models = {num_features : dict()};\n",
    "best_fw_qr_subset = dict();\n",
    "best_fw_qr_subset['names']          = [\"intercept\",];\n",
    "best_fw_qr_subset['indexes']        = [0]; #wrt X_with_bias_coeffs\n",
    "best_fw_qr_subset['coeffs']         = b_man.copy();\n",
    "best_fw_qr_subset['err']            = rss_man;\n",
    "best_fw_qr_subset['all_errors']     = [];\n",
    "best_fw_qr_subset['skl_model']      = lr;\n",
    "best_fw_qr_subset['indexes']        = [0,];\n",
    "best_fw_qr_models[0]                = best_fw_qr_subset.copy();\n",
    "best_fw_qr_models[\"error_sequence\"] = list();\n",
    "best_fw_qr_models[\"error_sequence\"].append(best_fw_qr_subset['err']);\n",
    "for num_features in np.arange(1,len(X_train.columns)+1):\n",
    "    best_ = -np.infty;\n",
    "    errors = {\"features\":list(), \"errors\":list()};\n",
    "    #print(best_fw_qr_subset['names'])\n",
    "    best_fw_qr_subset['names'].append('');\n",
    "    best_fw_qr_subset['indexes'].append(np.infty);\n",
    "    #print(best_fw_qr_models[0]['coeffs'])\n",
    "    for ff in l_feat:\n",
    "        idx = X_train.columns.get_loc(ff)+1;\n",
    "        x_k = X_b[:,idx].reshape(-1,1);\n",
    "        residual = x_k - Q.dot(Q.T.dot(x_k));#x_k.T.dot(Q).dot(Q.T).T;\n",
    "        q_new = residual/scipy.linalg.norm(residual);\n",
    "        y_q_prod_sq = np.square(y_new.T.dot(q_new));\n",
    "        Q_temp = np.concatenate((Q,q_new), axis=1);\n",
    "        R_temp = np.concatenate((R,np.zeros((1,R.shape[1]))), axis=0);\n",
    "        R_temp = np.concatenate((R_temp, x_k.T.dot(Q_temp).T), axis =1)\n",
    "        y_hat = Q_temp.dot(Q_temp.T).dot(y_train);\n",
    "        rss_man = np.sum(np.square(y_train-y_hat));\n",
    "        errors[\"features\"].append(ff);\n",
    "        errors['errors'].append(rss_man);\n",
    "        if (y_q_prod_sq> best_):\n",
    "            q_best = q_new;\n",
    "            r_best = residual;\n",
    "            best_ = y_q_prod_sq;\n",
    "            best_ff = ff;\n",
    "            best_fw_qr_subset['err'] = rss_man;\n",
    "            x_best = x_k;\n",
    "\n",
    "    Q = np.concatenate((Q,q_best), axis=1);\n",
    "    R = np.concatenate((R,np.zeros((1,R.shape[1]))), axis=0);\n",
    "#    R = np.concatenate((R,x_k.T.dot(Q)), axis =1)\n",
    "    R = np.concatenate((R,Q.T.dot(x_best)), axis=1)\n",
    "    #here is the difference from normal forward stepwise\n",
    "    y_hat = Q.dot(Q.T).dot(y_train);\n",
    "    y_new = y_new - y_hat;#\n",
    "    b_man = np.linalg.inv(R.T.dot(R)).dot(R.T).dot(Q.T).dot(y_train);\n",
    "    best_fw_qr_subset['names'][-1]   = best_ff;\n",
    "    best_fw_qr_subset['indexes'][-1] = idx; #wrt X_with_bias_coeffs\n",
    "    best_fw_qr_subset['coeffs']      = b_man.copy();\n",
    "    best_fw_qr_subset['all_errors']  = errors;\n",
    "    l_feat.remove(best_ff);\n",
    "    best_fw_qr_models[\"error_sequence\"].append(best_fw_qr_subset['err']);\n",
    "    best_fw_qr_models[num_features] = best_fw_qr_subset.copy();\n",
    "print(best_fw_qr_models[5]['coeffs'])"
   ]
  },
  {
   "cell_type": "code",
   "execution_count": 133,
   "metadata": {},
   "outputs": [
    {
     "data": {
      "text/plain": [
       "array([ 2.47838688,  0.63785585,  0.25069461,  0.29443703,  0.14609653,\n",
       "       -0.12180107])"
      ]
     },
     "execution_count": 133,
     "metadata": {},
     "output_type": "execute_result"
    }
   ],
   "source": [
    "best_fw_qr_models[5]['coeffs']\n"
   ]
  },
  {
   "cell_type": "code",
   "execution_count": 134,
   "metadata": {},
   "outputs": [
    {
     "data": {
      "text/plain": [
       "array([ 2.47838688,  0.63785585,  0.25069461, -0.12180107,  0.14609653,\n",
       "        0.29443703])"
      ]
     },
     "execution_count": 134,
     "metadata": {},
     "output_type": "execute_result"
    }
   ],
   "source": [
    "best_models[5]['coeffs']"
   ]
  },
  {
   "cell_type": "code",
   "execution_count": 135,
   "metadata": {},
   "outputs": [
    {
     "data": {
      "text/plain": [
       "array([[9.8488578]])"
      ]
     },
     "execution_count": 135,
     "metadata": {},
     "output_type": "execute_result"
    }
   ],
   "source": [
    "np.array(r).reshape(1,1)"
   ]
  },
  {
   "cell_type": "code",
   "execution_count": 136,
   "metadata": {},
   "outputs": [],
   "source": [
    "R = np.concatenate((R,np.zeros((1,R.shape[1]))), axis=0);"
   ]
  },
  {
   "cell_type": "code",
   "execution_count": 137,
   "metadata": {},
   "outputs": [
    {
     "data": {
      "text/plain": [
       "array([[ 9.84885780e+00,  2.87141217e-16, -4.33133049e-15,\n",
       "        -3.17034112e-15, -6.08254021e-16,  4.20630455e-15,\n",
       "         9.69436548e-16,  3.00549941e-15, -2.69188418e-15],\n",
       "       [ 0.00000000e+00,  9.84885780e+00,  2.76281518e+00,\n",
       "         5.30700780e+00,  2.69363339e-01,  2.21599182e+00,\n",
       "         4.27097934e+00,  6.65103693e+00,  4.25881409e+00],\n",
       "       [ 0.00000000e+00,  0.00000000e+00,  9.45340427e+00,\n",
       "         4.33763147e-02,  4.45928730e+00,  2.92282306e+00,\n",
       "        -1.46678311e-01, -2.55514626e-01, -6.61005602e-01],\n",
       "       [ 0.00000000e+00,  0.00000000e+00,  0.00000000e+00,\n",
       "         8.29661296e+00, -1.19925263e+00, -5.71603672e-02,\n",
       "         2.61938946e+00,  3.61662807e+00,  1.02536997e+00],\n",
       "       [ 0.00000000e+00,  0.00000000e+00,  0.00000000e+00,\n",
       "         0.00000000e+00,  8.69505568e+00,  2.33107966e+00,\n",
       "         1.17947110e+00,  3.45733668e-01,  1.21663471e+00],\n",
       "       [ 0.00000000e+00,  0.00000000e+00,  0.00000000e+00,\n",
       "         0.00000000e+00,  0.00000000e+00,  8.83794580e+00,\n",
       "         1.71391081e+00, -2.49747212e-01,  1.78769239e+00],\n",
       "       [ 0.00000000e+00,  0.00000000e+00,  0.00000000e+00,\n",
       "         0.00000000e+00,  0.00000000e+00,  0.00000000e+00,\n",
       "         8.21872116e+00,  2.84244030e+00,  5.77507140e+00],\n",
       "       [ 0.00000000e+00,  0.00000000e+00,  0.00000000e+00,\n",
       "         0.00000000e+00,  0.00000000e+00,  0.00000000e+00,\n",
       "         0.00000000e+00,  5.59973653e+00,  2.40413429e-01],\n",
       "       [ 0.00000000e+00,  0.00000000e+00,  0.00000000e+00,\n",
       "         0.00000000e+00,  0.00000000e+00,  0.00000000e+00,\n",
       "         0.00000000e+00,  0.00000000e+00,  6.26808569e+00],\n",
       "       [ 0.00000000e+00,  0.00000000e+00,  0.00000000e+00,\n",
       "         0.00000000e+00,  0.00000000e+00,  0.00000000e+00,\n",
       "         0.00000000e+00,  0.00000000e+00,  0.00000000e+00]])"
      ]
     },
     "execution_count": 137,
     "metadata": {},
     "output_type": "execute_result"
    }
   ],
   "source": [
    "R"
   ]
  },
  {
   "cell_type": "markdown",
   "metadata": {},
   "source": [
    "# Backword stepwise"
   ]
  },
  {
   "cell_type": "code",
   "execution_count": 138,
   "metadata": {},
   "outputs": [
    {
     "name": "stdout",
     "output_type": "stream",
     "text": [
      "(97, 9) (9,)\n",
      "127.91765888525164\n"
     ]
    }
   ],
   "source": [
    "#sklearn does not support\n",
    "import itertools;\n",
    "from scipy.linalg import inv\n",
    "num_features = X_b.shape[1]-1;\n",
    "#intercept only\n",
    "X_small = X_b.copy();#np.copy(X_b[:,0]).reshape(-1,1); #np.ones\n",
    "b_man  = scipy.linalg.inv(X_small.T.dot(X_small)).dot(X_small.T.dot(y_train));\n",
    "lr = LinearRegression();\n",
    "lr.fit(X_small, y_train);\n",
    "y_pred_sk  = lr.predict(X_small);\n",
    "print(X_small.shape, b_man.shape)\n",
    "y_pred_man = X_small.dot(b_man.reshape(-1,1));\n",
    "rss_sk  = np.sum(np.square(y_train-y_pred_sk));\n",
    "rss_man = np.sum(np.square(y_train-y_pred_man.reshape(y_train.shape)));\n",
    "best_bw_models = {num_features : dict()};\n",
    "best_bw_subset = dict();\n",
    "best_bw_subset['names']      = list(X_train.columns);\n",
    "best_bw_subset['indexes']    = [ii for ii in np.arange(0,num_features+1)]; #wrt X_with_bias_coeffs\n",
    "best_bw_subset['coeffs']     = b_man;\n",
    "best_bw_subset['err']        = rss_man;\n",
    "best_bw_subset['all_errors'] = [];\n",
    "best_bw_subset['skl_model']  = lr;\n",
    "best_bw_models[num_features] = best_bw_subset.copy();\n",
    "best_bw_models[\"error_sequence\"] = list();\n",
    "best_bw_models[\"z_scores\"] = list();\n",
    "best_bw_models[\"error_sequence\"].append(best_fw_subset['err']);\n",
    "#best_bw_subset['indexes'] = [np.arange(0,num_features+1)];\n",
    "orig_num_features = num_features;\n",
    "indexes = [ii for ii in range(0,10)];\n",
    "for num_features in np.arange(1,len(X_train.columns)+1):\n",
    "    XX = scipy.linalg.inv(X_small.T.dot(X_small));\n",
    "    z_score_worst = np.infty;\n",
    "    errors = {\"features\":list(), \"errors\":list()};\n",
    "    normalized_rss = rss_man/(len(X_train-orig_num_features+num_features -1))\n",
    "    \n",
    "    for k,ff in enumerate(best_bw_subset['names']):\n",
    "        z_score = b_man[k]/(np.sqrt(normalized_rss*XX[k,k]));\n",
    "        best_bw_models[\"z_scores\"].append(z_scores);\n",
    "        if abs(z_score) < z_score_worst:\n",
    "            z_score_worst = z_score;\n",
    "            k_worst = k;\n",
    "            ff_worst = ff;\n",
    "            best_bw_subset['err'] = rss_man;\n",
    "\n",
    "    best_bw_subset['names'].remove(ff_worst);\n",
    "    best_bw_subset['indexes'].remove(X_train.columns.get_loc(ff_worst)+1);#wrt X_with_bias_coeffs\n",
    "    y_pred_man = X_small.dot(b_man);   \n",
    "    rss_man = np.sum(np.square(y_train-y_pred_man));\n",
    "    X_small = X_b[:, best_bw_subset['indexes']];\n",
    "    b_man  = scipy.linalg.inv(X_small.T.dot(X_small)).dot(X_small.T.dot(y_train));\n",
    "    best_bw_subset['coeffs'] = b_man.copy();\n",
    "    best_bw_subset['err']    = rss_man;\n",
    "    best_bw_models[orig_num_features-num_features] = best_bw_subset.copy();\n",
    "    best_bw_models[\"error_sequence\"].insert(0, best_bw_subset[\"err\"]);\n",
    "    \n",
    "\n",
    "\n",
    "#Now it contains only 0\n",
    "\n",
    "X_small = X_b[:, best_bw_subset['indexes']];\n",
    "b_man  = scipy.linalg.inv(X_small.T.dot(X_small)).dot(X_small.T.dot(y_train));\n",
    "y_pred_man = X_small.dot(b_man);   \n",
    "rss_man = np.sum(np.square(y_train-y_pred_man));\n",
    "print(rss_man)\n",
    "best_bw_subset['err']    = rss_man;\n",
    "best_bw_models[\"error_sequence\"].insert(0, best_bw_subset[\"err\"]);\n",
    "XX = scipy.linalg.inv(X_small.T.dot(X_small));\n",
    "errors = {\"features\":list(), \"errors\":list()};\n",
    "normalized_rss = rss_man/(len(X_train-orig_num_features+num_features -1))\n",
    "z_score = b_man[k]/(np.sqrt(normalized_rss*XX[k,k]));\n",
    "best_bw_subset['names'] = ['intercept',]\n",
    "        "
   ]
  },
  {
   "cell_type": "code",
   "execution_count": 139,
   "metadata": {},
   "outputs": [
    {
     "data": {
      "text/plain": [
       "array([ 2.47838688,  0.70243067,  0.32512188, -0.12620984,  0.18030652])"
      ]
     },
     "execution_count": 139,
     "metadata": {},
     "output_type": "execute_result"
    }
   ],
   "source": [
    "best_bw_models[4][\"coeffs\"]"
   ]
  },
  {
   "cell_type": "code",
   "execution_count": 140,
   "metadata": {},
   "outputs": [
    {
     "data": {
      "text/plain": [
       "array([2.47838688, 0.61967302, 0.22845699, 0.29055615, 0.11344257])"
      ]
     },
     "execution_count": 140,
     "metadata": {},
     "output_type": "execute_result"
    }
   ],
   "source": [
    "best_fw_models[4][\"coeffs\"]"
   ]
  },
  {
   "cell_type": "markdown",
   "metadata": {},
   "source": [
    "# Stagewise regression"
   ]
  },
  {
   "cell_type": "code",
   "execution_count": 190,
   "metadata": {},
   "outputs": [
    {
     "name": "stdout",
     "output_type": "stream",
     "text": [
      "(97, 9)\n",
      "0.8434274382607599\n",
      "0.8434274382607599\n",
      "[0.26100874]\n",
      "[0.26100874]\n",
      "[0.15519087]\n",
      "[0.15519087]\n",
      "[-0.15684236]\n",
      "[-0.15684236]\n",
      "[0.08818995]\n",
      "[0.08818995]\n",
      "[-0.09316011]\n",
      "[-0.09316011]\n",
      "[0.11129984]\n",
      "[0.11129984]\n",
      "[0.06466917]\n",
      "[0.06466917]\n",
      "[-0.06737883]\n",
      "[-0.06737883]\n",
      "[0.04535345]\n",
      "[0.04535345]\n",
      "[-0.04331858]\n",
      "[-0.04331858]\n",
      "[-0.02499753]\n",
      "[-0.02499753]\n",
      "[0.03693757]\n",
      "[0.03693757]\n",
      "[-0.02350057]\n",
      "[-0.02350057]\n",
      "[0.02171228]\n",
      "[0.02171228]\n",
      "[0.01954552]\n",
      "[0.01954552]\n",
      "[-0.02046127]\n",
      "[-0.02046127]\n",
      "[0.02127011]\n",
      "[0.02127011]\n",
      "[-0.01473005]\n",
      "[-0.01473005]\n",
      "[-0.00906994]\n",
      "[-0.00906994]\n",
      "[0.01479569]\n",
      "[0.01479569]\n",
      "[-0.00995915]\n",
      "[-0.00995915]\n",
      "[0.00901681]\n",
      "[0.00901681]\n",
      "[0.00547287]\n",
      "[0.00547287]\n",
      "[-0.00460382]\n",
      "[-0.00460382]\n",
      "[0.00738321]\n",
      "[0.00738321]\n",
      "[-0.00496972]\n",
      "[-0.00496972]\n",
      "[0.00334517]\n",
      "[0.00334517]\n",
      "[-0.00369254]\n",
      "[-0.00369254]\n",
      "[0.0031471]\n",
      "[0.0031471]\n",
      "[-0.00229807]\n",
      "[-0.00229807]\n",
      "[0.00306234]\n",
      "[0.00306234]\n",
      "[-0.00162514]\n",
      "[-0.00162514]\n",
      "[-0.0013691]\n",
      "[-0.0013691]\n",
      "[0.00162386]\n",
      "[0.00162386]\n",
      "[0.0011997]\n",
      "[0.0011997]\n",
      "[-0.00111989]\n",
      "[-0.00111989]\n",
      "[0.00101244]\n",
      "[0.00101244]\n",
      "[-0.0008496]\n"
     ]
    }
   ],
   "source": [
    "#sklearn does not support\n",
    "import itertools;\n",
    "from scipy.linalg import inv\n",
    "\n",
    "\n",
    "print(X_b.shape)\n",
    "#intercept only\n",
    "X_small = np.copy(X_b[:,0]).reshape(-1,1); #np.ones\n",
    "b_man  = scipy.linalg.inv(X_small.T.dot(X_small)).dot(X_small.T.dot(y_train));\n",
    "\n",
    "y_pred_man = X_small.dot(b_man);\n",
    "rss_man = np.sum(np.square(y_train-y_pred_man.reshape(y_train.shape)));\n",
    "best_sw_models = dict();\n",
    "\n",
    "residual = y_train - y_pred_man;\n",
    "best_sw_models['coeffs'] = np.concatenate((b_man.reshape(1,1), np.zeros((X_train.shape[1],1))), axis=0);\n",
    "#best_sw_models['error_sequence'] = list();\n",
    "#best_sw_models['error_sequence'].append(residual);\n",
    "#best_sw_models['coeffs_history'] = list();\n",
    "#best_sw_models['coeffs_history'].append(b_man);\n",
    "\n",
    "#best_sw_models['coeffs_updated'] = list();\n",
    "#best_sw_models['coeffs_updated'].append(0);\n",
    "count = 0;\n",
    "\n",
    "l_feat = list(X_train.columns);\n",
    "while 1:\n",
    "    #print(residual)\n",
    "    max_corr = 0;\n",
    "    for ff in l_feat:\n",
    "        idx = X_train.columns.get_loc(ff)+1;\n",
    "        x_k = X_b[:,idx];\n",
    "        corr = x_k.dot(residual)/len(x_k);\n",
    "        if abs(corr) > abs(max_corr):\n",
    "           max_idx = idx;\n",
    "           max_corr = corr;\n",
    "    print(max_corr)\n",
    "    if abs(max_corr)<0.001 or count>10000:\n",
    "        break;\n",
    "    print(max_corr)\n",
    "    x_most_corr = X_b[:, max_idx];\n",
    "    b_most_corr = (x_most_corr.T.dot(x_most_corr))**(-1)*(x_most_corr.T.dot(residual));\n",
    "    best_sw_models['coeffs'][max_idx] = best_sw_models['coeffs'][max_idx] + b_most_corr;\n",
    "    y_hat = X_b.dot(best_sw_models['coeffs']);\n",
    "    residual = y_train.values.reshape(-1,1) - y_hat;\n",
    "    #best_sw_models['error_sequence'].append(residual);\n",
    "    count += 1;"
   ]
  },
  {
   "cell_type": "code",
   "execution_count": 191,
   "metadata": {},
   "outputs": [
    {
     "data": {
      "text/plain": [
       "array([[ 2.47838688],\n",
       "       [ 0.66196462],\n",
       "       [ 0.26415584],\n",
       "       [-0.15652642],\n",
       "       [ 0.13968469],\n",
       "       [ 0.31190695],\n",
       "       [-0.14510743],\n",
       "       [ 0.0343617 ],\n",
       "       [ 0.12512751]])"
      ]
     },
     "execution_count": 191,
     "metadata": {},
     "output_type": "execute_result"
    }
   ],
   "source": [
    "best_sw_models['coeffs']"
   ]
  },
  {
   "cell_type": "code",
   "execution_count": 173,
   "metadata": {},
   "outputs": [
    {
     "data": {
      "text/plain": [
       "array([ 2.47838688,  0.6617092 ,  0.26510309, -0.15737767,  0.13958604,\n",
       "        0.31369926, -0.14751935,  0.03536545,  0.1250701 ])"
      ]
     },
     "execution_count": 173,
     "metadata": {},
     "output_type": "execute_result"
    }
   ],
   "source": [
    "best_models[8]['coeffs']"
   ]
  },
  {
   "cell_type": "code",
   "execution_count": null,
   "metadata": {},
   "outputs": [],
   "source": []
  }
 ],
 "metadata": {
  "kernelspec": {
   "display_name": "Python 3",
   "language": "python",
   "name": "python3"
  },
  "language_info": {
   "codemirror_mode": {
    "name": "ipython",
    "version": 3
   },
   "file_extension": ".py",
   "mimetype": "text/x-python",
   "name": "python",
   "nbconvert_exporter": "python",
   "pygments_lexer": "ipython3",
   "version": "3.7.3"
  }
 },
 "nbformat": 4,
 "nbformat_minor": 2
}
